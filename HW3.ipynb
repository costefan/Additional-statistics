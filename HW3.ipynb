{
 "cells": [
  {
   "cell_type": "code",
   "execution_count": 1,
   "metadata": {
    "collapsed": false
   },
   "outputs": [
    {
     "name": "stderr",
     "output_type": "stream",
     "text": [
      "/Users/costefan/.pyenv/versions/anaconda3-4.3.0/lib/python3.6/site-packages/matplotlib/__init__.py:1120: UserWarning: Bad val \"TkAggX\" on line #1\n",
      "\t\"backend: TkAggX\n",
      "\"\n",
      "\tin file \"/Users/costefan/.matplotlib/matplotlibrc\"\n",
      "\tKey backend: Unrecognized backend string \"tkaggx\": valid strings are ['GTK', 'GTKAgg', 'GTKCairo', 'MacOSX', 'Qt4Agg', 'Qt5Agg', 'TkAgg', 'WX', 'WXAgg', 'GTK3Cairo', 'GTK3Agg', 'WebAgg', 'nbAgg', 'agg', 'cairo', 'gdk', 'pdf', 'pgf', 'ps', 'svg', 'template']\n",
      "  (val, error_details, msg))\n"
     ]
    }
   ],
   "source": [
    "import numpy as np\n",
    "import pandas as pd\n",
    "from matplotlib import pyplot as plt"
   ]
  },
  {
   "cell_type": "code",
   "execution_count": 2,
   "metadata": {
    "collapsed": true
   },
   "outputs": [],
   "source": [
    "%matplotlib inline"
   ]
  },
  {
   "cell_type": "markdown",
   "metadata": {},
   "source": [
    "# 1)"
   ]
  },
  {
   "cell_type": "markdown",
   "metadata": {},
   "source": [
    "## a."
   ]
  },
  {
   "cell_type": "markdown",
   "metadata": {},
   "source": [
    "Lasso is regression with adding regilarizator L1 to linear model, to avoid overfitting of model. <br/>\n",
    "We want to minimize residuals, and coefficients in linear regression(big coeffs - is the signal, that model is overfitted) <br/> \n",
    "So we add to the model norm of vector of coeffs with some multiplier Lambda. <br />\n",
    "Also Lasso regression, unlike Ridge, is not smooth, and can assign coeffs to nulls (select subset)."
   ]
  },
  {
   "cell_type": "markdown",
   "metadata": {},
   "source": [
    "## b."
   ]
  },
  {
   "cell_type": "markdown",
   "metadata": {},
   "source": [
    "Cause by doing Regularization we are trying to fix scales of coeffs, and if our $x$`s is not standartized, it has influence in all model. cause if we'll have different dimensions of x, we would not conclude anything, cause mathematically coefficients of x would not mean anything without scaling x."
   ]
  },
  {
   "cell_type": "markdown",
   "metadata": {},
   "source": [
    "## c."
   ]
  },
  {
   "cell_type": "code",
   "execution_count": 3,
   "metadata": {
    "collapsed": true
   },
   "outputs": [],
   "source": [
    "df = pd.read_excel('ceo.xls')"
   ]
  },
  {
   "cell_type": "code",
   "execution_count": 4,
   "metadata": {
    "collapsed": true
   },
   "outputs": [],
   "source": [
    "cols = ['salary', 'totcomp', 'tenure', 'age', 'sales', 'profits', 'assets']"
   ]
  },
  {
   "cell_type": "code",
   "execution_count": 5,
   "metadata": {
    "collapsed": false
   },
   "outputs": [],
   "source": [
    "df = df[cols]"
   ]
  },
  {
   "cell_type": "code",
   "execution_count": 6,
   "metadata": {
    "collapsed": false
   },
   "outputs": [],
   "source": [
    "X, y = df.drop('salary', axis=1).as_matrix(), df['salary'].as_matrix()"
   ]
  },
  {
   "cell_type": "code",
   "execution_count": 7,
   "metadata": {
    "collapsed": false
   },
   "outputs": [
    {
     "data": {
      "text/html": [
       "<div>\n",
       "<table border=\"1\" class=\"dataframe\">\n",
       "  <thead>\n",
       "    <tr style=\"text-align: right;\">\n",
       "      <th></th>\n",
       "      <th>salary</th>\n",
       "      <th>totcomp</th>\n",
       "      <th>tenure</th>\n",
       "      <th>age</th>\n",
       "      <th>sales</th>\n",
       "      <th>profits</th>\n",
       "      <th>assets</th>\n",
       "    </tr>\n",
       "  </thead>\n",
       "  <tbody>\n",
       "    <tr>\n",
       "      <th>0</th>\n",
       "      <td>3030</td>\n",
       "      <td>8138</td>\n",
       "      <td>7</td>\n",
       "      <td>61</td>\n",
       "      <td>161315.0</td>\n",
       "      <td>2956.0</td>\n",
       "      <td>257389.0</td>\n",
       "    </tr>\n",
       "    <tr>\n",
       "      <th>1</th>\n",
       "      <td>6050</td>\n",
       "      <td>14530</td>\n",
       "      <td>0</td>\n",
       "      <td>51</td>\n",
       "      <td>144416.0</td>\n",
       "      <td>22071.0</td>\n",
       "      <td>237545.0</td>\n",
       "    </tr>\n",
       "    <tr>\n",
       "      <th>2</th>\n",
       "      <td>3571</td>\n",
       "      <td>7433</td>\n",
       "      <td>11</td>\n",
       "      <td>63</td>\n",
       "      <td>139208.0</td>\n",
       "      <td>4430.0</td>\n",
       "      <td>49271.0</td>\n",
       "    </tr>\n",
       "    <tr>\n",
       "      <th>3</th>\n",
       "      <td>3300</td>\n",
       "      <td>13464</td>\n",
       "      <td>6</td>\n",
       "      <td>60</td>\n",
       "      <td>100697.0</td>\n",
       "      <td>6370.0</td>\n",
       "      <td>92630.0</td>\n",
       "    </tr>\n",
       "    <tr>\n",
       "      <th>4</th>\n",
       "      <td>10000</td>\n",
       "      <td>68285</td>\n",
       "      <td>18</td>\n",
       "      <td>63</td>\n",
       "      <td>100469.0</td>\n",
       "      <td>9296.0</td>\n",
       "      <td>355935.0</td>\n",
       "    </tr>\n",
       "  </tbody>\n",
       "</table>\n",
       "</div>"
      ],
      "text/plain": [
       "   salary  totcomp  tenure  age     sales  profits    assets\n",
       "0    3030     8138       7   61  161315.0   2956.0  257389.0\n",
       "1    6050    14530       0   51  144416.0  22071.0  237545.0\n",
       "2    3571     7433      11   63  139208.0   4430.0   49271.0\n",
       "3    3300    13464       6   60  100697.0   6370.0   92630.0\n",
       "4   10000    68285      18   63  100469.0   9296.0  355935.0"
      ]
     },
     "execution_count": 7,
     "metadata": {},
     "output_type": "execute_result"
    }
   ],
   "source": [
    "df.head()"
   ]
  },
  {
   "cell_type": "code",
   "execution_count": 8,
   "metadata": {
    "collapsed": false
   },
   "outputs": [],
   "source": [
    "from sklearn.preprocessing import StandardScaler"
   ]
  },
  {
   "cell_type": "code",
   "execution_count": 9,
   "metadata": {
    "collapsed": true
   },
   "outputs": [],
   "source": [
    "from sklearn.linear_model import Lasso"
   ]
  },
  {
   "cell_type": "code",
   "execution_count": 10,
   "metadata": {
    "collapsed": true
   },
   "outputs": [],
   "source": [
    "from sklearn.pipeline import Pipeline"
   ]
  },
  {
   "cell_type": "markdown",
   "metadata": {},
   "source": [
    "## Split data on train/test"
   ]
  },
  {
   "cell_type": "code",
   "execution_count": 11,
   "metadata": {
    "collapsed": false
   },
   "outputs": [
    {
     "name": "stderr",
     "output_type": "stream",
     "text": [
      "/Users/costefan/.pyenv/versions/anaconda3-4.3.0/lib/python3.6/site-packages/sklearn/cross_validation.py:44: DeprecationWarning: This module was deprecated in version 0.18 in favor of the model_selection module into which all the refactored classes and functions are moved. Also note that the interface of the new CV iterators are different from that of this module. This module will be removed in 0.20.\n",
      "  \"This module will be removed in 0.20.\", DeprecationWarning)\n"
     ]
    }
   ],
   "source": [
    "from sklearn.cross_validation import train_test_split"
   ]
  },
  {
   "cell_type": "code",
   "execution_count": 12,
   "metadata": {
    "collapsed": false
   },
   "outputs": [],
   "source": [
    "X_train, X_test, y_train, y_test = train_test_split(X, y, test_size=0.3)"
   ]
  },
  {
   "cell_type": "code",
   "execution_count": 13,
   "metadata": {
    "collapsed": false
   },
   "outputs": [
    {
     "data": {
      "text/plain": [
       "array([[  9.08000000e+02,   2.00000000e+00,   5.20000000e+01,\n",
       "          8.57540000e+03,   5.05000000e+01,   1.55230000e+03],\n",
       "       [  1.44900000e+03,   1.40000000e+01,   4.50000000e+01,\n",
       "          1.25634000e+04,   1.32200000e+02,   5.99150000e+03],\n",
       "       [  2.55700000e+03,   5.00000000e+00,   5.80000000e+01,\n",
       "          2.68982000e+04,   5.24820000e+03,   3.18534000e+04],\n",
       "       ..., \n",
       "       [  4.44100000e+03,   1.00000000e+01,   6.10000000e+01,\n",
       "          3.21990000e+03,   6.07100000e+02,   3.66008000e+04],\n",
       "       [  2.68300000e+03,   6.00000000e+00,   6.30000000e+01,\n",
       "          4.63300000e+03,   3.19600000e+02,   3.52480000e+03],\n",
       "       [  6.67500000e+03,   5.00000000e+00,   5.80000000e+01,\n",
       "          6.14900000e+03,   6.40000000e+01,   8.72600000e+03]])"
      ]
     },
     "execution_count": 13,
     "metadata": {},
     "output_type": "execute_result"
    }
   ],
   "source": [
    "X_train"
   ]
  },
  {
   "cell_type": "code",
   "execution_count": 14,
   "metadata": {
    "collapsed": true
   },
   "outputs": [],
   "source": [
    "scaler = StandardScaler()"
   ]
  },
  {
   "cell_type": "code",
   "execution_count": 15,
   "metadata": {
    "collapsed": true
   },
   "outputs": [],
   "source": [
    "sc = scaler.fit(X_train)"
   ]
  },
  {
   "cell_type": "code",
   "execution_count": 16,
   "metadata": {
    "collapsed": false
   },
   "outputs": [],
   "source": [
    "X_train_scaled = sc.transform(X_train)"
   ]
  },
  {
   "cell_type": "code",
   "execution_count": 17,
   "metadata": {
    "collapsed": false
   },
   "outputs": [
    {
     "data": {
      "text/plain": [
       "array([[-0.22449572, -0.67506968, -0.65546823, -0.19709338, -0.41304563,\n",
       "        -0.42687219],\n",
       "       [-0.2098598 ,  0.79866844, -1.66430727,  0.02512282, -0.36439974,\n",
       "        -0.35324488],\n",
       "       [-0.17988456, -0.30663515,  0.20925096,  0.82387528,  2.68177397,\n",
       "         0.0756932 ],\n",
       "       ..., \n",
       "       [-0.12891583,  0.3074224 ,  0.64161055, -0.49550834, -0.08163431,\n",
       "         0.15443222],\n",
       "       [-0.17647582, -0.18382364,  0.92985027, -0.41676869, -0.25281785,\n",
       "        -0.39415687],\n",
       "       [-0.06847839, -0.30663515,  0.20925096, -0.33229533, -0.40500745,\n",
       "        -0.30789125]])"
      ]
     },
     "execution_count": 17,
     "metadata": {},
     "output_type": "execute_result"
    }
   ],
   "source": [
    "X_train_scaled"
   ]
  },
  {
   "cell_type": "markdown",
   "metadata": {},
   "source": [
    "## Scatter plots"
   ]
  },
  {
   "cell_type": "code",
   "execution_count": 18,
   "metadata": {
    "collapsed": false
   },
   "outputs": [
    {
     "data": {
      "image/png": "[encoded data removed]",
      "text/plain": [
       "<matplotlib.figure.Figure at 0x1141b9dd8>"
      ]
     },
     "metadata": {},
     "output_type": "display_data"
    }
   ],
   "source": [
    "colors = \"bgrcmykw\"\n",
    "\n",
    "for index in range(len(cols) - 1):\n",
    "    plt.scatter(list(map(lambda x: x[index], X_train_scaled)), y_train)"
   ]
  },
  {
   "cell_type": "code",
   "execution_count": 19,
   "metadata": {
    "collapsed": true
   },
   "outputs": [],
   "source": [
    "from sklearn.linear_model import LassoCV"
   ]
  },
  {
   "cell_type": "code",
   "execution_count": 20,
   "metadata": {
    "collapsed": true
   },
   "outputs": [],
   "source": [
    "lasso_regression = Lasso()"
   ]
  },
  {
   "cell_type": "code",
   "execution_count": 21,
   "metadata": {
    "collapsed": false
   },
   "outputs": [],
   "source": [
    "lasso_params = {\n",
    "    'alpha': np.arange(0.1, 1, 0.02)\n",
    "}"
   ]
  },
  {
   "cell_type": "code",
   "execution_count": 22,
   "metadata": {
    "collapsed": true
   },
   "outputs": [],
   "source": [
    "from sklearn.model_selection import GridSearchCV"
   ]
  },
  {
   "cell_type": "code",
   "execution_count": 23,
   "metadata": {
    "collapsed": true
   },
   "outputs": [],
   "source": [
    "lasso_grid = GridSearchCV(\n",
    "    lasso_regression,\n",
    "    lasso_params,\n",
    "    cv=5,\n",
    "    n_jobs=-1\n",
    ")"
   ]
  },
  {
   "cell_type": "code",
   "execution_count": 24,
   "metadata": {
    "collapsed": false
   },
   "outputs": [
    {
     "data": {
      "text/plain": [
       "GridSearchCV(cv=5, error_score='raise',\n",
       "       estimator=Lasso(alpha=1.0, copy_X=True, fit_intercept=True, max_iter=1000,\n",
       "   normalize=False, positive=False, precompute=False, random_state=None,\n",
       "   selection='cyclic', tol=0.0001, warm_start=False),\n",
       "       fit_params={}, iid=True, n_jobs=-1,\n",
       "       param_grid={'alpha': array([ 0.1 ,  0.12,  0.14,  0.16,  0.18,  0.2 ,  0.22,  0.24,  0.26,\n",
       "        0.28,  0.3 ,  0.32,  0.34,  0.36,  0.38,  0.4 ,  0.42,  0.44,\n",
       "        0.46,  0.48,  0.5 ,  0.52,  0.54,  0.56,  0.58,  0.6 ,  0.62,\n",
       "        0.64,  0.66,  0.68,  0.7 ,  0.72,  0.74,  0.76,  0.78,  0.8 ,\n",
       "        0.82,  0.84,  0.86,  0.88,  0.9 ,  0.92,  0.94,  0.96,  0.98])},\n",
       "       pre_dispatch='2*n_jobs', refit=True, return_train_score=True,\n",
       "       scoring=None, verbose=0)"
      ]
     },
     "execution_count": 24,
     "metadata": {},
     "output_type": "execute_result"
    }
   ],
   "source": [
    "lasso_grid.fit(X_train_scaled, y_train)"
   ]
  },
  {
   "cell_type": "code",
   "execution_count": 25,
   "metadata": {
    "collapsed": false
   },
   "outputs": [
    {
     "data": {
      "text/plain": [
       "{'alpha': 0.98000000000000009}"
      ]
     },
     "execution_count": 25,
     "metadata": {},
     "output_type": "execute_result"
    }
   ],
   "source": [
    "lasso_grid.best_params_"
   ]
  },
  {
   "cell_type": "code",
   "execution_count": 26,
   "metadata": {
    "collapsed": false
   },
   "outputs": [
    {
     "data": {
      "text/plain": [
       "-0.29383369316574404"
      ]
     },
     "execution_count": 26,
     "metadata": {},
     "output_type": "execute_result"
    }
   ],
   "source": [
    "lasso_grid.best_score_"
   ]
  },
  {
   "cell_type": "code",
   "execution_count": 27,
   "metadata": {
    "collapsed": false
   },
   "outputs": [
    {
     "data": {
      "text/plain": [
       "{'mean_fit_time': array([ 0.00659504,  0.00073223,  0.00049472,  0.00049219,  0.00047622,\n",
       "         0.00051827,  0.00047474,  0.00047717,  0.00052457,  0.00047879,\n",
       "         0.0004735 ,  0.0005116 ,  0.00052981,  0.00052266,  0.00046797,\n",
       "         0.00055184,  0.00039206,  0.00043874,  0.00047278,  0.0004921 ,\n",
       "         0.00038781,  0.00041356,  0.00076885,  0.00042005,  0.00030909,\n",
       "         0.00046163,  0.00051575,  0.00047846,  0.00034966,  0.00044718,\n",
       "         0.00040374,  0.00045648,  0.00042386,  0.00032458,  0.00038667,\n",
       "         0.00035963,  0.00033283,  0.00029759,  0.00029573,  0.0003037 ,\n",
       "         0.00029597,  0.00028577,  0.00029216,  0.00029469,  0.00031066]),\n",
       " 'mean_score_time': array([ 0.00210934,  0.00028563,  0.00027366,  0.00027418,  0.00027127,\n",
       "         0.00027137,  0.00027647,  0.00027647,  0.00027704,  0.00028291,\n",
       "         0.00027924,  0.00026846,  0.0002789 ,  0.00027738,  0.00030336,\n",
       "         0.00028114,  0.00023746,  0.00026808,  0.0003356 ,  0.00027337,\n",
       "         0.00022478,  0.00027304,  0.00027804,  0.00023637,  0.00018125,\n",
       "         0.00028481,  0.0002882 ,  0.00028858,  0.00018415,  0.00026722,\n",
       "         0.00024805,  0.00028892,  0.00025578,  0.00017996,  0.0002068 ,\n",
       "         0.00021024,  0.00019264,  0.0001708 ,  0.00017109,  0.00016847,\n",
       "         0.00018172,  0.00016851,  0.00016918,  0.00016961,  0.00017204]),\n",
       " 'mean_test_score': array([-0.29819545, -0.29809645, -0.2979969 , -0.29789764, -0.29779816,\n",
       "        -0.29769892, -0.29759985, -0.29750063, -0.29740141, -0.29730225,\n",
       "        -0.29720305, -0.29710386, -0.29700468, -0.29690551, -0.29680635,\n",
       "        -0.29670719, -0.29660805, -0.29650891, -0.29640978, -0.29631103,\n",
       "        -0.29621094, -0.29611184, -0.29601274, -0.29591366, -0.29581458,\n",
       "        -0.29571551, -0.29561645, -0.2955174 , -0.29541904, -0.29532   ,\n",
       "        -0.29522098, -0.29512196, -0.29502295, -0.29492395, -0.29482496,\n",
       "        -0.29472597, -0.294627  , -0.29452803, -0.29442907, -0.29433012,\n",
       "        -0.29423118, -0.29413225, -0.29403152, -0.2939326 , -0.29383369]),\n",
       " 'mean_train_score': array([ 0.38104142,  0.38104141,  0.38104141,  0.3810414 ,  0.38104138,\n",
       "         0.38104137,  0.38104136,  0.38104134,  0.38104132,  0.38104131,\n",
       "         0.38104129,  0.38104127,  0.38104124,  0.38104122,  0.38104119,\n",
       "         0.38104117,  0.38104114,  0.38104111,  0.38104108,  0.38104105,\n",
       "         0.38104102,  0.38104098,  0.38104095,  0.38104091,  0.38104087,\n",
       "         0.38104083,  0.38104079,  0.38104075,  0.3810407 ,  0.38104066,\n",
       "         0.38104061,  0.38104056,  0.38104051,  0.38104046,  0.38104041,\n",
       "         0.38104036,  0.3810403 ,  0.38104025,  0.38104019,  0.38104013,\n",
       "         0.38104007,  0.38104001,  0.38103995,  0.38103988,  0.38103982]),\n",
       " 'param_alpha': masked_array(data = [0.10000000000000001 0.12000000000000001 0.14000000000000001\n",
       "  0.16000000000000003 0.18000000000000002 0.20000000000000001\n",
       "  0.22000000000000003 0.24000000000000002 0.26000000000000001\n",
       "  0.28000000000000003 0.30000000000000004 0.32000000000000006\n",
       "  0.34000000000000008 0.3600000000000001 0.38 0.40000000000000002\n",
       "  0.42000000000000004 0.44000000000000006 0.46000000000000008\n",
       "  0.48000000000000009 0.50000000000000011 0.52000000000000013\n",
       "  0.54000000000000004 0.56000000000000005 0.58000000000000007\n",
       "  0.60000000000000009 0.62000000000000011 0.64000000000000012\n",
       "  0.66000000000000003 0.68000000000000005 0.70000000000000007\n",
       "  0.72000000000000008 0.7400000000000001 0.76000000000000012\n",
       "  0.78000000000000014 0.80000000000000016 0.82000000000000017\n",
       "  0.84000000000000008 0.8600000000000001 0.88000000000000012\n",
       "  0.90000000000000013 0.92000000000000015 0.94000000000000017\n",
       "  0.96000000000000019 0.98000000000000009],\n",
       "              mask = [False False False False False False False False False False False False\n",
       "  False False False False False False False False False False False False\n",
       "  False False False False False False False False False False False False\n",
       "  False False False False False False False False False],\n",
       "        fill_value = ?),\n",
       " 'params': ({'alpha': 0.10000000000000001},\n",
       "  {'alpha': 0.12000000000000001},\n",
       "  {'alpha': 0.14000000000000001},\n",
       "  {'alpha': 0.16000000000000003},\n",
       "  {'alpha': 0.18000000000000002},\n",
       "  {'alpha': 0.20000000000000001},\n",
       "  {'alpha': 0.22000000000000003},\n",
       "  {'alpha': 0.24000000000000002},\n",
       "  {'alpha': 0.26000000000000001},\n",
       "  {'alpha': 0.28000000000000003},\n",
       "  {'alpha': 0.30000000000000004},\n",
       "  {'alpha': 0.32000000000000006},\n",
       "  {'alpha': 0.34000000000000008},\n",
       "  {'alpha': 0.3600000000000001},\n",
       "  {'alpha': 0.38},\n",
       "  {'alpha': 0.40000000000000002},\n",
       "  {'alpha': 0.42000000000000004},\n",
       "  {'alpha': 0.44000000000000006},\n",
       "  {'alpha': 0.46000000000000008},\n",
       "  {'alpha': 0.48000000000000009},\n",
       "  {'alpha': 0.50000000000000011},\n",
       "  {'alpha': 0.52000000000000013},\n",
       "  {'alpha': 0.54000000000000004},\n",
       "  {'alpha': 0.56000000000000005},\n",
       "  {'alpha': 0.58000000000000007},\n",
       "  {'alpha': 0.60000000000000009},\n",
       "  {'alpha': 0.62000000000000011},\n",
       "  {'alpha': 0.64000000000000012},\n",
       "  {'alpha': 0.66000000000000003},\n",
       "  {'alpha': 0.68000000000000005},\n",
       "  {'alpha': 0.70000000000000007},\n",
       "  {'alpha': 0.72000000000000008},\n",
       "  {'alpha': 0.7400000000000001},\n",
       "  {'alpha': 0.76000000000000012},\n",
       "  {'alpha': 0.78000000000000014},\n",
       "  {'alpha': 0.80000000000000016},\n",
       "  {'alpha': 0.82000000000000017},\n",
       "  {'alpha': 0.84000000000000008},\n",
       "  {'alpha': 0.8600000000000001},\n",
       "  {'alpha': 0.88000000000000012},\n",
       "  {'alpha': 0.90000000000000013},\n",
       "  {'alpha': 0.92000000000000015},\n",
       "  {'alpha': 0.94000000000000017},\n",
       "  {'alpha': 0.96000000000000019},\n",
       "  {'alpha': 0.98000000000000009}),\n",
       " 'rank_test_score': array([45, 44, 43, 42, 41, 40, 39, 38, 37, 36, 35, 34, 33, 32, 31, 30, 29,\n",
       "        28, 27, 26, 25, 24, 23, 22, 21, 20, 19, 18, 17, 16, 15, 14, 13, 12,\n",
       "        11, 10,  9,  8,  7,  6,  5,  4,  3,  2,  1], dtype=int32),\n",
       " 'split0_test_score': array([ 0.68870676,  0.68870843,  0.6887101 ,  0.68871176,  0.68871342,\n",
       "         0.68871508,  0.68871617,  0.68871783,  0.68871948,  0.68872113,\n",
       "         0.68872278,  0.68872443,  0.68872608,  0.68872772,  0.68872936,\n",
       "         0.688731  ,  0.68873264,  0.68873428,  0.68873591,  0.68873632,\n",
       "         0.68873795,  0.68873958,  0.6887412 ,  0.68874283,  0.68874445,\n",
       "         0.68874608,  0.6887477 ,  0.68874931,  0.68875093,  0.68875254,\n",
       "         0.68875416,  0.68875577,  0.68875737,  0.68875898,  0.68876059,\n",
       "         0.68876219,  0.68876379,  0.68876539,  0.68876699,  0.68876858,\n",
       "         0.68877017,  0.68877177,  0.68877336,  0.68877494,  0.68877653]),\n",
       " 'split0_train_score': array([ 0.30432672,  0.30432672,  0.30432671,  0.3043267 ,  0.3043267 ,\n",
       "         0.30432669,  0.30432668,  0.30432667,  0.30432665,  0.30432664,\n",
       "         0.30432663,  0.30432661,  0.3043266 ,  0.30432658,  0.30432657,\n",
       "         0.30432655,  0.30432653,  0.30432651,  0.30432649,  0.30432646,\n",
       "         0.30432644,  0.30432642,  0.30432639,  0.30432637,  0.30432634,\n",
       "         0.30432631,  0.30432629,  0.30432626,  0.30432623,  0.3043262 ,\n",
       "         0.30432616,  0.30432613,  0.3043261 ,  0.30432606,  0.30432603,\n",
       "         0.30432599,  0.30432595,  0.30432591,  0.30432587,  0.30432583,\n",
       "         0.30432579,  0.30432575,  0.30432571,  0.30432566,  0.30432562]),\n",
       " 'split1_test_score': array([ 0.22293587,  0.22294361,  0.22295273,  0.22296048,  0.22296822,\n",
       "         0.22297595,  0.22298369,  0.22299143,  0.22299916,  0.22300947,\n",
       "         0.2230172 ,  0.22302493,  0.22303266,  0.22304039,  0.22304811,\n",
       "         0.22305584,  0.22306356,  0.22307128,  0.223079  ,  0.22308672,\n",
       "         0.22309925,  0.22310697,  0.22311468,  0.22312239,  0.2231301 ,\n",
       "         0.22313781,  0.22314552,  0.22315323,  0.22316094,  0.22316864,\n",
       "         0.22317635,  0.22318405,  0.22319175,  0.22319945,  0.22320714,\n",
       "         0.22321484,  0.22322253,  0.22323023,  0.22323792,  0.22324561,\n",
       "         0.2232533 ,  0.22326099,  0.22327763,  0.22328532,  0.223293  ]),\n",
       " 'split1_train_score': array([ 0.37443613,  0.37443612,  0.37443612,  0.37443611,  0.3744361 ,\n",
       "         0.37443609,  0.37443608,  0.37443607,  0.37443606,  0.37443604,\n",
       "         0.37443603,  0.37443601,  0.37443599,  0.37443597,  0.37443596,\n",
       "         0.37443594,  0.37443591,  0.37443589,  0.37443587,  0.37443584,\n",
       "         0.37443582,  0.37443579,  0.37443576,  0.37443573,  0.3744357 ,\n",
       "         0.37443567,  0.37443564,  0.37443561,  0.37443558,  0.37443554,\n",
       "         0.3744355 ,  0.37443547,  0.37443543,  0.37443539,  0.37443535,\n",
       "         0.37443531,  0.37443527,  0.37443522,  0.37443518,  0.37443514,\n",
       "         0.37443509,  0.37443504,  0.37443499,  0.37443494,  0.37443489]),\n",
       " 'split2_test_score': array([-2.8623521 , -2.86187797, -2.86140253, -2.86092713, -2.86045176,\n",
       "        -2.85997643, -2.85950113, -2.85902587, -2.85855064, -2.85807827,\n",
       "        -2.85760311, -2.85712799, -2.85665291, -2.85617786, -2.85570285,\n",
       "        -2.85522787, -2.85475293, -2.85427802, -2.85380315, -2.85332832,\n",
       "        -2.85285352, -2.85237875, -2.85190403, -2.85142933, -2.85095468,\n",
       "        -2.85048006, -2.85000547, -2.84953092, -2.84906208, -2.8485876 ,\n",
       "        -2.84811316, -2.84763875, -2.84716438, -2.84669004, -2.84621574,\n",
       "        -2.84574147, -2.84526724, -2.84479305, -2.84431889, -2.84384477,\n",
       "        -2.84337068, -2.84289663, -2.84242262, -2.84194864, -2.84147469]),\n",
       " 'split2_train_score': array([ 0.43369715,  0.43369714,  0.43369713,  0.43369711,  0.4336971 ,\n",
       "         0.43369708,  0.43369706,  0.43369704,  0.43369702,  0.43369699,\n",
       "         0.43369696,  0.43369693,  0.4336969 ,  0.43369687,  0.43369684,\n",
       "         0.4336968 ,  0.43369676,  0.43369672,  0.43369668,  0.43369663,\n",
       "         0.43369659,  0.43369654,  0.43369649,  0.43369644,  0.43369639,\n",
       "         0.43369633,  0.43369627,  0.43369621,  0.43369615,  0.43369609,\n",
       "         0.43369603,  0.43369596,  0.43369589,  0.43369582,  0.43369575,\n",
       "         0.43369567,  0.4336956 ,  0.43369552,  0.43369544,  0.43369536,\n",
       "         0.43369528,  0.43369519,  0.4336951 ,  0.43369502,  0.43369492]),\n",
       " 'split3_test_score': array([ 0.16202882,  0.16202413,  0.16201944,  0.16201474,  0.16201005,\n",
       "         0.16200536,  0.1620004 ,  0.16199571,  0.16199101,  0.16198632,\n",
       "         0.16198162,  0.16197692,  0.16197223,  0.16196753,  0.16196283,\n",
       "         0.16195813,  0.16195343,  0.16194873,  0.16194402,  0.16193874,\n",
       "         0.16193403,  0.16192933,  0.16192462,  0.16191992,  0.16191521,\n",
       "         0.16191051,  0.1619058 ,  0.16190109,  0.16189638,  0.16189168,\n",
       "         0.16188697,  0.16188226,  0.16187754,  0.16187283,  0.16186812,\n",
       "         0.16186341,  0.16185869,  0.16185398,  0.16184927,  0.16184455,\n",
       "         0.16183983,  0.16183512,  0.1618304 ,  0.16182568,  0.16182096]),\n",
       " 'split3_train_score': array([ 0.42939465,  0.42939464,  0.42939464,  0.42939463,  0.42939462,\n",
       "         0.42939461,  0.4293946 ,  0.42939458,  0.42939457,  0.42939455,\n",
       "         0.42939454,  0.42939452,  0.4293945 ,  0.42939448,  0.42939446,\n",
       "         0.42939444,  0.42939441,  0.42939439,  0.42939436,  0.42939434,\n",
       "         0.42939431,  0.42939428,  0.42939425,  0.42939422,  0.42939418,\n",
       "         0.42939415,  0.42939412,  0.42939408,  0.42939404,  0.42939401,\n",
       "         0.42939397,  0.42939393,  0.42939388,  0.42939384,  0.4293938 ,\n",
       "         0.42939375,  0.42939371,  0.42939366,  0.42939361,  0.42939356,\n",
       "         0.42939351,  0.42939346,  0.42939341,  0.42939335,  0.4293933 ]),\n",
       " 'split4_test_score': array([ 0.27338027,  0.2733995 ,  0.27341872,  0.27343794,  0.27345835,\n",
       "         0.27347756,  0.27349677,  0.27351597,  0.27353518,  0.27355437,\n",
       "         0.27357357,  0.27359276,  0.27361195,  0.27363113,  0.27365031,\n",
       "         0.27366949,  0.27368867,  0.27370784,  0.273727  ,  0.27374617,\n",
       "         0.27376533,  0.27378449,  0.27380364,  0.27382279,  0.27384194,\n",
       "         0.27386109,  0.27388023,  0.27389937,  0.27392073,  0.27393986,\n",
       "         0.27395899,  0.27397811,  0.27399723,  0.27401635,  0.27403547,\n",
       "         0.27405458,  0.27407369,  0.27409279,  0.27411189,  0.27413099,\n",
       "         0.27415008,  0.27416917,  0.27418826,  0.27420735,  0.27422643]),\n",
       " 'split4_train_score': array([ 0.36335245,  0.36335245,  0.36335243,  0.36335242,  0.36335241,\n",
       "         0.36335239,  0.36335237,  0.36335235,  0.36335233,  0.3633523 ,\n",
       "         0.36335228,  0.36335225,  0.36335222,  0.36335219,  0.36335216,\n",
       "         0.36335213,  0.36335209,  0.36335205,  0.36335201,  0.36335197,\n",
       "         0.36335193,  0.36335188,  0.36335184,  0.36335179,  0.36335174,\n",
       "         0.36335169,  0.36335163,  0.36335158,  0.36335152,  0.36335146,\n",
       "         0.3633514 ,  0.36335133,  0.36335127,  0.3633512 ,  0.36335114,\n",
       "         0.36335107,  0.363351  ,  0.36335092,  0.36335085,  0.36335077,\n",
       "         0.36335069,  0.36335061,  0.36335053,  0.36335045,  0.36335036]),\n",
       " 'std_fit_time': array([  3.79022663e-03,   3.04087412e-04,   3.56682482e-05,\n",
       "          2.47554271e-05,   1.73076781e-05,   6.91253380e-05,\n",
       "          2.77658473e-05,   1.98220926e-05,   5.50567094e-05,\n",
       "          1.76122759e-05,   5.88464194e-06,   9.31236723e-05,\n",
       "          9.39202657e-05,   9.24384713e-05,   1.08373243e-05,\n",
       "          1.14182996e-04,   8.66932181e-05,   6.03509717e-05,\n",
       "          7.47842735e-05,   2.50786428e-05,   8.18708155e-05,\n",
       "          8.33840273e-05,   5.77746129e-04,   1.27856075e-04,\n",
       "          3.39392846e-06,   1.13755238e-04,   5.08726031e-05,\n",
       "          1.87145069e-05,   5.90322861e-05,   7.26388442e-05,\n",
       "          7.53246665e-05,   5.75493263e-06,   8.09201790e-05,\n",
       "          5.28669424e-05,   5.74990089e-05,   3.20085267e-06,\n",
       "          2.61431163e-05,   1.31164026e-05,   2.69571190e-06,\n",
       "          3.51106957e-05,   1.77724060e-05,   3.22561923e-06,\n",
       "          1.32990559e-05,   1.33582507e-05,   2.33362956e-05]),\n",
       " 'std_score_time': array([  9.00643751e-04,   4.86250001e-05,   5.95072905e-06,\n",
       "          7.71386355e-06,   7.96389434e-06,   1.41303192e-05,\n",
       "          1.10154544e-05,   1.39670154e-05,   1.57666623e-05,\n",
       "          6.13176247e-06,   3.60130455e-06,   4.07130703e-06,\n",
       "          8.88172410e-06,   5.86839134e-06,   3.78680763e-05,\n",
       "          1.14732609e-05,   6.57219312e-05,   4.26503050e-05,\n",
       "          1.15398001e-04,   1.97226213e-05,   5.32038738e-05,\n",
       "          4.59150855e-05,   5.32047286e-05,   6.36383091e-05,\n",
       "          7.59953377e-07,   2.36311182e-06,   4.20929740e-05,\n",
       "          1.16005769e-05,   1.09361123e-06,   5.05488772e-05,\n",
       "          4.15725985e-05,   1.70334349e-05,   6.06437516e-05,\n",
       "          1.95360131e-05,   3.43198886e-05,   7.29420592e-07,\n",
       "          1.35164621e-05,   5.08586564e-06,   2.18306029e-06,\n",
       "          1.02934995e-06,   2.08129451e-05,   8.03580262e-07,\n",
       "          1.62824355e-06,   2.82744733e-06,   1.45102730e-06]),\n",
       " 'std_test_score': array([ 1.29037484,  1.29018986,  1.29000448,  1.289819  ,  1.28963364,\n",
       "         1.28944819,  1.28926264,  1.28907722,  1.28889181,  1.28870774,\n",
       "         1.28852236,  1.28833699,  1.28815163,  1.28796629,  1.28778097,\n",
       "         1.28759565,  1.28741036,  1.28722507,  1.2870398 ,  1.28685431,\n",
       "         1.28666946,  1.28648423,  1.28629902,  1.28611381,  1.28592863,\n",
       "         1.28574345,  1.28555829,  1.28537315,  1.28519045,  1.28500533,\n",
       "         1.28482023,  1.28463514,  1.28445006,  1.284265  ,  1.28407995,\n",
       "         1.28389492,  1.28370989,  1.28352489,  1.2833399 ,  1.28315492,\n",
       "         1.28296995,  1.282785  ,  1.28260079,  1.28241587,  1.28223096]),\n",
       " 'std_train_score': array([ 0.04764942,  0.04764942,  0.04764942,  0.04764941,  0.04764941,\n",
       "         0.04764941,  0.04764941,  0.04764941,  0.0476494 ,  0.0476494 ,\n",
       "         0.0476494 ,  0.0476494 ,  0.04764939,  0.04764939,  0.04764939,\n",
       "         0.04764938,  0.04764938,  0.04764937,  0.04764937,  0.04764937,\n",
       "         0.04764936,  0.04764936,  0.04764935,  0.04764935,  0.04764934,\n",
       "         0.04764934,  0.04764933,  0.04764932,  0.04764932,  0.04764931,\n",
       "         0.04764931,  0.0476493 ,  0.04764929,  0.04764929,  0.04764928,\n",
       "         0.04764927,  0.04764926,  0.04764926,  0.04764925,  0.04764924,\n",
       "         0.04764923,  0.04764922,  0.04764921,  0.04764921,  0.0476492 ])}"
      ]
     },
     "execution_count": 27,
     "metadata": {},
     "output_type": "execute_result"
    }
   ],
   "source": [
    "lasso_grid.cv_results_\n"
   ]
  },
  {
   "cell_type": "code",
   "execution_count": 28,
   "metadata": {
    "collapsed": true
   },
   "outputs": [],
   "source": [
    "from sklearn import metrics"
   ]
  },
  {
   "cell_type": "code",
   "execution_count": 29,
   "metadata": {
    "collapsed": true
   },
   "outputs": [],
   "source": [
    "X_test_scaled = sc.transform(X_test)"
   ]
  },
  {
   "cell_type": "code",
   "execution_count": 30,
   "metadata": {
    "collapsed": false
   },
   "outputs": [],
   "source": [
    "y_predict = lasso_grid.best_estimator_.predict(X_test_scaled)"
   ]
  },
  {
   "cell_type": "code",
   "execution_count": 31,
   "metadata": {
    "collapsed": false
   },
   "outputs": [
    {
     "name": "stderr",
     "output_type": "stream",
     "text": [
      "/Users/costefan/.pyenv/versions/anaconda3-4.3.0/lib/python3.6/site-packages/sklearn/model_selection/_search.py:667: DeprecationWarning: The grid_scores_ attribute was deprecated in version 0.18 in favor of the more elaborate cv_results_ attribute. The grid_scores_ attribute will not be available from 0.20\n",
      "  DeprecationWarning)\n"
     ]
    },
    {
     "data": {
      "text/plain": [
       "[mean: -0.29820, std: 1.29297, params: {'alpha': 0.10000000000000001},\n",
       " mean: -0.29810, std: 1.29278, params: {'alpha': 0.12000000000000001},\n",
       " mean: -0.29800, std: 1.29260, params: {'alpha': 0.14000000000000001},\n",
       " mean: -0.29790, std: 1.29241, params: {'alpha': 0.16000000000000003},\n",
       " mean: -0.29780, std: 1.29223, params: {'alpha': 0.18000000000000002},\n",
       " mean: -0.29770, std: 1.29204, params: {'alpha': 0.20000000000000001},\n",
       " mean: -0.29760, std: 1.29185, params: {'alpha': 0.22000000000000003},\n",
       " mean: -0.29750, std: 1.29167, params: {'alpha': 0.24000000000000002},\n",
       " mean: -0.29740, std: 1.29148, params: {'alpha': 0.26000000000000001},\n",
       " mean: -0.29730, std: 1.29130, params: {'alpha': 0.28000000000000003},\n",
       " mean: -0.29720, std: 1.29111, params: {'alpha': 0.30000000000000004},\n",
       " mean: -0.29710, std: 1.29093, params: {'alpha': 0.32000000000000006},\n",
       " mean: -0.29700, std: 1.29074, params: {'alpha': 0.34000000000000008},\n",
       " mean: -0.29691, std: 1.29055, params: {'alpha': 0.3600000000000001},\n",
       " mean: -0.29681, std: 1.29037, params: {'alpha': 0.38},\n",
       " mean: -0.29671, std: 1.29018, params: {'alpha': 0.40000000000000002},\n",
       " mean: -0.29661, std: 1.29000, params: {'alpha': 0.42000000000000004},\n",
       " mean: -0.29651, std: 1.28981, params: {'alpha': 0.44000000000000006},\n",
       " mean: -0.29641, std: 1.28963, params: {'alpha': 0.46000000000000008},\n",
       " mean: -0.29631, std: 1.28944, params: {'alpha': 0.48000000000000009},\n",
       " mean: -0.29621, std: 1.28925, params: {'alpha': 0.50000000000000011},\n",
       " mean: -0.29611, std: 1.28907, params: {'alpha': 0.52000000000000013},\n",
       " mean: -0.29601, std: 1.28888, params: {'alpha': 0.54000000000000004},\n",
       " mean: -0.29591, std: 1.28870, params: {'alpha': 0.56000000000000005},\n",
       " mean: -0.29581, std: 1.28851, params: {'alpha': 0.58000000000000007},\n",
       " mean: -0.29572, std: 1.28833, params: {'alpha': 0.60000000000000009},\n",
       " mean: -0.29562, std: 1.28814, params: {'alpha': 0.62000000000000011},\n",
       " mean: -0.29552, std: 1.28795, params: {'alpha': 0.64000000000000012},\n",
       " mean: -0.29542, std: 1.28777, params: {'alpha': 0.66000000000000003},\n",
       " mean: -0.29532, std: 1.28759, params: {'alpha': 0.68000000000000005},\n",
       " mean: -0.29522, std: 1.28740, params: {'alpha': 0.70000000000000007},\n",
       " mean: -0.29512, std: 1.28721, params: {'alpha': 0.72000000000000008},\n",
       " mean: -0.29502, std: 1.28703, params: {'alpha': 0.7400000000000001},\n",
       " mean: -0.29492, std: 1.28684, params: {'alpha': 0.76000000000000012},\n",
       " mean: -0.29482, std: 1.28666, params: {'alpha': 0.78000000000000014},\n",
       " mean: -0.29473, std: 1.28647, params: {'alpha': 0.80000000000000016},\n",
       " mean: -0.29463, std: 1.28629, params: {'alpha': 0.82000000000000017},\n",
       " mean: -0.29453, std: 1.28610, params: {'alpha': 0.84000000000000008},\n",
       " mean: -0.29443, std: 1.28592, params: {'alpha': 0.8600000000000001},\n",
       " mean: -0.29433, std: 1.28573, params: {'alpha': 0.88000000000000012},\n",
       " mean: -0.29423, std: 1.28555, params: {'alpha': 0.90000000000000013},\n",
       " mean: -0.29413, std: 1.28536, params: {'alpha': 0.92000000000000015},\n",
       " mean: -0.29403, std: 1.28518, params: {'alpha': 0.94000000000000017},\n",
       " mean: -0.29393, std: 1.28499, params: {'alpha': 0.96000000000000019},\n",
       " mean: -0.29383, std: 1.28480, params: {'alpha': 0.98000000000000009}]"
      ]
     },
     "execution_count": 31,
     "metadata": {},
     "output_type": "execute_result"
    }
   ],
   "source": [
    "lasso_grid.grid_scores_"
   ]
  },
  {
   "cell_type": "code",
   "execution_count": 32,
   "metadata": {
    "collapsed": false
   },
   "outputs": [
    {
     "name": "stderr",
     "output_type": "stream",
     "text": [
      "/Users/costefan/.pyenv/versions/anaconda3-4.3.0/lib/python3.6/site-packages/sklearn/model_selection/_search.py:667: DeprecationWarning: The grid_scores_ attribute was deprecated in version 0.18 in favor of the more elaborate cv_results_ attribute. The grid_scores_ attribute will not be available from 0.20\n",
      "  DeprecationWarning)\n"
     ]
    },
    {
     "data": {
      "text/plain": [
       "{0.10000000000000001: -0.2981954514335251,\n",
       " 0.12000000000000001: -0.29809644519589057,\n",
       " 0.14000000000000001: -0.29799690134710372,\n",
       " 0.16000000000000003: -0.29789764422476495,\n",
       " 0.18000000000000002: -0.2977981577605246,\n",
       " 0.20000000000000001: -0.29769891773492496,\n",
       " 0.22000000000000003: -0.29759985204368167,\n",
       " 0.24000000000000002: -0.29750062909366132,\n",
       " 0.26000000000000001: -0.2974014146809526,\n",
       " 0.28000000000000003: -0.29730224964187274,\n",
       " 0.30000000000000004: -0.29720305231232674,\n",
       " 0.32000000000000006: -0.29710386352008916,\n",
       " 0.34000000000000008: -0.29700468326516105,\n",
       " 0.3600000000000001: -0.29690551154754313,\n",
       " 0.38: -0.29680634836723369,\n",
       " 0.40000000000000002: -0.29670719372423521,\n",
       " 0.42000000000000004: -0.29660804761854404,\n",
       " 0.44000000000000006: -0.296508910050163,\n",
       " 0.46000000000000008: -0.29640978101909188,\n",
       " 0.48000000000000009: -0.29631102539062837,\n",
       " 0.50000000000000011: -0.29621094254161096,\n",
       " 0.52000000000000013: -0.29611183918501982,\n",
       " 0.54000000000000004: -0.29601274436573582,\n",
       " 0.56000000000000005: -0.29591365808376008,\n",
       " 0.58000000000000007: -0.29581458033909147,\n",
       " 0.60000000000000009: -0.29571551113173095,\n",
       " 0.62000000000000011: -0.29561645046167784,\n",
       " 0.64000000000000012: -0.2955173983289322,\n",
       " 0.66000000000000003: -0.29541903893650873,\n",
       " 0.68000000000000005: -0.29532000386995017,\n",
       " 0.70000000000000007: -0.29522097734070507,\n",
       " 0.72000000000000008: -0.29512195934877405,\n",
       " 0.7400000000000001: -0.29502294989415606,\n",
       " 0.76000000000000012: -0.29492394897685326,\n",
       " 0.78000000000000014: -0.29482495659686325,\n",
       " 0.80000000000000016: -0.29472597275418788,\n",
       " 0.82000000000000017: -0.2946269974488267,\n",
       " 0.84000000000000008: -0.29452803068077887,\n",
       " 0.8600000000000001: -0.29442907245004551,\n",
       " 0.88000000000000012: -0.29433012275662535,\n",
       " 0.90000000000000013: -0.29423118160051942,\n",
       " 0.92000000000000015: -0.29413224898172741,\n",
       " 0.94000000000000017: -0.29403151549258549,\n",
       " 0.96000000000000019: -0.29393260006050898,\n",
       " 0.98000000000000009: -0.29383369316574404}"
      ]
     },
     "execution_count": 32,
     "metadata": {},
     "output_type": "execute_result"
    }
   ],
   "source": [
    "alpha_per_mean_score = {item[0]['alpha']: item[1] for item in lasso_grid.grid_scores_ }\n",
    "alpha_per_mean_score"
   ]
  },
  {
   "cell_type": "code",
   "execution_count": 33,
   "metadata": {
    "collapsed": false
   },
   "outputs": [
    {
     "data": {
      "text/plain": [
       "{'mean_fit_time': array([ 0.00659504,  0.00073223,  0.00049472,  0.00049219,  0.00047622,\n",
       "         0.00051827,  0.00047474,  0.00047717,  0.00052457,  0.00047879,\n",
       "         0.0004735 ,  0.0005116 ,  0.00052981,  0.00052266,  0.00046797,\n",
       "         0.00055184,  0.00039206,  0.00043874,  0.00047278,  0.0004921 ,\n",
       "         0.00038781,  0.00041356,  0.00076885,  0.00042005,  0.00030909,\n",
       "         0.00046163,  0.00051575,  0.00047846,  0.00034966,  0.00044718,\n",
       "         0.00040374,  0.00045648,  0.00042386,  0.00032458,  0.00038667,\n",
       "         0.00035963,  0.00033283,  0.00029759,  0.00029573,  0.0003037 ,\n",
       "         0.00029597,  0.00028577,  0.00029216,  0.00029469,  0.00031066]),\n",
       " 'mean_score_time': array([ 0.00210934,  0.00028563,  0.00027366,  0.00027418,  0.00027127,\n",
       "         0.00027137,  0.00027647,  0.00027647,  0.00027704,  0.00028291,\n",
       "         0.00027924,  0.00026846,  0.0002789 ,  0.00027738,  0.00030336,\n",
       "         0.00028114,  0.00023746,  0.00026808,  0.0003356 ,  0.00027337,\n",
       "         0.00022478,  0.00027304,  0.00027804,  0.00023637,  0.00018125,\n",
       "         0.00028481,  0.0002882 ,  0.00028858,  0.00018415,  0.00026722,\n",
       "         0.00024805,  0.00028892,  0.00025578,  0.00017996,  0.0002068 ,\n",
       "         0.00021024,  0.00019264,  0.0001708 ,  0.00017109,  0.00016847,\n",
       "         0.00018172,  0.00016851,  0.00016918,  0.00016961,  0.00017204]),\n",
       " 'mean_test_score': array([-0.29819545, -0.29809645, -0.2979969 , -0.29789764, -0.29779816,\n",
       "        -0.29769892, -0.29759985, -0.29750063, -0.29740141, -0.29730225,\n",
       "        -0.29720305, -0.29710386, -0.29700468, -0.29690551, -0.29680635,\n",
       "        -0.29670719, -0.29660805, -0.29650891, -0.29640978, -0.29631103,\n",
       "        -0.29621094, -0.29611184, -0.29601274, -0.29591366, -0.29581458,\n",
       "        -0.29571551, -0.29561645, -0.2955174 , -0.29541904, -0.29532   ,\n",
       "        -0.29522098, -0.29512196, -0.29502295, -0.29492395, -0.29482496,\n",
       "        -0.29472597, -0.294627  , -0.29452803, -0.29442907, -0.29433012,\n",
       "        -0.29423118, -0.29413225, -0.29403152, -0.2939326 , -0.29383369]),\n",
       " 'mean_train_score': array([ 0.38104142,  0.38104141,  0.38104141,  0.3810414 ,  0.38104138,\n",
       "         0.38104137,  0.38104136,  0.38104134,  0.38104132,  0.38104131,\n",
       "         0.38104129,  0.38104127,  0.38104124,  0.38104122,  0.38104119,\n",
       "         0.38104117,  0.38104114,  0.38104111,  0.38104108,  0.38104105,\n",
       "         0.38104102,  0.38104098,  0.38104095,  0.38104091,  0.38104087,\n",
       "         0.38104083,  0.38104079,  0.38104075,  0.3810407 ,  0.38104066,\n",
       "         0.38104061,  0.38104056,  0.38104051,  0.38104046,  0.38104041,\n",
       "         0.38104036,  0.3810403 ,  0.38104025,  0.38104019,  0.38104013,\n",
       "         0.38104007,  0.38104001,  0.38103995,  0.38103988,  0.38103982]),\n",
       " 'param_alpha': masked_array(data = [0.10000000000000001 0.12000000000000001 0.14000000000000001\n",
       "  0.16000000000000003 0.18000000000000002 0.20000000000000001\n",
       "  0.22000000000000003 0.24000000000000002 0.26000000000000001\n",
       "  0.28000000000000003 0.30000000000000004 0.32000000000000006\n",
       "  0.34000000000000008 0.3600000000000001 0.38 0.40000000000000002\n",
       "  0.42000000000000004 0.44000000000000006 0.46000000000000008\n",
       "  0.48000000000000009 0.50000000000000011 0.52000000000000013\n",
       "  0.54000000000000004 0.56000000000000005 0.58000000000000007\n",
       "  0.60000000000000009 0.62000000000000011 0.64000000000000012\n",
       "  0.66000000000000003 0.68000000000000005 0.70000000000000007\n",
       "  0.72000000000000008 0.7400000000000001 0.76000000000000012\n",
       "  0.78000000000000014 0.80000000000000016 0.82000000000000017\n",
       "  0.84000000000000008 0.8600000000000001 0.88000000000000012\n",
       "  0.90000000000000013 0.92000000000000015 0.94000000000000017\n",
       "  0.96000000000000019 0.98000000000000009],\n",
       "              mask = [False False False False False False False False False False False False\n",
       "  False False False False False False False False False False False False\n",
       "  False False False False False False False False False False False False\n",
       "  False False False False False False False False False],\n",
       "        fill_value = ?),\n",
       " 'params': ({'alpha': 0.10000000000000001},\n",
       "  {'alpha': 0.12000000000000001},\n",
       "  {'alpha': 0.14000000000000001},\n",
       "  {'alpha': 0.16000000000000003},\n",
       "  {'alpha': 0.18000000000000002},\n",
       "  {'alpha': 0.20000000000000001},\n",
       "  {'alpha': 0.22000000000000003},\n",
       "  {'alpha': 0.24000000000000002},\n",
       "  {'alpha': 0.26000000000000001},\n",
       "  {'alpha': 0.28000000000000003},\n",
       "  {'alpha': 0.30000000000000004},\n",
       "  {'alpha': 0.32000000000000006},\n",
       "  {'alpha': 0.34000000000000008},\n",
       "  {'alpha': 0.3600000000000001},\n",
       "  {'alpha': 0.38},\n",
       "  {'alpha': 0.40000000000000002},\n",
       "  {'alpha': 0.42000000000000004},\n",
       "  {'alpha': 0.44000000000000006},\n",
       "  {'alpha': 0.46000000000000008},\n",
       "  {'alpha': 0.48000000000000009},\n",
       "  {'alpha': 0.50000000000000011},\n",
       "  {'alpha': 0.52000000000000013},\n",
       "  {'alpha': 0.54000000000000004},\n",
       "  {'alpha': 0.56000000000000005},\n",
       "  {'alpha': 0.58000000000000007},\n",
       "  {'alpha': 0.60000000000000009},\n",
       "  {'alpha': 0.62000000000000011},\n",
       "  {'alpha': 0.64000000000000012},\n",
       "  {'alpha': 0.66000000000000003},\n",
       "  {'alpha': 0.68000000000000005},\n",
       "  {'alpha': 0.70000000000000007},\n",
       "  {'alpha': 0.72000000000000008},\n",
       "  {'alpha': 0.7400000000000001},\n",
       "  {'alpha': 0.76000000000000012},\n",
       "  {'alpha': 0.78000000000000014},\n",
       "  {'alpha': 0.80000000000000016},\n",
       "  {'alpha': 0.82000000000000017},\n",
       "  {'alpha': 0.84000000000000008},\n",
       "  {'alpha': 0.8600000000000001},\n",
       "  {'alpha': 0.88000000000000012},\n",
       "  {'alpha': 0.90000000000000013},\n",
       "  {'alpha': 0.92000000000000015},\n",
       "  {'alpha': 0.94000000000000017},\n",
       "  {'alpha': 0.96000000000000019},\n",
       "  {'alpha': 0.98000000000000009}),\n",
       " 'rank_test_score': array([45, 44, 43, 42, 41, 40, 39, 38, 37, 36, 35, 34, 33, 32, 31, 30, 29,\n",
       "        28, 27, 26, 25, 24, 23, 22, 21, 20, 19, 18, 17, 16, 15, 14, 13, 12,\n",
       "        11, 10,  9,  8,  7,  6,  5,  4,  3,  2,  1], dtype=int32),\n",
       " 'split0_test_score': array([ 0.68870676,  0.68870843,  0.6887101 ,  0.68871176,  0.68871342,\n",
       "         0.68871508,  0.68871617,  0.68871783,  0.68871948,  0.68872113,\n",
       "         0.68872278,  0.68872443,  0.68872608,  0.68872772,  0.68872936,\n",
       "         0.688731  ,  0.68873264,  0.68873428,  0.68873591,  0.68873632,\n",
       "         0.68873795,  0.68873958,  0.6887412 ,  0.68874283,  0.68874445,\n",
       "         0.68874608,  0.6887477 ,  0.68874931,  0.68875093,  0.68875254,\n",
       "         0.68875416,  0.68875577,  0.68875737,  0.68875898,  0.68876059,\n",
       "         0.68876219,  0.68876379,  0.68876539,  0.68876699,  0.68876858,\n",
       "         0.68877017,  0.68877177,  0.68877336,  0.68877494,  0.68877653]),\n",
       " 'split0_train_score': array([ 0.30432672,  0.30432672,  0.30432671,  0.3043267 ,  0.3043267 ,\n",
       "         0.30432669,  0.30432668,  0.30432667,  0.30432665,  0.30432664,\n",
       "         0.30432663,  0.30432661,  0.3043266 ,  0.30432658,  0.30432657,\n",
       "         0.30432655,  0.30432653,  0.30432651,  0.30432649,  0.30432646,\n",
       "         0.30432644,  0.30432642,  0.30432639,  0.30432637,  0.30432634,\n",
       "         0.30432631,  0.30432629,  0.30432626,  0.30432623,  0.3043262 ,\n",
       "         0.30432616,  0.30432613,  0.3043261 ,  0.30432606,  0.30432603,\n",
       "         0.30432599,  0.30432595,  0.30432591,  0.30432587,  0.30432583,\n",
       "         0.30432579,  0.30432575,  0.30432571,  0.30432566,  0.30432562]),\n",
       " 'split1_test_score': array([ 0.22293587,  0.22294361,  0.22295273,  0.22296048,  0.22296822,\n",
       "         0.22297595,  0.22298369,  0.22299143,  0.22299916,  0.22300947,\n",
       "         0.2230172 ,  0.22302493,  0.22303266,  0.22304039,  0.22304811,\n",
       "         0.22305584,  0.22306356,  0.22307128,  0.223079  ,  0.22308672,\n",
       "         0.22309925,  0.22310697,  0.22311468,  0.22312239,  0.2231301 ,\n",
       "         0.22313781,  0.22314552,  0.22315323,  0.22316094,  0.22316864,\n",
       "         0.22317635,  0.22318405,  0.22319175,  0.22319945,  0.22320714,\n",
       "         0.22321484,  0.22322253,  0.22323023,  0.22323792,  0.22324561,\n",
       "         0.2232533 ,  0.22326099,  0.22327763,  0.22328532,  0.223293  ]),\n",
       " 'split1_train_score': array([ 0.37443613,  0.37443612,  0.37443612,  0.37443611,  0.3744361 ,\n",
       "         0.37443609,  0.37443608,  0.37443607,  0.37443606,  0.37443604,\n",
       "         0.37443603,  0.37443601,  0.37443599,  0.37443597,  0.37443596,\n",
       "         0.37443594,  0.37443591,  0.37443589,  0.37443587,  0.37443584,\n",
       "         0.37443582,  0.37443579,  0.37443576,  0.37443573,  0.3744357 ,\n",
       "         0.37443567,  0.37443564,  0.37443561,  0.37443558,  0.37443554,\n",
       "         0.3744355 ,  0.37443547,  0.37443543,  0.37443539,  0.37443535,\n",
       "         0.37443531,  0.37443527,  0.37443522,  0.37443518,  0.37443514,\n",
       "         0.37443509,  0.37443504,  0.37443499,  0.37443494,  0.37443489]),\n",
       " 'split2_test_score': array([-2.8623521 , -2.86187797, -2.86140253, -2.86092713, -2.86045176,\n",
       "        -2.85997643, -2.85950113, -2.85902587, -2.85855064, -2.85807827,\n",
       "        -2.85760311, -2.85712799, -2.85665291, -2.85617786, -2.85570285,\n",
       "        -2.85522787, -2.85475293, -2.85427802, -2.85380315, -2.85332832,\n",
       "        -2.85285352, -2.85237875, -2.85190403, -2.85142933, -2.85095468,\n",
       "        -2.85048006, -2.85000547, -2.84953092, -2.84906208, -2.8485876 ,\n",
       "        -2.84811316, -2.84763875, -2.84716438, -2.84669004, -2.84621574,\n",
       "        -2.84574147, -2.84526724, -2.84479305, -2.84431889, -2.84384477,\n",
       "        -2.84337068, -2.84289663, -2.84242262, -2.84194864, -2.84147469]),\n",
       " 'split2_train_score': array([ 0.43369715,  0.43369714,  0.43369713,  0.43369711,  0.4336971 ,\n",
       "         0.43369708,  0.43369706,  0.43369704,  0.43369702,  0.43369699,\n",
       "         0.43369696,  0.43369693,  0.4336969 ,  0.43369687,  0.43369684,\n",
       "         0.4336968 ,  0.43369676,  0.43369672,  0.43369668,  0.43369663,\n",
       "         0.43369659,  0.43369654,  0.43369649,  0.43369644,  0.43369639,\n",
       "         0.43369633,  0.43369627,  0.43369621,  0.43369615,  0.43369609,\n",
       "         0.43369603,  0.43369596,  0.43369589,  0.43369582,  0.43369575,\n",
       "         0.43369567,  0.4336956 ,  0.43369552,  0.43369544,  0.43369536,\n",
       "         0.43369528,  0.43369519,  0.4336951 ,  0.43369502,  0.43369492]),\n",
       " 'split3_test_score': array([ 0.16202882,  0.16202413,  0.16201944,  0.16201474,  0.16201005,\n",
       "         0.16200536,  0.1620004 ,  0.16199571,  0.16199101,  0.16198632,\n",
       "         0.16198162,  0.16197692,  0.16197223,  0.16196753,  0.16196283,\n",
       "         0.16195813,  0.16195343,  0.16194873,  0.16194402,  0.16193874,\n",
       "         0.16193403,  0.16192933,  0.16192462,  0.16191992,  0.16191521,\n",
       "         0.16191051,  0.1619058 ,  0.16190109,  0.16189638,  0.16189168,\n",
       "         0.16188697,  0.16188226,  0.16187754,  0.16187283,  0.16186812,\n",
       "         0.16186341,  0.16185869,  0.16185398,  0.16184927,  0.16184455,\n",
       "         0.16183983,  0.16183512,  0.1618304 ,  0.16182568,  0.16182096]),\n",
       " 'split3_train_score': array([ 0.42939465,  0.42939464,  0.42939464,  0.42939463,  0.42939462,\n",
       "         0.42939461,  0.4293946 ,  0.42939458,  0.42939457,  0.42939455,\n",
       "         0.42939454,  0.42939452,  0.4293945 ,  0.42939448,  0.42939446,\n",
       "         0.42939444,  0.42939441,  0.42939439,  0.42939436,  0.42939434,\n",
       "         0.42939431,  0.42939428,  0.42939425,  0.42939422,  0.42939418,\n",
       "         0.42939415,  0.42939412,  0.42939408,  0.42939404,  0.42939401,\n",
       "         0.42939397,  0.42939393,  0.42939388,  0.42939384,  0.4293938 ,\n",
       "         0.42939375,  0.42939371,  0.42939366,  0.42939361,  0.42939356,\n",
       "         0.42939351,  0.42939346,  0.42939341,  0.42939335,  0.4293933 ]),\n",
       " 'split4_test_score': array([ 0.27338027,  0.2733995 ,  0.27341872,  0.27343794,  0.27345835,\n",
       "         0.27347756,  0.27349677,  0.27351597,  0.27353518,  0.27355437,\n",
       "         0.27357357,  0.27359276,  0.27361195,  0.27363113,  0.27365031,\n",
       "         0.27366949,  0.27368867,  0.27370784,  0.273727  ,  0.27374617,\n",
       "         0.27376533,  0.27378449,  0.27380364,  0.27382279,  0.27384194,\n",
       "         0.27386109,  0.27388023,  0.27389937,  0.27392073,  0.27393986,\n",
       "         0.27395899,  0.27397811,  0.27399723,  0.27401635,  0.27403547,\n",
       "         0.27405458,  0.27407369,  0.27409279,  0.27411189,  0.27413099,\n",
       "         0.27415008,  0.27416917,  0.27418826,  0.27420735,  0.27422643]),\n",
       " 'split4_train_score': array([ 0.36335245,  0.36335245,  0.36335243,  0.36335242,  0.36335241,\n",
       "         0.36335239,  0.36335237,  0.36335235,  0.36335233,  0.3633523 ,\n",
       "         0.36335228,  0.36335225,  0.36335222,  0.36335219,  0.36335216,\n",
       "         0.36335213,  0.36335209,  0.36335205,  0.36335201,  0.36335197,\n",
       "         0.36335193,  0.36335188,  0.36335184,  0.36335179,  0.36335174,\n",
       "         0.36335169,  0.36335163,  0.36335158,  0.36335152,  0.36335146,\n",
       "         0.3633514 ,  0.36335133,  0.36335127,  0.3633512 ,  0.36335114,\n",
       "         0.36335107,  0.363351  ,  0.36335092,  0.36335085,  0.36335077,\n",
       "         0.36335069,  0.36335061,  0.36335053,  0.36335045,  0.36335036]),\n",
       " 'std_fit_time': array([  3.79022663e-03,   3.04087412e-04,   3.56682482e-05,\n",
       "          2.47554271e-05,   1.73076781e-05,   6.91253380e-05,\n",
       "          2.77658473e-05,   1.98220926e-05,   5.50567094e-05,\n",
       "          1.76122759e-05,   5.88464194e-06,   9.31236723e-05,\n",
       "          9.39202657e-05,   9.24384713e-05,   1.08373243e-05,\n",
       "          1.14182996e-04,   8.66932181e-05,   6.03509717e-05,\n",
       "          7.47842735e-05,   2.50786428e-05,   8.18708155e-05,\n",
       "          8.33840273e-05,   5.77746129e-04,   1.27856075e-04,\n",
       "          3.39392846e-06,   1.13755238e-04,   5.08726031e-05,\n",
       "          1.87145069e-05,   5.90322861e-05,   7.26388442e-05,\n",
       "          7.53246665e-05,   5.75493263e-06,   8.09201790e-05,\n",
       "          5.28669424e-05,   5.74990089e-05,   3.20085267e-06,\n",
       "          2.61431163e-05,   1.31164026e-05,   2.69571190e-06,\n",
       "          3.51106957e-05,   1.77724060e-05,   3.22561923e-06,\n",
       "          1.32990559e-05,   1.33582507e-05,   2.33362956e-05]),\n",
       " 'std_score_time': array([  9.00643751e-04,   4.86250001e-05,   5.95072905e-06,\n",
       "          7.71386355e-06,   7.96389434e-06,   1.41303192e-05,\n",
       "          1.10154544e-05,   1.39670154e-05,   1.57666623e-05,\n",
       "          6.13176247e-06,   3.60130455e-06,   4.07130703e-06,\n",
       "          8.88172410e-06,   5.86839134e-06,   3.78680763e-05,\n",
       "          1.14732609e-05,   6.57219312e-05,   4.26503050e-05,\n",
       "          1.15398001e-04,   1.97226213e-05,   5.32038738e-05,\n",
       "          4.59150855e-05,   5.32047286e-05,   6.36383091e-05,\n",
       "          7.59953377e-07,   2.36311182e-06,   4.20929740e-05,\n",
       "          1.16005769e-05,   1.09361123e-06,   5.05488772e-05,\n",
       "          4.15725985e-05,   1.70334349e-05,   6.06437516e-05,\n",
       "          1.95360131e-05,   3.43198886e-05,   7.29420592e-07,\n",
       "          1.35164621e-05,   5.08586564e-06,   2.18306029e-06,\n",
       "          1.02934995e-06,   2.08129451e-05,   8.03580262e-07,\n",
       "          1.62824355e-06,   2.82744733e-06,   1.45102730e-06]),\n",
       " 'std_test_score': array([ 1.29037484,  1.29018986,  1.29000448,  1.289819  ,  1.28963364,\n",
       "         1.28944819,  1.28926264,  1.28907722,  1.28889181,  1.28870774,\n",
       "         1.28852236,  1.28833699,  1.28815163,  1.28796629,  1.28778097,\n",
       "         1.28759565,  1.28741036,  1.28722507,  1.2870398 ,  1.28685431,\n",
       "         1.28666946,  1.28648423,  1.28629902,  1.28611381,  1.28592863,\n",
       "         1.28574345,  1.28555829,  1.28537315,  1.28519045,  1.28500533,\n",
       "         1.28482023,  1.28463514,  1.28445006,  1.284265  ,  1.28407995,\n",
       "         1.28389492,  1.28370989,  1.28352489,  1.2833399 ,  1.28315492,\n",
       "         1.28296995,  1.282785  ,  1.28260079,  1.28241587,  1.28223096]),\n",
       " 'std_train_score': array([ 0.04764942,  0.04764942,  0.04764942,  0.04764941,  0.04764941,\n",
       "         0.04764941,  0.04764941,  0.04764941,  0.0476494 ,  0.0476494 ,\n",
       "         0.0476494 ,  0.0476494 ,  0.04764939,  0.04764939,  0.04764939,\n",
       "         0.04764938,  0.04764938,  0.04764937,  0.04764937,  0.04764937,\n",
       "         0.04764936,  0.04764936,  0.04764935,  0.04764935,  0.04764934,\n",
       "         0.04764934,  0.04764933,  0.04764932,  0.04764932,  0.04764931,\n",
       "         0.04764931,  0.0476493 ,  0.04764929,  0.04764929,  0.04764928,\n",
       "         0.04764927,  0.04764926,  0.04764926,  0.04764925,  0.04764924,\n",
       "         0.04764923,  0.04764922,  0.04764921,  0.04764921,  0.0476492 ])}"
      ]
     },
     "execution_count": 33,
     "metadata": {},
     "output_type": "execute_result"
    }
   ],
   "source": [
    "# New object \n",
    "lasso_grid.cv_results_"
   ]
  },
  {
   "cell_type": "markdown",
   "metadata": {},
   "source": [
    "# TODO:  PLOT estimated parameters"
   ]
  },
  {
   "cell_type": "markdown",
   "metadata": {},
   "source": [
    "#### I would recommend $alpha = 0.95$"
   ]
  },
  {
   "cell_type": "markdown",
   "metadata": {},
   "source": [
    "## 2)"
   ]
  },
  {
   "cell_type": "code",
   "execution_count": 34,
   "metadata": {
    "collapsed": false
   },
   "outputs": [
    {
     "data": {
      "text/html": [
       "<div>\n",
       "<table border=\"1\" class=\"dataframe\">\n",
       "  <thead>\n",
       "    <tr style=\"text-align: right;\">\n",
       "      <th></th>\n",
       "      <th>sales</th>\n",
       "      <th>profits</th>\n",
       "    </tr>\n",
       "  </thead>\n",
       "  <tbody>\n",
       "    <tr>\n",
       "      <th>0</th>\n",
       "      <td>161315.0</td>\n",
       "      <td>2956.0</td>\n",
       "    </tr>\n",
       "    <tr>\n",
       "      <th>1</th>\n",
       "      <td>144416.0</td>\n",
       "      <td>22071.0</td>\n",
       "    </tr>\n",
       "    <tr>\n",
       "      <th>2</th>\n",
       "      <td>139208.0</td>\n",
       "      <td>4430.0</td>\n",
       "    </tr>\n",
       "    <tr>\n",
       "      <th>3</th>\n",
       "      <td>100697.0</td>\n",
       "      <td>6370.0</td>\n",
       "    </tr>\n",
       "    <tr>\n",
       "      <th>4</th>\n",
       "      <td>100469.0</td>\n",
       "      <td>9296.0</td>\n",
       "    </tr>\n",
       "  </tbody>\n",
       "</table>\n",
       "</div>"
      ],
      "text/plain": [
       "      sales  profits\n",
       "0  161315.0   2956.0\n",
       "1  144416.0  22071.0\n",
       "2  139208.0   4430.0\n",
       "3  100697.0   6370.0\n",
       "4  100469.0   9296.0"
      ]
     },
     "execution_count": 34,
     "metadata": {},
     "output_type": "execute_result"
    }
   ],
   "source": [
    "df_sales_profits = df[['sales', 'profits']]\n",
    "df_sales_profits.head()"
   ]
  },
  {
   "cell_type": "code",
   "execution_count": 35,
   "metadata": {
    "collapsed": false
   },
   "outputs": [],
   "source": [
    "log_df_sales_profits = df_sales_profits.apply(np.log)\n",
    "log_df_sales_profits = log_df_sales_profits[~pd.isnull(log_df_sales_profits)]\n",
    "log_df_sales_profits = log_df_sales_profits[\n",
    "    (log_df_sales_profits['sales'] > 0) & \n",
    "    (log_df_sales_profits['profits'] > 0)\n",
    "]"
   ]
  },
  {
   "cell_type": "code",
   "execution_count": 36,
   "metadata": {
    "collapsed": false
   },
   "outputs": [
    {
     "data": {
      "text/plain": [
       "<matplotlib.text.Text at 0x11757f3c8>"
      ]
     },
     "execution_count": 36,
     "metadata": {},
     "output_type": "execute_result"
    },
    {
     "data": {
      "image/png": "[encoded data removed]",
      "text/plain": [
       "<matplotlib.figure.Figure at 0x117612470>"
      ]
     },
     "metadata": {},
     "output_type": "display_data"
    }
   ],
   "source": [
    "plt.plot(log_df_sales_profits['sales'], log_df_sales_profits['profits'], '.')\n",
    "plt.xlabel('Sales')\n",
    "plt.ylabel('Profits')"
   ]
  },
  {
   "cell_type": "markdown",
   "metadata": {},
   "source": [
    "### a."
   ]
  },
  {
   "cell_type": "code",
   "execution_count": 37,
   "metadata": {
    "collapsed": true
   },
   "outputs": [],
   "source": [
    "from sklearn.linear_model import LinearRegression"
   ]
  },
  {
   "cell_type": "code",
   "execution_count": 38,
   "metadata": {
    "collapsed": false
   },
   "outputs": [],
   "source": [
    "linear_regression = LinearRegression()"
   ]
  },
  {
   "cell_type": "code",
   "execution_count": 39,
   "metadata": {
    "collapsed": false
   },
   "outputs": [],
   "source": [
    "X = log_df_sales_profits['sales'].as_matrix().reshape(-1, 1)\n",
    "y = log_df_sales_profits['profits']"
   ]
  },
  {
   "cell_type": "code",
   "execution_count": 40,
   "metadata": {
    "collapsed": false
   },
   "outputs": [],
   "source": [
    "regressor = linear_regression.fit(X, y)"
   ]
  },
  {
   "cell_type": "code",
   "execution_count": 41,
   "metadata": {
    "collapsed": false
   },
   "outputs": [
    {
     "data": {
      "text/plain": [
       "array([ 1.01099621])"
      ]
     },
     "execution_count": 41,
     "metadata": {},
     "output_type": "execute_result"
    }
   ],
   "source": [
    "regressor.coef_"
   ]
  },
  {
   "cell_type": "markdown",
   "metadata": {},
   "source": [
    "<b>PLOT "
   ]
  },
  {
   "cell_type": "code",
   "execution_count": 42,
   "metadata": {
    "collapsed": false
   },
   "outputs": [
    {
     "data": {
      "text/plain": [
       "[<matplotlib.lines.Line2D at 0x1177405f8>,\n",
       " <matplotlib.lines.Line2D at 0x117740710>]"
      ]
     },
     "execution_count": 42,
     "metadata": {},
     "output_type": "execute_result"
    },
    {
     "data": {
      "image/png": "[encoded data removed]",
      "text/plain": [
       "<matplotlib.figure.Figure at 0x117612fd0>"
      ]
     },
     "metadata": {},
     "output_type": "display_data"
    }
   ],
   "source": [
    "plt.plot(\n",
    "    X, y, '.',\n",
    "    X, regressor.predict(X), '-'\n",
    ")"
   ]
  },
  {
   "cell_type": "markdown",
   "metadata": {},
   "source": [
    "### b."
   ]
  },
  {
   "cell_type": "code",
   "execution_count": 43,
   "metadata": {
    "collapsed": true
   },
   "outputs": [],
   "source": [
    "from scipy.optimize import curve_fit"
   ]
  },
  {
   "cell_type": "code",
   "execution_count": 44,
   "metadata": {
    "collapsed": true
   },
   "outputs": [],
   "source": [
    "from scipy import log as log\n",
    "def func(x, a, b, c):\n",
    "    return a * np.log(b * x) + c"
   ]
  },
  {
   "cell_type": "code",
   "execution_count": 45,
   "metadata": {
    "collapsed": false
   },
   "outputs": [
    {
     "name": "stderr",
     "output_type": "stream",
     "text": [
      "/Users/costefan/.pyenv/versions/anaconda3-4.3.0/lib/python3.6/site-packages/ipykernel/__main__.py:3: RuntimeWarning: invalid value encountered in log\n",
      "  app.launch_new_instance()\n"
     ]
    }
   ],
   "source": [
    "popt, pcov = curve_fit(func, X.ravel(), y.ravel())"
   ]
  },
  {
   "cell_type": "code",
   "execution_count": 46,
   "metadata": {
    "collapsed": false
   },
   "outputs": [
    {
     "data": {
      "text/plain": [
       "array([ 9.36610037,  0.33681642, -4.37448585])"
      ]
     },
     "execution_count": 46,
     "metadata": {},
     "output_type": "execute_result"
    }
   ],
   "source": [
    "popt"
   ]
  },
  {
   "cell_type": "code",
   "execution_count": 47,
   "metadata": {
    "collapsed": false
   },
   "outputs": [
    {
     "data": {
      "text/plain": [
       "[<matplotlib.lines.Line2D at 0x11779d5f8>,\n",
       " <matplotlib.lines.Line2D at 0x11779d710>,\n",
       " <matplotlib.lines.Line2D at 0x1177a66a0>]"
      ]
     },
     "execution_count": 47,
     "metadata": {},
     "output_type": "execute_result"
    },
    {
     "data": {
      "image/png": "[encoded data removed]",
      "text/plain": [
       "<matplotlib.figure.Figure at 0x1176125f8>"
      ]
     },
     "metadata": {},
     "output_type": "display_data"
    }
   ],
   "source": [
    "plt.figure(figsize=(10, 15))\n",
    "plt.plot(\n",
    "    X, y, '.',\n",
    "    X, regressor.predict(X), '-',\n",
    "    X, func(X, *popt)\n",
    ")\n"
   ]
  },
  {
   "cell_type": "markdown",
   "metadata": {},
   "source": [
    "## c."
   ]
  },
  {
   "cell_type": "markdown",
   "metadata": {},
   "source": [
    "Linear approximation has shifted statistics and we should carefuly interpret non linear statistics."
   ]
  },
  {
   "cell_type": "markdown",
   "metadata": {},
   "source": [
    "## 3)"
   ]
  },
  {
   "cell_type": "markdown",
   "metadata": {},
   "source": [
    "## a."
   ]
  },
  {
   "cell_type": "markdown",
   "metadata": {},
   "source": [
    "If bandwidth too small, our model will overfit, our Kernel function will be decreasing slowly, and model will overfit, cause we will assign smaller (than it would be to bigger bandwidth) weights to objects that has bigger distance, and bigger (than it would be to bigger bandwidth) to closer."
   ]
  },
  {
   "cell_type": "markdown",
   "metadata": {},
   "source": [
    "If bandwidth too big, we will not get needed approximation in our line, cause Kernel function will be decreasing faster, so we will asign weights smaller (than it would be to smaller bandwidth) and closer objects would be not so valuable for the model. "
   ]
  },
  {
   "cell_type": "markdown",
   "metadata": {},
   "source": [
    "## b."
   ]
  },
  {
   "cell_type": "code",
   "execution_count": 48,
   "metadata": {
    "collapsed": true
   },
   "outputs": [],
   "source": [
    "from statsmodels.nonparametric.kernel_regression import KernelReg"
   ]
  },
  {
   "cell_type": "code",
   "execution_count": 49,
   "metadata": {
    "collapsed": false
   },
   "outputs": [],
   "source": [
    "# Cross validation runs by default\n",
    "model = KernelReg(\n",
    "    endog=y, exog=X, var_type='c', reg_type='lc'\n",
    ")"
   ]
  },
  {
   "cell_type": "code",
   "execution_count": 50,
   "metadata": {
    "collapsed": false
   },
   "outputs": [
    {
     "name": "stdout",
     "output_type": "stream",
     "text": [
      "cv_ls\n",
      "{'cv_ls': <bound method KernelReg.cv_loo of KernelReg instance\n",
      "Number of variables: k_vars = 1\n",
      "Number of samples:   N = 388\n",
      "Variable types:      c\n",
      "BW selection method: cv_ls\n",
      "Estimator type: lc\n",
      ">, 'aic': <bound method KernelReg.aic_hurvich of KernelReg instance\n",
      "Number of variables: k_vars = 1\n",
      "Number of samples:   N = 388\n",
      "Variable types:      c\n",
      "BW selection method: cv_ls\n",
      "Estimator type: lc\n",
      ">}\n"
     ]
    }
   ],
   "source": [
    "print(model._bw_method)\n",
    "print(model.bw_func)"
   ]
  },
  {
   "cell_type": "code",
   "execution_count": 51,
   "metadata": {
    "collapsed": false
   },
   "outputs": [
    {
     "data": {
      "text/plain": [
       "array([ 0.23747466])"
      ]
     },
     "execution_count": 51,
     "metadata": {},
     "output_type": "execute_result"
    }
   ],
   "source": [
    "model.bw"
   ]
  },
  {
   "cell_type": "code",
   "execution_count": 52,
   "metadata": {
    "collapsed": false
   },
   "outputs": [],
   "source": [
    "means, mfx = model.fit()"
   ]
  },
  {
   "cell_type": "markdown",
   "metadata": {},
   "source": [
    "### Optimal bandwidth is calculated by least-squares cross-validation"
   ]
  },
  {
   "cell_type": "code",
   "execution_count": 53,
   "metadata": {
    "collapsed": false
   },
   "outputs": [
    {
     "data": {
      "image/png": "[encoded data removed]",
      "text/plain": [
       "<matplotlib.figure.Figure at 0x11821f080>"
      ]
     },
     "metadata": {},
     "output_type": "display_data"
    }
   ],
   "source": [
    "fig = plt.figure()\n",
    "ax = fig.add_subplot(1,1,1)\n",
    "ax.plot(X, y, 'o', alpha=0.5)\n",
    "ax.plot(X, means, lw=2, label='kernel mean')\n",
    "ax.legend()\n",
    "\n",
    "plt.show()"
   ]
  },
  {
   "cell_type": "markdown",
   "metadata": {},
   "source": [
    "## c."
   ]
  },
  {
   "cell_type": "code",
   "execution_count": 54,
   "metadata": {
    "collapsed": false
   },
   "outputs": [
    {
     "data": {
      "image/png": "[encoded data removed]",
      "text/plain": [
       "<matplotlib.figure.Figure at 0x1182ba780>"
      ]
     },
     "metadata": {},
     "output_type": "display_data"
    }
   ],
   "source": [
    "fig = plt.figure()\n",
    "ax = fig.add_subplot(1,1,1)\n",
    "ax.plot(X, y, 'o', alpha=0.5)\n",
    "ax.plot(X, means, lw=2, label='kernel mean')\n",
    "ax.plot(X, func(X, *popt), '-r', lw=2, label='non linear')\n",
    "ax.legend()\n",
    "\n",
    "plt.show()"
   ]
  },
  {
   "cell_type": "markdown",
   "metadata": {
    "collapsed": true
   },
   "source": [
    "## 4."
   ]
  },
  {
   "cell_type": "markdown",
   "metadata": {},
   "source": [
    "### a."
   ]
  },
  {
   "cell_type": "code",
   "execution_count": 78,
   "metadata": {
    "collapsed": false
   },
   "outputs": [],
   "source": [
    "y_binary = df['salary'].apply(lambda x: 1 if x >= 2000 else 0)"
   ]
  },
  {
   "cell_type": "code",
   "execution_count": 79,
   "metadata": {
    "collapsed": false
   },
   "outputs": [
    {
     "name": "stdout",
     "output_type": "stream",
     "text": [
      "Pretty printing has been turned ON\n"
     ]
    }
   ],
   "source": [
    "from pprint import pprint\n",
    "%pprint on"
   ]
  },
  {
   "cell_type": "code",
   "execution_count": 80,
   "metadata": {
    "collapsed": false
   },
   "outputs": [
    {
     "name": "stdout",
     "output_type": "stream",
     "text": [
      "[(1, 3030),\n",
      " (1, 6050),\n",
      " (1, 3571),\n",
      " (1, 3300),\n",
      " (1, 10000),\n",
      " (1, 9375),\n",
      " (1, 9525),\n",
      " (1, 5000),\n",
      " (0, 999),\n",
      " (1, 3300),\n",
      " (1, 3500),\n",
      " (1, 2493),\n",
      " (0, 1911),\n",
      " (1, 2130),\n",
      " (0, 1185),\n",
      " (1, 5236),\n",
      " (0, 1990),\n",
      " (1, 6000),\n",
      " (1, 6229),\n",
      " (0, 1523),\n",
      " (1, 2060),\n",
      " (1, 4417),\n",
      " (1, 8888),\n",
      " (1, 3343),\n",
      " (0, 1062),\n",
      " (1, 2900),\n",
      " (1, 12962),\n",
      " (0, 1800),\n",
      " (1, 6163),\n",
      " (0, 1195),\n",
      " (1, 2550),\n",
      " (1, 2460),\n",
      " (1, 2244),\n",
      " (1, 2344),\n",
      " (1, 2605),\n",
      " (1, 3071),\n",
      " (1, 3195),\n",
      " (1, 2523),\n",
      " (1, 2418),\n",
      " (0, 1875),\n",
      " (0, 533),\n",
      " (0, 1098),\n",
      " (1, 2627),\n",
      " (1, 2990),\n",
      " (1, 5764),\n",
      " (1, 2000),\n",
      " (1, 3420),\n",
      " (1, 4869),\n",
      " (0, 973),\n",
      " (1, 2250),\n",
      " (0, 1380),\n",
      " (0, 1359),\n",
      " (1, 3925),\n",
      " (1, 3729),\n",
      " (1, 2747),\n",
      " (0, 1631),\n",
      " (1, 3100),\n",
      " (0, 1264),\n",
      " (1, 2350),\n",
      " (0, 1713),\n",
      " (0, 1773),\n",
      " (1, 3419),\n",
      " (1, 2750),\n",
      " (0, 1583),\n",
      " (0, 1875),\n",
      " (1, 3194),\n",
      " (1, 2788),\n",
      " (1, 2925),\n",
      " (1, 8050),\n",
      " (0, 1701),\n",
      " (0, 1423),\n",
      " (0, 1000),\n",
      " (0, 1300),\n",
      " (1, 2338),\n",
      " (1, 2083),\n",
      " (1, 3019),\n",
      " (0, 1851),\n",
      " (1, 2750),\n",
      " (1, 3000),\n",
      " (1, 2128),\n",
      " (0, 1656),\n",
      " (0, 1524),\n",
      " (0, 1803),\n",
      " (0, 1877),\n",
      " (1, 2450),\n",
      " (0, 1422),\n",
      " (0, 1314),\n",
      " (1, 2003),\n",
      " (1, 6000),\n",
      " (0, 750),\n",
      " (0, 1782),\n",
      " (0, 1717),\n",
      " (0, 1660),\n",
      " (0, 1169),\n",
      " (1, 3959),\n",
      " (1, 8800),\n",
      " (0, 542),\n",
      " (0, 1356),\n",
      " (0, 1571),\n",
      " (0, 100),\n",
      " (1, 2530),\n",
      " (0, 1287),\n",
      " (0, 600),\n",
      " (0, 1260),\n",
      " (1, 2774),\n",
      " (1, 3400),\n",
      " (0, 1825),\n",
      " (0, 1875),\n",
      " (1, 3710),\n",
      " (0, 1450),\n",
      " (0, 1720),\n",
      " (0, 824),\n",
      " (1, 5568),\n",
      " (0, 1247),\n",
      " (0, 1638),\n",
      " (1, 3062),\n",
      " (0, 1571),\n",
      " (0, 1782),\n",
      " (0, 721),\n",
      " (0, 1670),\n",
      " (1, 2166),\n",
      " (0, 1366),\n",
      " (0, 1317),\n",
      " (0, 986),\n",
      " (0, 900),\n",
      " (1, 5063),\n",
      " (1, 2848),\n",
      " (0, 1516),\n",
      " (0, 1863),\n",
      " (0, 1553),\n",
      " (0, 1745),\n",
      " (1, 3088),\n",
      " (0, 1117),\n",
      " (0, 1898),\n",
      " (1, 2858),\n",
      " (0, 981),\n",
      " (0, 1711),\n",
      " (0, 800),\n",
      " (1, 2400),\n",
      " (1, 3201),\n",
      " (0, 1879),\n",
      " (0, 1860),\n",
      " (0, 1245),\n",
      " (1, 2675),\n",
      " (1, 4392),\n",
      " (0, 1100),\n",
      " (1, 2718),\n",
      " (0, 1698),\n",
      " (0, 1498),\n",
      " (0, 1104),\n",
      " (1, 2054),\n",
      " (1, 2565),\n",
      " (1, 2140),\n",
      " (0, 856),\n",
      " (1, 4000),\n",
      " (0, 1229),\n",
      " (1, 7312),\n",
      " (0, 500),\n",
      " (1, 3034),\n",
      " (1, 3456),\n",
      " (0, 566),\n",
      " (0, 900),\n",
      " (0, 500),\n",
      " (1, 2180),\n",
      " (1, 2097),\n",
      " (1, 3188),\n",
      " (0, 1134),\n",
      " (0, 1600),\n",
      " (0, 821),\n",
      " (0, 750),\n",
      " (1, 3600),\n",
      " (1, 2478),\n",
      " (0, 891),\n",
      " (1, 2029),\n",
      " (1, 2527),\n",
      " (0, 1587),\n",
      " (0, 1088),\n",
      " (0, 1025),\n",
      " (0, 1576),\n",
      " (1, 2458),\n",
      " (1, 2748),\n",
      " (0, 1393),\n",
      " (0, 775),\n",
      " (0, 1860),\n",
      " (1, 10372),\n",
      " (0, 1951),\n",
      " (1, 2147),\n",
      " (1, 3374),\n",
      " (1, 3515),\n",
      " (0, 1561),\n",
      " (0, 1617),\n",
      " (1, 15250),\n",
      " (1, 2340),\n",
      " (0, 975),\n",
      " (0, 1294),\n",
      " (1, 2769),\n",
      " (0, 1570),\n",
      " (1, 2294),\n",
      " (0, 1735),\n",
      " (0, 1894),\n",
      " (0, 1800),\n",
      " (0, 850),\n",
      " (0, 531),\n",
      " (0, 942),\n",
      " (1, 3300),\n",
      " (1, 2345),\n",
      " (1, 8088),\n",
      " (1, 3000),\n",
      " (1, 2700),\n",
      " (0, 1500),\n",
      " (0, 1530),\n",
      " (0, 1123),\n",
      " (0, 1320),\n",
      " (0, 1990),\n",
      " (1, 2068),\n",
      " (0, 1460),\n",
      " (0, 1752),\n",
      " (0, 1000),\n",
      " (0, 1919),\n",
      " (1, 2226),\n",
      " (0, 618),\n",
      " (1, 2158),\n",
      " (0, 528),\n",
      " (0, 727),\n",
      " (1, 2000),\n",
      " (1, 2700),\n",
      " (0, 1921),\n",
      " (0, 1300),\n",
      " (0, 1379),\n",
      " (0, 1803),\n",
      " (0, 1304),\n",
      " (0, 1200),\n",
      " (1, 2128),\n",
      " (0, 1083),\n",
      " (0, 1658),\n",
      " (1, 2978),\n",
      " (0, 882),\n",
      " (1, 2419),\n",
      " (0, 1775),\n",
      " (0, 974),\n",
      " (0, 800),\n",
      " (0, 1121),\n",
      " (1, 2243),\n",
      " (0, 1543),\n",
      " (1, 2011),\n",
      " (1, 4280),\n",
      " (0, 1389),\n",
      " (0, 1616),\n",
      " (0, 1383),\n",
      " (0, 1248),\n",
      " (0, 1731),\n",
      " (0, 1700),\n",
      " (0, 1429),\n",
      " (0, 589),\n",
      " (0, 1330),\n",
      " (1, 2818),\n",
      " (0, 1729),\n",
      " (0, 971),\n",
      " (1, 2550),\n",
      " (0, 1600),\n",
      " (1, 2202),\n",
      " (0, 1569),\n",
      " (0, 1323),\n",
      " (0, 1478),\n",
      " (0, 450),\n",
      " (0, 870),\n",
      " (0, 1238),\n",
      " (0, 1134),\n",
      " (0, 1350),\n",
      " (0, 1749),\n",
      " (0, 686),\n",
      " (0, 1155),\n",
      " (0, 1191),\n",
      " (1, 2297),\n",
      " (0, 989),\n",
      " (0, 818),\n",
      " (0, 1085),\n",
      " (1, 2458),\n",
      " (0, 1033),\n",
      " (0, 960),\n",
      " (0, 1798),\n",
      " (0, 1293),\n",
      " (0, 1500),\n",
      " (0, 1430),\n",
      " (0, 1175),\n",
      " (0, 1952),\n",
      " (0, 1565),\n",
      " (1, 2400),\n",
      " (0, 800),\n",
      " (0, 1173),\n",
      " (0, 1295),\n",
      " (1, 2850),\n",
      " (1, 2100),\n",
      " (0, 942),\n",
      " (0, 1702),\n",
      " (0, 1815),\n",
      " (0, 1675),\n",
      " (1, 2352),\n",
      " (0, 950),\n",
      " (0, 1038),\n",
      " (1, 2003),\n",
      " (0, 1220),\n",
      " (0, 1546),\n",
      " (0, 800),\n",
      " (0, 1045),\n",
      " (0, 700),\n",
      " (1, 7000),\n",
      " (0, 1714),\n",
      " (0, 1866),\n",
      " (0, 725),\n",
      " (0, 1325),\n",
      " (1, 2967),\n",
      " (0, 884),\n",
      " (0, 863),\n",
      " (0, 1266),\n",
      " (0, 1179),\n",
      " (0, 322),\n",
      " (1, 3414),\n",
      " (0, 1095),\n",
      " (0, 1787),\n",
      " (0, 800),\n",
      " (0, 1057),\n",
      " (0, 623),\n",
      " (0, 1242),\n",
      " (0, 1358),\n",
      " (0, 1663),\n",
      " (0, 1992),\n",
      " (0, 1308),\n",
      " (0, 643),\n",
      " (0, 724),\n",
      " (0, 988),\n",
      " (0, 1628),\n",
      " (0, 1871),\n",
      " (0, 869),\n",
      " (0, 935),\n",
      " (1, 2615),\n",
      " (0, 567),\n",
      " (0, 297),\n",
      " (0, 721),\n",
      " (1, 2125),\n",
      " (0, 588),\n",
      " (0, 1164),\n",
      " (1, 3425),\n",
      " (0, 1770),\n",
      " (0, 998),\n",
      " (0, 1665),\n",
      " (0, 1012),\n",
      " (1, 2778),\n",
      " (0, 1775),\n",
      " (0, 1762),\n",
      " (1, 2495),\n",
      " (0, 1284),\n",
      " (1, 3206),\n",
      " (0, 1462),\n",
      " (0, 1715),\n",
      " (0, 1789),\n",
      " (0, 885),\n",
      " (1, 2309),\n",
      " (0, 787),\n",
      " (0, 875),\n",
      " (0, 711),\n",
      " (0, 1000),\n",
      " (0, 913),\n",
      " (0, 501),\n",
      " (0, 1649),\n",
      " (0, 927),\n",
      " (0, 1472),\n",
      " (0, 1604),\n",
      " (1, 2344),\n",
      " (0, 1238),\n",
      " (0, 525),\n",
      " (0, 1147),\n",
      " (0, 900),\n",
      " (0, 700),\n",
      " (0, 1245),\n",
      " (1, 5617),\n",
      " (0, 969),\n",
      " (0, 772),\n",
      " (0, 690),\n",
      " (0, 796),\n",
      " (1, 2500),\n",
      " (0, 746),\n",
      " (0, 1145),\n",
      " (0, 1800),\n",
      " (0, 1451),\n",
      " (0, 1458),\n",
      " (0, 1410),\n",
      " (1, 6945),\n",
      " (0, 1322),\n",
      " (1, 8450),\n",
      " (0, 750),\n",
      " (0, 817),\n",
      " (0, 1210),\n",
      " (0, 407),\n",
      " (0, 670),\n",
      " (0, 1338),\n",
      " (0, 748),\n",
      " (0, 1437),\n",
      " (1, 2925),\n",
      " (0, 1648),\n",
      " (0, 1048),\n",
      " (0, 1520),\n",
      " (0, 511),\n",
      " (0, 1920),\n",
      " (1, 3300),\n",
      " (0, 1325),\n",
      " (0, 647),\n",
      " (0, 650),\n",
      " (0, 774),\n",
      " (0, 900),\n",
      " (0, 1000),\n",
      " (0, 1199),\n",
      " (0, 1950),\n",
      " (0, 1002),\n",
      " (0, 1087),\n",
      " (0, 1100),\n",
      " (0, 1163),\n",
      " (0, 1747),\n",
      " (0, 709),\n",
      " (0, 1990),\n",
      " (0, 1075),\n",
      " (0, 1225),\n",
      " (0, 621),\n",
      " (0, 1121),\n",
      " (0, 856),\n",
      " (0, 600),\n",
      " (0, 1325),\n",
      " (0, 1240),\n",
      " (0, 1115),\n",
      " (0, 910),\n",
      " (0, 633),\n",
      " (1, 2600),\n",
      " (0, 1595),\n",
      " (0, 663),\n",
      " (0, 1227),\n",
      " (0, 1440),\n",
      " (0, 1381),\n",
      " (0, 1697),\n",
      " (1, 4002),\n",
      " (1, 2698),\n",
      " (0, 484),\n",
      " (0, 1073),\n",
      " (0, 1866),\n",
      " (0, 906),\n",
      " (1, 2300),\n",
      " (0, 875),\n",
      " (0, 1758)]\n"
     ]
    }
   ],
   "source": [
    "pprint(list(zip(y_binary, df['salary'])))"
   ]
  },
  {
   "cell_type": "code",
   "execution_count": 66,
   "metadata": {
    "collapsed": true
   },
   "outputs": [],
   "source": [
    "from sklearn.feature_selection import RFE"
   ]
  },
  {
   "cell_type": "code",
   "execution_count": 67,
   "metadata": {
    "collapsed": true
   },
   "outputs": [],
   "source": [
    "from sklearn.linear_model import LogisticRegression"
   ]
  },
  {
   "cell_type": "code",
   "execution_count": 68,
   "metadata": {
    "collapsed": true
   },
   "outputs": [],
   "source": [
    "logistic_regr = LogisticRegression()"
   ]
  },
  {
   "cell_type": "code",
   "execution_count": 69,
   "metadata": {
    "collapsed": true
   },
   "outputs": [],
   "source": [
    "rfe = RFE(logistic_regr)"
   ]
  },
  {
   "cell_type": "code",
   "execution_count": 95,
   "metadata": {
    "collapsed": true
   },
   "outputs": [],
   "source": [
    "X = df[['totcomp', 'tenure', 'age', 'sales', 'profits', 'assets']]"
   ]
  },
  {
   "cell_type": "code",
   "execution_count": 96,
   "metadata": {
    "collapsed": false
   },
   "outputs": [],
   "source": [
    "fit = rfe.fit(X, y_binary)"
   ]
  },
  {
   "cell_type": "code",
   "execution_count": 97,
   "metadata": {
    "collapsed": false
   },
   "outputs": [
    {
     "name": "stdout",
     "output_type": "stream",
     "text": [
      "Num Features: 3\n",
      "Selected Features: [False  True  True False  True False]\n",
      "Feature Ranking: [2 1 1 3 1 4]\n"
     ]
    }
   ],
   "source": [
    "print(\"Num Features: {}\".format(fit.n_features_))\n",
    "print(\"Selected Features: {}\".format(fit.support_))\n",
    "print(\"Feature Ranking: {}\".format(fit.ranking_))"
   ]
  },
  {
   "cell_type": "code",
   "execution_count": 98,
   "metadata": {
    "collapsed": false
   },
   "outputs": [
    {
     "data": {
      "text/plain": [
       "array(['salary', 'totcomp', 'tenure', 'age', 'sales', 'profits', 'assets'], dtype=object)"
      ]
     },
     "execution_count": 98,
     "metadata": {},
     "output_type": "execute_result"
    }
   ],
   "source": [
    "df.columns.values"
   ]
  },
  {
   "cell_type": "code",
   "execution_count": 100,
   "metadata": {
    "collapsed": false
   },
   "outputs": [
    {
     "data": {
      "text/plain": [
       "[(0, 'totcomp'),\n",
       " (1, 'tenure'),\n",
       " (2, 'age'),\n",
       " (3, 'sales'),\n",
       " (4, 'profits'),\n",
       " (5, 'assets')]"
      ]
     },
     "execution_count": 100,
     "metadata": {},
     "output_type": "execute_result"
    }
   ],
   "source": [
    "list(enumerate(X.columns.values, 0))"
   ]
  },
  {
   "cell_type": "code",
   "execution_count": 125,
   "metadata": {
    "collapsed": false
   },
   "outputs": [],
   "source": [
    "df_selected = df[\n",
    "    [feature\n",
    "     for idx, feature in enumerate(X.columns.values)\n",
    "     if fit.support_[idx]]\n",
    "]"
   ]
  },
  {
   "cell_type": "code",
   "execution_count": 126,
   "metadata": {
    "collapsed": false
   },
   "outputs": [
    {
     "data": {
      "text/plain": [
       "array(['tenure', 'age', 'profits'], dtype=object)"
      ]
     },
     "execution_count": 126,
     "metadata": {},
     "output_type": "execute_result"
    }
   ],
   "source": [
    "df_selected.columns.values"
   ]
  },
  {
   "cell_type": "code",
   "execution_count": 128,
   "metadata": {
    "collapsed": false
   },
   "outputs": [],
   "source": [
    "regressor = logistic_regr.fit(df_selected, y_binary)"
   ]
  },
  {
   "cell_type": "markdown",
   "metadata": {},
   "source": [
    "### b."
   ]
  },
  {
   "cell_type": "markdown",
   "metadata": {},
   "source": [
    "### c."
   ]
  },
  {
   "cell_type": "code",
   "execution_count": 129,
   "metadata": {
    "collapsed": true
   },
   "outputs": [],
   "source": [
    "N_CEOS = 5"
   ]
  },
  {
   "cell_type": "code",
   "execution_count": 130,
   "metadata": {
    "collapsed": false
   },
   "outputs": [
    {
     "data": {
      "text/plain": [
       "447"
      ]
     },
     "execution_count": 130,
     "metadata": {},
     "output_type": "execute_result"
    }
   ],
   "source": [
    "df_selected.shape[0]"
   ]
  },
  {
   "cell_type": "code",
   "execution_count": 131,
   "metadata": {
    "collapsed": false
   },
   "outputs": [],
   "source": [
    "import random\n",
    "\n",
    "df_cols_numbers = random.sample(range(0, df.shape[0]), N_CEOS)"
   ]
  },
  {
   "cell_type": "code",
   "execution_count": 132,
   "metadata": {
    "collapsed": false
   },
   "outputs": [],
   "source": [
    "df_selected_five = df_selected.iloc[df_cols_numbers]"
   ]
  },
  {
   "cell_type": "code",
   "execution_count": 133,
   "metadata": {
    "collapsed": false
   },
   "outputs": [
    {
     "data": {
      "text/plain": [
       "array([[ 0.71056324,  0.28943676],\n",
       "       [ 0.78706629,  0.21293371],\n",
       "       [ 0.73724103,  0.26275897],\n",
       "       [ 0.17831972,  0.82168028],\n",
       "       [ 0.76737684,  0.23262316]])"
      ]
     },
     "execution_count": 133,
     "metadata": {},
     "output_type": "execute_result"
    }
   ],
   "source": [
    "logistic_regr.predict_proba(df_selected_five)"
   ]
  },
  {
   "cell_type": "markdown",
   "metadata": {},
   "source": [
    "Probability will be calculated by having multiplied $<w, x>$ (including intercept) and getted sigmoid function from it."
   ]
  },
  {
   "cell_type": "markdown",
   "metadata": {},
   "source": [
    "Having probabilities we can assign the threshold, and having it assing label <br/ >\n",
    "There is some ways to choose threshold, one of them assign it to 0.5 another is to choose it by having banance between precision recall of classificator."
   ]
  },
  {
   "cell_type": "markdown",
   "metadata": {},
   "source": [
    "### d."
   ]
  },
  {
   "cell_type": "code",
   "execution_count": 135,
   "metadata": {
    "collapsed": true
   },
   "outputs": [],
   "source": [
    "y_pred = logistic_regr.predict(df_selected_five)"
   ]
  },
  {
   "cell_type": "code",
   "execution_count": 139,
   "metadata": {
    "collapsed": false
   },
   "outputs": [
    {
     "data": {
      "text/plain": [
       "array([1, 0, 0, 0, 0])"
      ]
     },
     "execution_count": 139,
     "metadata": {},
     "output_type": "execute_result"
    }
   ],
   "source": [
    "y_binary.iloc[df_cols_numbers].values"
   ]
  },
  {
   "cell_type": "code",
   "execution_count": 138,
   "metadata": {
    "collapsed": false
   },
   "outputs": [
    {
     "data": {
      "text/plain": [
       "array([0, 0, 0, 1, 0])"
      ]
     },
     "execution_count": 138,
     "metadata": {},
     "output_type": "execute_result"
    }
   ],
   "source": [
    "y_pred"
   ]
  },
  {
   "cell_type": "code",
   "execution_count": 142,
   "metadata": {
    "collapsed": false
   },
   "outputs": [
    {
     "name": "stdout",
     "output_type": "stream",
     "text": [
      "             precision    recall  f1-score   support\n",
      "\n",
      "          0       0.75      0.75      0.75         4\n",
      "          1       0.00      0.00      0.00         1\n",
      "\n",
      "avg / total       0.60      0.60      0.60         5\n",
      "\n"
     ]
    }
   ],
   "source": [
    "from sklearn.metrics import classification_report\n",
    "print(classification_report(y_pred, y_binary.iloc[df_cols_numbers].values))"
   ]
  },
  {
   "cell_type": "code",
   "execution_count": null,
   "metadata": {
    "collapsed": true
   },
   "outputs": [],
   "source": []
  }
 ],
 "metadata": {
  "kernelspec": {
   "display_name": "Python 3",
   "language": "python",
   "name": "python3"
  },
  "language_info": {
   "codemirror_mode": {
    "name": "ipython",
    "version": 3
   },
   "file_extension": ".py",
   "mimetype": "text/x-python",
   "name": "python",
   "nbconvert_exporter": "python",
   "pygments_lexer": "ipython3",
   "version": "3.6.0"
  }
 },
 "nbformat": 4,
 "nbformat_minor": 2
}
