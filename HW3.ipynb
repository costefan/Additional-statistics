{
 "cells": [
  {
   "cell_type": "code",
   "execution_count": 1,
   "metadata": {
    "collapsed": false
   },
   "outputs": [
    {
     "name": "stderr",
     "output_type": "stream",
     "text": [
      "/Users/costefan/.pyenv/versions/anaconda3-4.3.0/lib/python3.6/site-packages/matplotlib/__init__.py:997: UserWarning: Bad val \"TkAggX\" on line #1\n",
      "\t\"backend: TkAggX\n",
      "\"\n",
      "\tin file \"/Users/costefan/.matplotlib/matplotlibrc\"\n",
      "\tKey backend: Unrecognized backend string \"tkaggx\": valid strings are ['GTK', 'GTKAgg', 'GTKCairo', 'MacOSX', 'Qt4Agg', 'Qt5Agg', 'TkAgg', 'WX', 'WXAgg', 'GTK3Cairo', 'GTK3Agg', 'WebAgg', 'nbAgg', 'agg', 'cairo', 'gdk', 'pdf', 'pgf', 'ps', 'svg', 'template']\n",
      "  (val, error_details, msg))\n"
     ]
    }
   ],
   "source": [
    "import numpy as np\n",
    "import pandas as pd\n",
    "from matplotlib import pyplot as plt"
   ]
  },
  {
   "cell_type": "code",
   "execution_count": 2,
   "metadata": {
    "collapsed": true
   },
   "outputs": [],
   "source": [
    "%matplotlib inline"
   ]
  },
  {
   "cell_type": "markdown",
   "metadata": {},
   "source": [
    "# 1)"
   ]
  },
  {
   "cell_type": "markdown",
   "metadata": {},
   "source": [
    "## a."
   ]
  },
  {
   "cell_type": "markdown",
   "metadata": {},
   "source": [
    "Lasso is regression with adding regilarizator L1 to linear model, to avoid overfitting of model. <br/>\n",
    "We want to minimize residuals, and coefficients in linear regression(big coeffs - is the signal, that model is overfitted) <br/> \n",
    "So we add to the model norm of vector of coeffs with some multiplier Lambda. <br />\n",
    "Also Lasso regression, unlike Ridge, is not smooth, and can assign coeffs to nulls (select subset)."
   ]
  },
  {
   "cell_type": "markdown",
   "metadata": {},
   "source": [
    "## b."
   ]
  },
  {
   "cell_type": "markdown",
   "metadata": {},
   "source": [
    "Cause by doing Regularization we are trying to fix scales of coeffs, and if our $x$`s is not standartized, it has influence in all model. cause if we'll have different dimensions of x, we would not conclude anything, cause mathematically coefficients of x would not mean anything without scaling x."
   ]
  },
  {
   "cell_type": "markdown",
   "metadata": {},
   "source": [
    "## c."
   ]
  },
  {
   "cell_type": "code",
   "execution_count": 3,
   "metadata": {
    "collapsed": true
   },
   "outputs": [],
   "source": [
    "df = pd.read_excel('ceo.xls')"
   ]
  },
  {
   "cell_type": "code",
   "execution_count": 4,
   "metadata": {
    "collapsed": true
   },
   "outputs": [],
   "source": [
    "cols = ['salary', 'totcomp', 'tenure', 'age', 'sales', 'profits', 'assets']"
   ]
  },
  {
   "cell_type": "code",
   "execution_count": 5,
   "metadata": {
    "collapsed": false
   },
   "outputs": [],
   "source": [
    "df = df[cols]"
   ]
  },
  {
   "cell_type": "code",
   "execution_count": 6,
   "metadata": {
    "collapsed": false
   },
   "outputs": [],
   "source": [
    "X, y = df.drop('salary', axis=1).as_matrix(), df['salary'].as_matrix()"
   ]
  },
  {
   "cell_type": "code",
   "execution_count": 7,
   "metadata": {
    "collapsed": false
   },
   "outputs": [
    {
     "data": {
      "text/html": [
       "<div>\n",
       "<table border=\"1\" class=\"dataframe\">\n",
       "  <thead>\n",
       "    <tr style=\"text-align: right;\">\n",
       "      <th></th>\n",
       "      <th>salary</th>\n",
       "      <th>totcomp</th>\n",
       "      <th>tenure</th>\n",
       "      <th>age</th>\n",
       "      <th>sales</th>\n",
       "      <th>profits</th>\n",
       "      <th>assets</th>\n",
       "    </tr>\n",
       "  </thead>\n",
       "  <tbody>\n",
       "    <tr>\n",
       "      <th>0</th>\n",
       "      <td>3030</td>\n",
       "      <td>8138</td>\n",
       "      <td>7</td>\n",
       "      <td>61</td>\n",
       "      <td>161315.0</td>\n",
       "      <td>2956.0</td>\n",
       "      <td>257389.0</td>\n",
       "    </tr>\n",
       "    <tr>\n",
       "      <th>1</th>\n",
       "      <td>6050</td>\n",
       "      <td>14530</td>\n",
       "      <td>0</td>\n",
       "      <td>51</td>\n",
       "      <td>144416.0</td>\n",
       "      <td>22071.0</td>\n",
       "      <td>237545.0</td>\n",
       "    </tr>\n",
       "    <tr>\n",
       "      <th>2</th>\n",
       "      <td>3571</td>\n",
       "      <td>7433</td>\n",
       "      <td>11</td>\n",
       "      <td>63</td>\n",
       "      <td>139208.0</td>\n",
       "      <td>4430.0</td>\n",
       "      <td>49271.0</td>\n",
       "    </tr>\n",
       "    <tr>\n",
       "      <th>3</th>\n",
       "      <td>3300</td>\n",
       "      <td>13464</td>\n",
       "      <td>6</td>\n",
       "      <td>60</td>\n",
       "      <td>100697.0</td>\n",
       "      <td>6370.0</td>\n",
       "      <td>92630.0</td>\n",
       "    </tr>\n",
       "    <tr>\n",
       "      <th>4</th>\n",
       "      <td>10000</td>\n",
       "      <td>68285</td>\n",
       "      <td>18</td>\n",
       "      <td>63</td>\n",
       "      <td>100469.0</td>\n",
       "      <td>9296.0</td>\n",
       "      <td>355935.0</td>\n",
       "    </tr>\n",
       "  </tbody>\n",
       "</table>\n",
       "</div>"
      ],
      "text/plain": [
       "   salary  totcomp  tenure  age     sales  profits    assets\n",
       "0    3030     8138       7   61  161315.0   2956.0  257389.0\n",
       "1    6050    14530       0   51  144416.0  22071.0  237545.0\n",
       "2    3571     7433      11   63  139208.0   4430.0   49271.0\n",
       "3    3300    13464       6   60  100697.0   6370.0   92630.0\n",
       "4   10000    68285      18   63  100469.0   9296.0  355935.0"
      ]
     },
     "execution_count": 7,
     "metadata": {},
     "output_type": "execute_result"
    }
   ],
   "source": [
    "df.head()"
   ]
  },
  {
   "cell_type": "code",
   "execution_count": 8,
   "metadata": {
    "collapsed": false
   },
   "outputs": [],
   "source": [
    "from sklearn.preprocessing import StandardScaler"
   ]
  },
  {
   "cell_type": "code",
   "execution_count": 9,
   "metadata": {
    "collapsed": true
   },
   "outputs": [],
   "source": [
    "from sklearn.linear_model import Lasso"
   ]
  },
  {
   "cell_type": "code",
   "execution_count": 10,
   "metadata": {
    "collapsed": true
   },
   "outputs": [],
   "source": [
    "from sklearn.pipeline import Pipeline"
   ]
  },
  {
   "cell_type": "markdown",
   "metadata": {},
   "source": [
    "## Split data on train/test"
   ]
  },
  {
   "cell_type": "code",
   "execution_count": 11,
   "metadata": {
    "collapsed": false
   },
   "outputs": [
    {
     "name": "stderr",
     "output_type": "stream",
     "text": [
      "/Users/costefan/.pyenv/versions/anaconda3-4.3.0/lib/python3.6/site-packages/sklearn/cross_validation.py:44: DeprecationWarning: This module was deprecated in version 0.18 in favor of the model_selection module into which all the refactored classes and functions are moved. Also note that the interface of the new CV iterators are different from that of this module. This module will be removed in 0.20.\n",
      "  \"This module will be removed in 0.20.\", DeprecationWarning)\n"
     ]
    }
   ],
   "source": [
    "from sklearn.cross_validation import train_test_split"
   ]
  },
  {
   "cell_type": "code",
   "execution_count": 12,
   "metadata": {
    "collapsed": false
   },
   "outputs": [],
   "source": [
    "X_train, X_test, y_train, y_test = train_test_split(X, y, test_size=0.3)"
   ]
  },
  {
   "cell_type": "code",
   "execution_count": 13,
   "metadata": {
    "collapsed": false
   },
   "outputs": [
    {
     "data": {
      "text/plain": [
       "array([[  7.46700000e+03,   2.00000000e+00,   6.00000000e+01,\n",
       "          7.35100000e+03,   1.94300000e+03,   4.18510000e+04],\n",
       "       [  7.77000000e+02,   2.00000000e+00,   5.10000000e+01,\n",
       "          3.24290000e+03,   2.27900000e+02,   2.74810000e+03],\n",
       "       [  7.54100000e+03,   3.00000000e+00,   5.70000000e+01,\n",
       "          1.20480000e+04,  -7.30000000e+01,   1.33115000e+05],\n",
       "       ..., \n",
       "       [  1.08700000e+03,   1.00000000e+00,   6.20000000e+01,\n",
       "          3.83610000e+03,   5.13000000e+01,   6.90000000e+03],\n",
       "       [  9.08000000e+02,   2.00000000e+00,   5.20000000e+01,\n",
       "          8.57540000e+03,   5.05000000e+01,   1.55230000e+03],\n",
       "       [  3.65490000e+04,   1.30000000e+01,   5.50000000e+01,\n",
       "          4.55990000e+03,  -7.54800000e+02,   3.85250000e+03]])"
      ]
     },
     "execution_count": 13,
     "metadata": {},
     "output_type": "execute_result"
    }
   ],
   "source": [
    "X_train"
   ]
  },
  {
   "cell_type": "code",
   "execution_count": 14,
   "metadata": {
    "collapsed": true
   },
   "outputs": [],
   "source": [
    "scaler = StandardScaler()"
   ]
  },
  {
   "cell_type": "code",
   "execution_count": 15,
   "metadata": {
    "collapsed": true
   },
   "outputs": [],
   "source": [
    "sc = scaler.fit(X_train)"
   ]
  },
  {
   "cell_type": "code",
   "execution_count": 16,
   "metadata": {
    "collapsed": false
   },
   "outputs": [],
   "source": [
    "X_train_scaled = sc.transform(X_train)"
   ]
  },
  {
   "cell_type": "code",
   "execution_count": 17,
   "metadata": {
    "collapsed": false
   },
   "outputs": [
    {
     "data": {
      "text/plain": [
       "array([[-0.04010727, -0.66752252,  0.5247998 , -0.22853294,  1.2742613 ,\n",
       "         0.26490728],\n",
       "       [-0.22215161, -0.66752252, -0.76222015, -0.49595033, -0.35730257,\n",
       "        -0.36807312],\n",
       "       [-0.03809362, -0.55005663,  0.09579315,  0.07721898, -0.64354685,\n",
       "         1.74224842],\n",
       "       ..., \n",
       "       [-0.21371607, -0.78498841,  0.81080423, -0.45733589, -0.52530104,\n",
       "        -0.300864  ],\n",
       "       [-0.21858692, -0.66752252, -0.61921793, -0.14883044, -0.52606208,\n",
       "        -0.3874302 ],\n",
       "       [ 0.75125501,  0.62460229, -0.19021128, -0.41022002, -1.29213891,\n",
       "        -0.35019558]])"
      ]
     },
     "execution_count": 17,
     "metadata": {},
     "output_type": "execute_result"
    }
   ],
   "source": [
    "X_train_scaled"
   ]
  },
  {
   "cell_type": "markdown",
   "metadata": {},
   "source": [
    "## Scatter plots"
   ]
  },
  {
   "cell_type": "code",
   "execution_count": 18,
   "metadata": {
    "collapsed": false
   },
   "outputs": [
    {
     "data": {
      "image/png": "[encoded data removed]",
      "text/plain": [
       "<matplotlib.figure.Figure at 0x10ffc61d0>"
      ]
     },
     "metadata": {},
     "output_type": "display_data"
    }
   ],
   "source": [
    "colors = \"bgrcmykw\"\n",
    "\n",
    "for index in range(len(cols) - 1):\n",
    "    plt.scatter(list(map(lambda x: x[index], X_train_scaled)), y_train)"
   ]
  },
  {
   "cell_type": "code",
   "execution_count": 19,
   "metadata": {
    "collapsed": true
   },
   "outputs": [],
   "source": [
    "from sklearn.linear_model import LassoCV"
   ]
  },
  {
   "cell_type": "code",
   "execution_count": 20,
   "metadata": {
    "collapsed": true
   },
   "outputs": [],
   "source": [
    "lasso_regression = Lasso()"
   ]
  },
  {
   "cell_type": "code",
   "execution_count": 21,
   "metadata": {
    "collapsed": false
   },
   "outputs": [],
   "source": [
    "lasso_params = {\n",
    "    'alpha': np.arange(0.1, 1, 0.02)\n",
    "}"
   ]
  },
  {
   "cell_type": "code",
   "execution_count": 22,
   "metadata": {
    "collapsed": true
   },
   "outputs": [],
   "source": [
    "from sklearn.model_selection import GridSearchCV"
   ]
  },
  {
   "cell_type": "code",
   "execution_count": 23,
   "metadata": {
    "collapsed": true
   },
   "outputs": [],
   "source": [
    "lasso_grid = GridSearchCV(\n",
    "    lasso_regression,\n",
    "    lasso_params,\n",
    "    cv=5,\n",
    "    n_jobs=-1\n",
    ")"
   ]
  },
  {
   "cell_type": "code",
   "execution_count": 24,
   "metadata": {
    "collapsed": false
   },
   "outputs": [
    {
     "data": {
      "text/plain": [
       "GridSearchCV(cv=5, error_score='raise',\n",
       "       estimator=Lasso(alpha=1.0, copy_X=True, fit_intercept=True, max_iter=1000,\n",
       "   normalize=False, positive=False, precompute=False, random_state=None,\n",
       "   selection='cyclic', tol=0.0001, warm_start=False),\n",
       "       fit_params={}, iid=True, n_jobs=-1,\n",
       "       param_grid={'alpha': array([ 0.1 ,  0.12,  0.14,  0.16,  0.18,  0.2 ,  0.22,  0.24,  0.26,\n",
       "        0.28,  0.3 ,  0.32,  0.34,  0.36,  0.38,  0.4 ,  0.42,  0.44,\n",
       "        0.46,  0.48,  0.5 ,  0.52,  0.54,  0.56,  0.58,  0.6 ,  0.62,\n",
       "        0.64,  0.66,  0.68,  0.7 ,  0.72,  0.74,  0.76,  0.78,  0.8 ,\n",
       "        0.82,  0.84,  0.86,  0.88,  0.9 ,  0.92,  0.94,  0.96,  0.98])},\n",
       "       pre_dispatch='2*n_jobs', refit=True, return_train_score=True,\n",
       "       scoring=None, verbose=0)"
      ]
     },
     "execution_count": 24,
     "metadata": {},
     "output_type": "execute_result"
    }
   ],
   "source": [
    "lasso_grid.fit(X_train_scaled, y_train)"
   ]
  },
  {
   "cell_type": "code",
   "execution_count": 25,
   "metadata": {
    "collapsed": false
   },
   "outputs": [
    {
     "data": {
      "text/plain": [
       "{'alpha': 0.98000000000000009}"
      ]
     },
     "execution_count": 25,
     "metadata": {},
     "output_type": "execute_result"
    }
   ],
   "source": [
    "lasso_grid.best_params_"
   ]
  },
  {
   "cell_type": "code",
   "execution_count": 26,
   "metadata": {
    "collapsed": false
   },
   "outputs": [
    {
     "data": {
      "text/plain": [
       "-0.56856649109110158"
      ]
     },
     "execution_count": 26,
     "metadata": {},
     "output_type": "execute_result"
    }
   ],
   "source": [
    "lasso_grid.best_score_"
   ]
  },
  {
   "cell_type": "code",
   "execution_count": 27,
   "metadata": {
    "collapsed": false
   },
   "outputs": [
    {
     "data": {
      "text/plain": [
       "{'mean_fit_time': array([ 0.00348911,  0.00060015,  0.00031362,  0.00043159,  0.00049205,\n",
       "         0.000491  ,  0.00047636,  0.00047331,  0.00047221,  0.00047121,\n",
       "         0.00051818,  0.00046926,  0.00046859,  0.00044241,  0.00054483,\n",
       "         0.00054164,  0.00049648,  0.00040727,  0.00044413,  0.00049481,\n",
       "         0.00046158,  0.00048661,  0.00049105,  0.00050783,  0.00047288,\n",
       "         0.00047441,  0.00040932,  0.0004108 ,  0.00046968,  0.00044246,\n",
       "         0.00046935,  0.00048895,  0.00040498,  0.00030665,  0.00035486,\n",
       "         0.00033336,  0.00034275,  0.00031357,  0.00033607,  0.00041323,\n",
       "         0.00043607,  0.00032883,  0.00029449,  0.00029316,  0.00029278]),\n",
       " 'mean_score_time': array([ 0.00244913,  0.0002737 ,  0.00018077,  0.00025802,  0.00029054,\n",
       "         0.00029583,  0.00026922,  0.00028367,  0.00027542,  0.00027633,\n",
       "         0.0002852 ,  0.0002821 ,  0.00094991,  0.00026541,  0.00021024,\n",
       "         0.00030065,  0.00028744,  0.00022125,  0.00026379,  0.00027809,\n",
       "         0.00028787,  0.00029221,  0.00029759,  0.00028439,  0.00026598,\n",
       "         0.00027509,  0.00023704,  0.00023766,  0.00025487,  0.0002634 ,\n",
       "         0.00027466,  0.00029178,  0.00019145,  0.00018096,  0.00022922,\n",
       "         0.00018816,  0.00019984,  0.00018244,  0.00020452,  0.00022426,\n",
       "         0.00026917,  0.00018435,  0.00017147,  0.000177  ,  0.00016994]),\n",
       " 'mean_test_score': array([-0.57348891, -0.57337634, -0.57326389, -0.5731516 , -0.57303931,\n",
       "        -0.57292703, -0.57281476, -0.57270249, -0.57259476, -0.57248251,\n",
       "        -0.57237019, -0.57225796, -0.57214574, -0.57203352, -0.57192132,\n",
       "        -0.57180912, -0.57169611, -0.57158393, -0.57147176, -0.57135959,\n",
       "        -0.57124744, -0.57113529, -0.57102315, -0.57091102, -0.5707989 ,\n",
       "        -0.57068679, -0.57057468, -0.57046259, -0.5703505 , -0.57023842,\n",
       "        -0.57012635, -0.57001428, -0.56990223, -0.56979018, -0.56967814,\n",
       "        -0.56956611, -0.56945409, -0.56934208, -0.56923007, -0.56911807,\n",
       "        -0.56900608, -0.5688941 , -0.56878213, -0.56867845, -0.56856649]),\n",
       " 'mean_train_score': array([ 0.36738349,  0.36738348,  0.36738347,  0.36738346,  0.36738344,\n",
       "         0.36738343,  0.36738341,  0.36738339,  0.36738337,  0.36738334,\n",
       "         0.36738332,  0.36738329,  0.36738326,  0.36738323,  0.3673832 ,\n",
       "         0.36738316,  0.36738313,  0.36738309,  0.36738305,  0.36738301,\n",
       "         0.36738297,  0.36738292,  0.36738288,  0.36738283,  0.36738278,\n",
       "         0.36738273,  0.36738267,  0.36738262,  0.36738256,  0.3673825 ,\n",
       "         0.36738244,  0.36738238,  0.36738232,  0.36738225,  0.36738218,\n",
       "         0.36738212,  0.36738204,  0.36738197,  0.3673819 ,  0.36738182,\n",
       "         0.36738174,  0.36738166,  0.36738158,  0.3673815 ,  0.36738141]),\n",
       " 'param_alpha': masked_array(data = [0.10000000000000001 0.12000000000000001 0.14000000000000001\n",
       "  0.16000000000000003 0.18000000000000002 0.20000000000000001\n",
       "  0.22000000000000003 0.24000000000000002 0.26000000000000001\n",
       "  0.28000000000000003 0.30000000000000004 0.32000000000000006\n",
       "  0.34000000000000008 0.3600000000000001 0.38 0.40000000000000002\n",
       "  0.42000000000000004 0.44000000000000006 0.46000000000000008\n",
       "  0.48000000000000009 0.50000000000000011 0.52000000000000013\n",
       "  0.54000000000000004 0.56000000000000005 0.58000000000000007\n",
       "  0.60000000000000009 0.62000000000000011 0.64000000000000012\n",
       "  0.66000000000000003 0.68000000000000005 0.70000000000000007\n",
       "  0.72000000000000008 0.7400000000000001 0.76000000000000012\n",
       "  0.78000000000000014 0.80000000000000016 0.82000000000000017\n",
       "  0.84000000000000008 0.8600000000000001 0.88000000000000012\n",
       "  0.90000000000000013 0.92000000000000015 0.94000000000000017\n",
       "  0.96000000000000019 0.98000000000000009],\n",
       "              mask = [False False False False False False False False False False False False\n",
       "  False False False False False False False False False False False False\n",
       "  False False False False False False False False False False False False\n",
       "  False False False False False False False False False],\n",
       "        fill_value = ?),\n",
       " 'params': ({'alpha': 0.10000000000000001},\n",
       "  {'alpha': 0.12000000000000001},\n",
       "  {'alpha': 0.14000000000000001},\n",
       "  {'alpha': 0.16000000000000003},\n",
       "  {'alpha': 0.18000000000000002},\n",
       "  {'alpha': 0.20000000000000001},\n",
       "  {'alpha': 0.22000000000000003},\n",
       "  {'alpha': 0.24000000000000002},\n",
       "  {'alpha': 0.26000000000000001},\n",
       "  {'alpha': 0.28000000000000003},\n",
       "  {'alpha': 0.30000000000000004},\n",
       "  {'alpha': 0.32000000000000006},\n",
       "  {'alpha': 0.34000000000000008},\n",
       "  {'alpha': 0.3600000000000001},\n",
       "  {'alpha': 0.38},\n",
       "  {'alpha': 0.40000000000000002},\n",
       "  {'alpha': 0.42000000000000004},\n",
       "  {'alpha': 0.44000000000000006},\n",
       "  {'alpha': 0.46000000000000008},\n",
       "  {'alpha': 0.48000000000000009},\n",
       "  {'alpha': 0.50000000000000011},\n",
       "  {'alpha': 0.52000000000000013},\n",
       "  {'alpha': 0.54000000000000004},\n",
       "  {'alpha': 0.56000000000000005},\n",
       "  {'alpha': 0.58000000000000007},\n",
       "  {'alpha': 0.60000000000000009},\n",
       "  {'alpha': 0.62000000000000011},\n",
       "  {'alpha': 0.64000000000000012},\n",
       "  {'alpha': 0.66000000000000003},\n",
       "  {'alpha': 0.68000000000000005},\n",
       "  {'alpha': 0.70000000000000007},\n",
       "  {'alpha': 0.72000000000000008},\n",
       "  {'alpha': 0.7400000000000001},\n",
       "  {'alpha': 0.76000000000000012},\n",
       "  {'alpha': 0.78000000000000014},\n",
       "  {'alpha': 0.80000000000000016},\n",
       "  {'alpha': 0.82000000000000017},\n",
       "  {'alpha': 0.84000000000000008},\n",
       "  {'alpha': 0.8600000000000001},\n",
       "  {'alpha': 0.88000000000000012},\n",
       "  {'alpha': 0.90000000000000013},\n",
       "  {'alpha': 0.92000000000000015},\n",
       "  {'alpha': 0.94000000000000017},\n",
       "  {'alpha': 0.96000000000000019},\n",
       "  {'alpha': 0.98000000000000009}),\n",
       " 'rank_test_score': array([45, 44, 43, 42, 41, 40, 39, 38, 37, 36, 35, 34, 33, 32, 31, 30, 29,\n",
       "        28, 27, 26, 25, 24, 23, 22, 21, 20, 19, 18, 17, 16, 15, 14, 13, 12,\n",
       "        11, 10,  9,  8,  7,  6,  5,  4,  3,  2,  1], dtype=int32),\n",
       " 'split0_test_score': array([-4.06575598, -4.06523637, -4.0647168 , -4.06419726, -4.06367775,\n",
       "        -4.06315828, -4.06263884, -4.06211943, -4.06162242, -4.06110308,\n",
       "        -4.06058377, -4.0600645 , -4.05954525, -4.05902604, -4.05850687,\n",
       "        -4.05798772, -4.05746861, -4.05694954, -4.05643049, -4.05591148,\n",
       "        -4.0553925 , -4.05487356, -4.05435465, -4.05383577, -4.05331692,\n",
       "        -4.05279811, -4.05227933, -4.05176059, -4.05124188, -4.0507232 ,\n",
       "        -4.05020455, -4.04968594, -4.04916736, -4.04864881, -4.0481303 ,\n",
       "        -4.04761182, -4.04709337, -4.04657496, -4.04605658, -4.04553823,\n",
       "        -4.04501992, -4.04450164, -4.04398339, -4.04350618, -4.042988  ]),\n",
       " 'split0_train_score': array([ 0.46227263,  0.46227262,  0.4622726 ,  0.46227259,  0.46227257,\n",
       "         0.46227255,  0.46227253,  0.46227251,  0.46227249,  0.46227246,\n",
       "         0.46227243,  0.4622724 ,  0.46227237,  0.46227233,  0.4622723 ,\n",
       "         0.46227226,  0.46227222,  0.46227218,  0.46227213,  0.46227209,\n",
       "         0.46227204,  0.46227199,  0.46227194,  0.46227188,  0.46227183,\n",
       "         0.46227177,  0.46227171,  0.46227165,  0.46227158,  0.46227152,\n",
       "         0.46227145,  0.46227138,  0.46227131,  0.46227123,  0.46227116,\n",
       "         0.46227108,  0.462271  ,  0.46227092,  0.46227084,  0.46227075,\n",
       "         0.46227066,  0.46227057,  0.46227048,  0.46227038,  0.46227029]),\n",
       " 'split1_test_score': array([ 0.11788256,  0.11790103,  0.11791899,  0.11793695,  0.1179549 ,\n",
       "         0.11797285,  0.11799081,  0.11800875,  0.1180267 ,  0.11804465,\n",
       "         0.11806302,  0.11808096,  0.1180989 ,  0.11811684,  0.11813477,\n",
       "         0.11815271,  0.11817064,  0.11818857,  0.1182065 ,  0.11822443,\n",
       "         0.11824236,  0.11826028,  0.1182782 ,  0.11829612,  0.11831404,\n",
       "         0.11833196,  0.11834987,  0.11836779,  0.1183857 ,  0.11840361,\n",
       "         0.11842151,  0.11843942,  0.11845732,  0.11847522,  0.11849312,\n",
       "         0.11851102,  0.11852892,  0.11854681,  0.11856471,  0.1185826 ,\n",
       "         0.11860049,  0.11861837,  0.11863626,  0.11865414,  0.11867202]),\n",
       " 'split1_train_score': array([ 0.38316651,  0.38316649,  0.38316647,  0.38316645,  0.38316642,\n",
       "         0.38316639,  0.38316635,  0.38316632,  0.38316628,  0.38316623,\n",
       "         0.38316619,  0.38316614,  0.38316609,  0.38316603,  0.38316597,\n",
       "         0.38316591,  0.38316584,  0.38316577,  0.3831657 ,  0.38316562,\n",
       "         0.38316555,  0.38316546,  0.38316538,  0.38316529,  0.3831652 ,\n",
       "         0.3831651 ,  0.38316501,  0.38316491,  0.3831648 ,  0.38316469,\n",
       "         0.38316458,  0.38316447,  0.38316435,  0.38316423,  0.38316411,\n",
       "         0.38316398,  0.38316385,  0.38316372,  0.38316358,  0.38316344,\n",
       "         0.3831633 ,  0.38316315,  0.383163  ,  0.38316285,  0.3831627 ]),\n",
       " 'split2_test_score': array([ 0.50405672,  0.50405518,  0.50405276,  0.50405033,  0.5040479 ,\n",
       "         0.50404547,  0.50404304,  0.50404061,  0.50403818,  0.50403574,\n",
       "         0.50403331,  0.50403087,  0.50402843,  0.50402599,  0.50402355,\n",
       "         0.5040211 ,  0.50402115,  0.5040187 ,  0.50401626,  0.5040138 ,\n",
       "         0.50401135,  0.5040089 ,  0.50400644,  0.50400399,  0.50400153,\n",
       "         0.50399907,  0.50399661,  0.50399414,  0.50399168,  0.50398921,\n",
       "         0.50398675,  0.50398428,  0.50398181,  0.50397933,  0.50397686,\n",
       "         0.50397439,  0.50397191,  0.50396943,  0.50396695,  0.50396447,\n",
       "         0.50396199,  0.5039595 ,  0.50395701,  0.50395453,  0.50395204]),\n",
       " 'split2_train_score': array([ 0.3064861 ,  0.30648609,  0.30648608,  0.30648608,  0.30648607,\n",
       "         0.30648606,  0.30648605,  0.30648604,  0.30648603,  0.30648601,\n",
       "         0.306486  ,  0.30648598,  0.30648597,  0.30648595,  0.30648593,\n",
       "         0.30648591,  0.30648589,  0.30648587,  0.30648585,  0.30648583,\n",
       "         0.3064858 ,  0.30648578,  0.30648575,  0.30648573,  0.3064857 ,\n",
       "         0.30648567,  0.30648564,  0.30648561,  0.30648558,  0.30648554,\n",
       "         0.30648551,  0.30648548,  0.30648544,  0.3064854 ,  0.30648537,\n",
       "         0.30648533,  0.30648529,  0.30648525,  0.30648521,  0.30648516,\n",
       "         0.30648512,  0.30648508,  0.30648503,  0.30648498,  0.30648494]),\n",
       " 'split3_test_score': array([ 0.13816524,  0.13816484,  0.13816515,  0.13816475,  0.13816435,\n",
       "         0.13816394,  0.13816354,  0.13816313,  0.13816272,  0.13816232,\n",
       "         0.13816191,  0.1381615 ,  0.13816109,  0.13816068,  0.13816027,\n",
       "         0.13815986,  0.13816186,  0.13816144,  0.13816103,  0.13816062,\n",
       "         0.1381602 ,  0.13815978,  0.13815937,  0.13815895,  0.13815853,\n",
       "         0.13815811,  0.13815769,  0.13815727,  0.13815685,  0.13815643,\n",
       "         0.13815601,  0.13815558,  0.13815516,  0.13815473,  0.13815431,\n",
       "         0.13815388,  0.13815346,  0.13815303,  0.1381526 ,  0.13815217,\n",
       "         0.13815174,  0.13815131,  0.13815088,  0.13815045,  0.13815001]),\n",
       " 'split3_train_score': array([ 0.39292699,  0.39292698,  0.39292697,  0.39292696,  0.39292695,\n",
       "         0.39292693,  0.39292692,  0.39292691,  0.39292689,  0.39292687,\n",
       "         0.39292685,  0.39292683,  0.39292681,  0.39292679,  0.39292676,\n",
       "         0.39292673,  0.39292671,  0.39292668,  0.39292665,  0.39292662,\n",
       "         0.39292658,  0.39292655,  0.39292651,  0.39292648,  0.39292644,\n",
       "         0.3929264 ,  0.39292636,  0.39292632,  0.39292627,  0.39292623,\n",
       "         0.39292618,  0.39292613,  0.39292609,  0.39292604,  0.39292598,\n",
       "         0.39292593,  0.39292588,  0.39292582,  0.39292577,  0.39292571,\n",
       "         0.39292565,  0.39292559,  0.39292553,  0.39292546,  0.3929254 ]),\n",
       " 'split4_test_score': array([ 0.48338265,  0.48340432,  0.48342609,  0.48344785,  0.48346961,\n",
       "         0.48349137,  0.48351312,  0.48353487,  0.48355662,  0.48357836,\n",
       "         0.4836001 ,  0.48362183,  0.48364356,  0.48366528,  0.48368701,\n",
       "         0.48370872,  0.48372968,  0.48375138,  0.48377309,  0.48379479,\n",
       "         0.48381649,  0.48383818,  0.48385987,  0.48388156,  0.48390324,\n",
       "         0.48392492,  0.48394659,  0.48396826,  0.48398992,  0.48401159,\n",
       "         0.48403324,  0.4840549 ,  0.48407655,  0.48409819,  0.48411983,\n",
       "         0.48414147,  0.4841631 ,  0.48418473,  0.48420636,  0.48422798,\n",
       "         0.4842496 ,  0.48427121,  0.48429282,  0.48431443,  0.48433603]),\n",
       " 'split4_train_score': array([ 0.29206524,  0.29206523,  0.29206523,  0.29206522,  0.29206521,\n",
       "         0.29206519,  0.29206518,  0.29206517,  0.29206515,  0.29206513,\n",
       "         0.29206512,  0.2920651 ,  0.29206508,  0.29206505,  0.29206503,\n",
       "         0.29206501,  0.29206498,  0.29206495,  0.29206492,  0.2920649 ,\n",
       "         0.29206486,  0.29206483,  0.2920648 ,  0.29206477,  0.29206473,\n",
       "         0.29206469,  0.29206465,  0.29206462,  0.29206458,  0.29206453,\n",
       "         0.29206449,  0.29206445,  0.2920644 ,  0.29206435,  0.29206431,\n",
       "         0.29206426,  0.29206421,  0.29206415,  0.2920641 ,  0.29206405,\n",
       "         0.29206399,  0.29206393,  0.29206388,  0.29206382,  0.29206376]),\n",
       " 'std_fit_time': array([  1.74863949e-03,   1.34672135e-04,   2.60564348e-06,\n",
       "          8.82897703e-05,   5.12106236e-06,   4.01393805e-06,\n",
       "          3.81374347e-05,   2.21482519e-05,   2.46417338e-05,\n",
       "          6.79823310e-06,   9.25959075e-05,   5.39353206e-06,\n",
       "          7.34948232e-06,   4.81708440e-05,   4.45255398e-04,\n",
       "          9.23629267e-05,   1.38992920e-05,   8.44629776e-05,\n",
       "          1.85240036e-05,   3.54394923e-05,   3.15297191e-05,\n",
       "          1.23426238e-06,   7.07842236e-06,   5.06150908e-05,\n",
       "          7.81867549e-06,   6.80959524e-06,   7.19226939e-05,\n",
       "          8.37515297e-05,   1.77988691e-05,   1.50679033e-05,\n",
       "          8.20464809e-06,   2.18895784e-05,   1.23891672e-04,\n",
       "          7.33058623e-06,   7.93881028e-05,   9.08421718e-06,\n",
       "          2.96585813e-05,   4.73343448e-06,   5.03153815e-05,\n",
       "          7.29556800e-05,   5.95063352e-05,   1.26702372e-05,\n",
       "          1.97987933e-06,   3.75643585e-06,   7.10471364e-06]),\n",
       " 'std_score_time': array([  1.10421535e-03,   5.41011631e-05,   7.13664510e-07,\n",
       "          4.45536391e-05,   1.05120696e-06,   6.69340788e-06,\n",
       "          3.25307801e-05,   5.51978917e-07,   1.26783101e-05,\n",
       "          9.77225377e-07,   1.24575932e-05,   2.08612851e-06,\n",
       "          1.34358664e-03,   2.54210113e-05,   5.22726196e-05,\n",
       "          1.97193930e-05,   1.66278799e-06,   4.28965315e-05,\n",
       "          6.11319371e-06,   5.08362980e-06,   2.08730530e-05,\n",
       "          2.52138215e-06,   1.22811259e-05,   1.13477226e-05,\n",
       "          3.86973258e-06,   6.97552626e-07,   4.53560627e-05,\n",
       "          4.70818202e-05,   1.47842590e-05,   7.47646603e-06,\n",
       "          2.41262639e-06,   7.60611320e-06,   1.58342967e-05,\n",
       "          2.02866052e-06,   5.79455450e-05,   3.38990642e-06,\n",
       "          2.30615724e-05,   1.60574515e-06,   4.67802284e-05,\n",
       "          4.41947537e-05,   8.16953012e-05,   8.15712157e-06,\n",
       "          1.39347450e-06,   1.24760139e-05,   1.65456310e-06]),\n",
       " 'std_test_score': array([ 1.76422632,  1.76402246,  1.76381852,  1.76361455,  1.76341058,\n",
       "         1.76320663,  1.76300269,  1.76279877,  1.76260379,  1.76239989,\n",
       "         1.76219604,  1.76199216,  1.7617883 ,  1.76158445,  1.76138061,\n",
       "         1.76117678,  1.76097337,  1.76076957,  1.76056579,  1.76036201,\n",
       "         1.76015825,  1.7599545 ,  1.75975076,  1.75954704,  1.75934333,\n",
       "         1.75913963,  1.75893594,  1.75873227,  1.75852861,  1.75832496,\n",
       "         1.75812132,  1.7579177 ,  1.75771409,  1.75751049,  1.75730691,\n",
       "         1.75710333,  1.75689977,  1.75669623,  1.75649269,  1.75628917,\n",
       "         1.75608566,  1.75588216,  1.75567868,  1.7554916 ,  1.75528814]),\n",
       " 'std_train_score': array([ 0.06210773,  0.06210773,  0.06210773,  0.06210773,  0.06210772,\n",
       "         0.06210772,  0.06210772,  0.06210771,  0.06210771,  0.0621077 ,\n",
       "         0.0621077 ,  0.06210769,  0.06210768,  0.06210768,  0.06210767,\n",
       "         0.06210766,  0.06210766,  0.06210765,  0.06210764,  0.06210763,\n",
       "         0.06210762,  0.06210761,  0.0621076 ,  0.06210759,  0.06210758,\n",
       "         0.06210757,  0.06210756,  0.06210755,  0.06210753,  0.06210752,\n",
       "         0.06210751,  0.06210749,  0.06210748,  0.06210747,  0.06210745,\n",
       "         0.06210744,  0.06210742,  0.06210741,  0.06210739,  0.06210737,\n",
       "         0.06210736,  0.06210734,  0.06210732,  0.0621073 ,  0.06210728])}"
      ]
     },
     "execution_count": 27,
     "metadata": {},
     "output_type": "execute_result"
    }
   ],
   "source": [
    "lasso_grid.cv_results_\n"
   ]
  },
  {
   "cell_type": "code",
   "execution_count": 28,
   "metadata": {
    "collapsed": true
   },
   "outputs": [],
   "source": [
    "from sklearn import metrics"
   ]
  },
  {
   "cell_type": "code",
   "execution_count": 29,
   "metadata": {
    "collapsed": true
   },
   "outputs": [],
   "source": [
    "X_test_scaled = sc.transform(X_test)"
   ]
  },
  {
   "cell_type": "code",
   "execution_count": 30,
   "metadata": {
    "collapsed": false
   },
   "outputs": [],
   "source": [
    "y_predict = lasso_grid.best_estimator_.predict(X_test_scaled)"
   ]
  },
  {
   "cell_type": "code",
   "execution_count": 31,
   "metadata": {
    "collapsed": false
   },
   "outputs": [
    {
     "name": "stderr",
     "output_type": "stream",
     "text": [
      "/Users/costefan/.pyenv/versions/anaconda3-4.3.0/lib/python3.6/site-packages/sklearn/model_selection/_search.py:667: DeprecationWarning: The grid_scores_ attribute was deprecated in version 0.18 in favor of the more elaborate cv_results_ attribute. The grid_scores_ attribute will not be available from 0.20\n",
      "  DeprecationWarning)\n"
     ]
    },
    {
     "data": {
      "text/plain": [
       "[mean: -0.57349, std: 1.75830, params: {'alpha': 0.10000000000000001},\n",
       " mean: -0.57338, std: 1.75809, params: {'alpha': 0.12000000000000001},\n",
       " mean: -0.57326, std: 1.75789, params: {'alpha': 0.14000000000000001},\n",
       " mean: -0.57315, std: 1.75769, params: {'alpha': 0.16000000000000003},\n",
       " mean: -0.57304, std: 1.75748, params: {'alpha': 0.18000000000000002},\n",
       " mean: -0.57293, std: 1.75728, params: {'alpha': 0.20000000000000001},\n",
       " mean: -0.57281, std: 1.75708, params: {'alpha': 0.22000000000000003},\n",
       " mean: -0.57270, std: 1.75687, params: {'alpha': 0.24000000000000002},\n",
       " mean: -0.57259, std: 1.75668, params: {'alpha': 0.26000000000000001},\n",
       " mean: -0.57248, std: 1.75648, params: {'alpha': 0.28000000000000003},\n",
       " mean: -0.57237, std: 1.75627, params: {'alpha': 0.30000000000000004},\n",
       " mean: -0.57226, std: 1.75607, params: {'alpha': 0.32000000000000006},\n",
       " mean: -0.57215, std: 1.75587, params: {'alpha': 0.34000000000000008},\n",
       " mean: -0.57203, std: 1.75566, params: {'alpha': 0.3600000000000001},\n",
       " mean: -0.57192, std: 1.75546, params: {'alpha': 0.38},\n",
       " mean: -0.57181, std: 1.75526, params: {'alpha': 0.40000000000000002},\n",
       " mean: -0.57170, std: 1.75506, params: {'alpha': 0.42000000000000004},\n",
       " mean: -0.57158, std: 1.75485, params: {'alpha': 0.44000000000000006},\n",
       " mean: -0.57147, std: 1.75465, params: {'alpha': 0.46000000000000008},\n",
       " mean: -0.57136, std: 1.75445, params: {'alpha': 0.48000000000000009},\n",
       " mean: -0.57125, std: 1.75424, params: {'alpha': 0.50000000000000011},\n",
       " mean: -0.57114, std: 1.75404, params: {'alpha': 0.52000000000000013},\n",
       " mean: -0.57102, std: 1.75384, params: {'alpha': 0.54000000000000004},\n",
       " mean: -0.57091, std: 1.75363, params: {'alpha': 0.56000000000000005},\n",
       " mean: -0.57080, std: 1.75343, params: {'alpha': 0.58000000000000007},\n",
       " mean: -0.57069, std: 1.75323, params: {'alpha': 0.60000000000000009},\n",
       " mean: -0.57057, std: 1.75303, params: {'alpha': 0.62000000000000011},\n",
       " mean: -0.57046, std: 1.75282, params: {'alpha': 0.64000000000000012},\n",
       " mean: -0.57035, std: 1.75262, params: {'alpha': 0.66000000000000003},\n",
       " mean: -0.57024, std: 1.75242, params: {'alpha': 0.68000000000000005},\n",
       " mean: -0.57013, std: 1.75221, params: {'alpha': 0.70000000000000007},\n",
       " mean: -0.57001, std: 1.75201, params: {'alpha': 0.72000000000000008},\n",
       " mean: -0.56990, std: 1.75181, params: {'alpha': 0.7400000000000001},\n",
       " mean: -0.56979, std: 1.75161, params: {'alpha': 0.76000000000000012},\n",
       " mean: -0.56968, std: 1.75140, params: {'alpha': 0.78000000000000014},\n",
       " mean: -0.56957, std: 1.75120, params: {'alpha': 0.80000000000000016},\n",
       " mean: -0.56945, std: 1.75100, params: {'alpha': 0.82000000000000017},\n",
       " mean: -0.56934, std: 1.75079, params: {'alpha': 0.84000000000000008},\n",
       " mean: -0.56923, std: 1.75059, params: {'alpha': 0.8600000000000001},\n",
       " mean: -0.56912, std: 1.75039, params: {'alpha': 0.88000000000000012},\n",
       " mean: -0.56901, std: 1.75019, params: {'alpha': 0.90000000000000013},\n",
       " mean: -0.56889, std: 1.74998, params: {'alpha': 0.92000000000000015},\n",
       " mean: -0.56878, std: 1.74978, params: {'alpha': 0.94000000000000017},\n",
       " mean: -0.56868, std: 1.74959, params: {'alpha': 0.96000000000000019},\n",
       " mean: -0.56857, std: 1.74939, params: {'alpha': 0.98000000000000009}]"
      ]
     },
     "execution_count": 31,
     "metadata": {},
     "output_type": "execute_result"
    }
   ],
   "source": [
    "lasso_grid.grid_scores_"
   ]
  },
  {
   "cell_type": "code",
   "execution_count": 32,
   "metadata": {
    "collapsed": false
   },
   "outputs": [
    {
     "name": "stderr",
     "output_type": "stream",
     "text": [
      "/Users/costefan/.pyenv/versions/anaconda3-4.3.0/lib/python3.6/site-packages/sklearn/model_selection/_search.py:667: DeprecationWarning: The grid_scores_ attribute was deprecated in version 0.18 in favor of the more elaborate cv_results_ attribute. The grid_scores_ attribute will not be available from 0.20\n",
      "  DeprecationWarning)\n"
     ]
    },
    {
     "data": {
      "text/plain": [
       "{0.10000000000000001: -0.57348890909437455,\n",
       " 0.12000000000000001: -0.57337633815847533,\n",
       " 0.14000000000000001: -0.57326389116720633,\n",
       " 0.16000000000000003: -0.57315159522220704,\n",
       " 0.18000000000000002: -0.57303930758910748,\n",
       " 0.20000000000000001: -0.5729270282679092,\n",
       " 0.22000000000000003: -0.57281475725861031,\n",
       " 0.24000000000000002: -0.57270249456121114,\n",
       " 0.26000000000000001: -0.57259475681448202,\n",
       " 0.28000000000000003: -0.57248251048452992,\n",
       " 0.30000000000000004: -0.572370186403234,\n",
       " 0.32000000000000006: -0.57225795657233069,\n",
       " 0.34000000000000008: -0.5721457350533391,\n",
       " 0.3600000000000001: -0.57203352184626088,\n",
       " 0.38: -0.57192131695109172,\n",
       " 0.40000000000000002: -0.57180912036783604,\n",
       " 0.42000000000000004: -0.57169610787578651,\n",
       " 0.44000000000000006: -0.57158392796060475,\n",
       " 0.46000000000000008: -0.57147175635733471,\n",
       " 0.48000000000000009: -0.5713595930659755,\n",
       " 0.50000000000000011: -0.57124743808652911,\n",
       " 0.52000000000000013: -0.57113529141899355,\n",
       " 0.54000000000000004: -0.57102315306337004,\n",
       " 0.56000000000000005: -0.57091102301965768,\n",
       " 0.58000000000000007: -0.57079890128785593,\n",
       " 0.60000000000000009: -0.57068678786796745,\n",
       " 0.62000000000000011: -0.57057468275998946,\n",
       " 0.64000000000000012: -0.57046258596392285,\n",
       " 0.66000000000000003: -0.57035049747976896,\n",
       " 0.68000000000000005: -0.57023841730752545,\n",
       " 0.70000000000000007: -0.57012634544719454,\n",
       " 0.72000000000000008: -0.57001428189877423,\n",
       " 0.7400000000000001: -0.56990222666226609,\n",
       " 0.76000000000000012: -0.56979017973766999,\n",
       " 0.78000000000000014: -0.56967814112498394,\n",
       " 0.80000000000000016: -0.56956611082421094,\n",
       " 0.82000000000000017: -0.56945408883534854,\n",
       " 0.84000000000000008: -0.56934207515839819,\n",
       " 0.8600000000000001: -0.56923006979335944,\n",
       " 0.88000000000000012: -0.56911807274023229,\n",
       " 0.90000000000000013: -0.56900608399901476,\n",
       " 0.92000000000000015: -0.56889410356971104,\n",
       " 0.94000000000000017: -0.56878213145231826,\n",
       " 0.96000000000000019: -0.56867844689641589,\n",
       " 0.98000000000000009: -0.56856649109110158}"
      ]
     },
     "execution_count": 32,
     "metadata": {},
     "output_type": "execute_result"
    }
   ],
   "source": [
    "alpha_per_mean_score = {item[0]['alpha']: item[1] for item in lasso_grid.grid_scores_ }\n",
    "alpha_per_mean_score"
   ]
  },
  {
   "cell_type": "code",
   "execution_count": 33,
   "metadata": {
    "collapsed": false
   },
   "outputs": [
    {
     "data": {
      "text/plain": [
       "{'mean_fit_time': array([ 0.00348911,  0.00060015,  0.00031362,  0.00043159,  0.00049205,\n",
       "         0.000491  ,  0.00047636,  0.00047331,  0.00047221,  0.00047121,\n",
       "         0.00051818,  0.00046926,  0.00046859,  0.00044241,  0.00054483,\n",
       "         0.00054164,  0.00049648,  0.00040727,  0.00044413,  0.00049481,\n",
       "         0.00046158,  0.00048661,  0.00049105,  0.00050783,  0.00047288,\n",
       "         0.00047441,  0.00040932,  0.0004108 ,  0.00046968,  0.00044246,\n",
       "         0.00046935,  0.00048895,  0.00040498,  0.00030665,  0.00035486,\n",
       "         0.00033336,  0.00034275,  0.00031357,  0.00033607,  0.00041323,\n",
       "         0.00043607,  0.00032883,  0.00029449,  0.00029316,  0.00029278]),\n",
       " 'mean_score_time': array([ 0.00244913,  0.0002737 ,  0.00018077,  0.00025802,  0.00029054,\n",
       "         0.00029583,  0.00026922,  0.00028367,  0.00027542,  0.00027633,\n",
       "         0.0002852 ,  0.0002821 ,  0.00094991,  0.00026541,  0.00021024,\n",
       "         0.00030065,  0.00028744,  0.00022125,  0.00026379,  0.00027809,\n",
       "         0.00028787,  0.00029221,  0.00029759,  0.00028439,  0.00026598,\n",
       "         0.00027509,  0.00023704,  0.00023766,  0.00025487,  0.0002634 ,\n",
       "         0.00027466,  0.00029178,  0.00019145,  0.00018096,  0.00022922,\n",
       "         0.00018816,  0.00019984,  0.00018244,  0.00020452,  0.00022426,\n",
       "         0.00026917,  0.00018435,  0.00017147,  0.000177  ,  0.00016994]),\n",
       " 'mean_test_score': array([-0.57348891, -0.57337634, -0.57326389, -0.5731516 , -0.57303931,\n",
       "        -0.57292703, -0.57281476, -0.57270249, -0.57259476, -0.57248251,\n",
       "        -0.57237019, -0.57225796, -0.57214574, -0.57203352, -0.57192132,\n",
       "        -0.57180912, -0.57169611, -0.57158393, -0.57147176, -0.57135959,\n",
       "        -0.57124744, -0.57113529, -0.57102315, -0.57091102, -0.5707989 ,\n",
       "        -0.57068679, -0.57057468, -0.57046259, -0.5703505 , -0.57023842,\n",
       "        -0.57012635, -0.57001428, -0.56990223, -0.56979018, -0.56967814,\n",
       "        -0.56956611, -0.56945409, -0.56934208, -0.56923007, -0.56911807,\n",
       "        -0.56900608, -0.5688941 , -0.56878213, -0.56867845, -0.56856649]),\n",
       " 'mean_train_score': array([ 0.36738349,  0.36738348,  0.36738347,  0.36738346,  0.36738344,\n",
       "         0.36738343,  0.36738341,  0.36738339,  0.36738337,  0.36738334,\n",
       "         0.36738332,  0.36738329,  0.36738326,  0.36738323,  0.3673832 ,\n",
       "         0.36738316,  0.36738313,  0.36738309,  0.36738305,  0.36738301,\n",
       "         0.36738297,  0.36738292,  0.36738288,  0.36738283,  0.36738278,\n",
       "         0.36738273,  0.36738267,  0.36738262,  0.36738256,  0.3673825 ,\n",
       "         0.36738244,  0.36738238,  0.36738232,  0.36738225,  0.36738218,\n",
       "         0.36738212,  0.36738204,  0.36738197,  0.3673819 ,  0.36738182,\n",
       "         0.36738174,  0.36738166,  0.36738158,  0.3673815 ,  0.36738141]),\n",
       " 'param_alpha': masked_array(data = [0.10000000000000001 0.12000000000000001 0.14000000000000001\n",
       "  0.16000000000000003 0.18000000000000002 0.20000000000000001\n",
       "  0.22000000000000003 0.24000000000000002 0.26000000000000001\n",
       "  0.28000000000000003 0.30000000000000004 0.32000000000000006\n",
       "  0.34000000000000008 0.3600000000000001 0.38 0.40000000000000002\n",
       "  0.42000000000000004 0.44000000000000006 0.46000000000000008\n",
       "  0.48000000000000009 0.50000000000000011 0.52000000000000013\n",
       "  0.54000000000000004 0.56000000000000005 0.58000000000000007\n",
       "  0.60000000000000009 0.62000000000000011 0.64000000000000012\n",
       "  0.66000000000000003 0.68000000000000005 0.70000000000000007\n",
       "  0.72000000000000008 0.7400000000000001 0.76000000000000012\n",
       "  0.78000000000000014 0.80000000000000016 0.82000000000000017\n",
       "  0.84000000000000008 0.8600000000000001 0.88000000000000012\n",
       "  0.90000000000000013 0.92000000000000015 0.94000000000000017\n",
       "  0.96000000000000019 0.98000000000000009],\n",
       "              mask = [False False False False False False False False False False False False\n",
       "  False False False False False False False False False False False False\n",
       "  False False False False False False False False False False False False\n",
       "  False False False False False False False False False],\n",
       "        fill_value = ?),\n",
       " 'params': ({'alpha': 0.10000000000000001},\n",
       "  {'alpha': 0.12000000000000001},\n",
       "  {'alpha': 0.14000000000000001},\n",
       "  {'alpha': 0.16000000000000003},\n",
       "  {'alpha': 0.18000000000000002},\n",
       "  {'alpha': 0.20000000000000001},\n",
       "  {'alpha': 0.22000000000000003},\n",
       "  {'alpha': 0.24000000000000002},\n",
       "  {'alpha': 0.26000000000000001},\n",
       "  {'alpha': 0.28000000000000003},\n",
       "  {'alpha': 0.30000000000000004},\n",
       "  {'alpha': 0.32000000000000006},\n",
       "  {'alpha': 0.34000000000000008},\n",
       "  {'alpha': 0.3600000000000001},\n",
       "  {'alpha': 0.38},\n",
       "  {'alpha': 0.40000000000000002},\n",
       "  {'alpha': 0.42000000000000004},\n",
       "  {'alpha': 0.44000000000000006},\n",
       "  {'alpha': 0.46000000000000008},\n",
       "  {'alpha': 0.48000000000000009},\n",
       "  {'alpha': 0.50000000000000011},\n",
       "  {'alpha': 0.52000000000000013},\n",
       "  {'alpha': 0.54000000000000004},\n",
       "  {'alpha': 0.56000000000000005},\n",
       "  {'alpha': 0.58000000000000007},\n",
       "  {'alpha': 0.60000000000000009},\n",
       "  {'alpha': 0.62000000000000011},\n",
       "  {'alpha': 0.64000000000000012},\n",
       "  {'alpha': 0.66000000000000003},\n",
       "  {'alpha': 0.68000000000000005},\n",
       "  {'alpha': 0.70000000000000007},\n",
       "  {'alpha': 0.72000000000000008},\n",
       "  {'alpha': 0.7400000000000001},\n",
       "  {'alpha': 0.76000000000000012},\n",
       "  {'alpha': 0.78000000000000014},\n",
       "  {'alpha': 0.80000000000000016},\n",
       "  {'alpha': 0.82000000000000017},\n",
       "  {'alpha': 0.84000000000000008},\n",
       "  {'alpha': 0.8600000000000001},\n",
       "  {'alpha': 0.88000000000000012},\n",
       "  {'alpha': 0.90000000000000013},\n",
       "  {'alpha': 0.92000000000000015},\n",
       "  {'alpha': 0.94000000000000017},\n",
       "  {'alpha': 0.96000000000000019},\n",
       "  {'alpha': 0.98000000000000009}),\n",
       " 'rank_test_score': array([45, 44, 43, 42, 41, 40, 39, 38, 37, 36, 35, 34, 33, 32, 31, 30, 29,\n",
       "        28, 27, 26, 25, 24, 23, 22, 21, 20, 19, 18, 17, 16, 15, 14, 13, 12,\n",
       "        11, 10,  9,  8,  7,  6,  5,  4,  3,  2,  1], dtype=int32),\n",
       " 'split0_test_score': array([-4.06575598, -4.06523637, -4.0647168 , -4.06419726, -4.06367775,\n",
       "        -4.06315828, -4.06263884, -4.06211943, -4.06162242, -4.06110308,\n",
       "        -4.06058377, -4.0600645 , -4.05954525, -4.05902604, -4.05850687,\n",
       "        -4.05798772, -4.05746861, -4.05694954, -4.05643049, -4.05591148,\n",
       "        -4.0553925 , -4.05487356, -4.05435465, -4.05383577, -4.05331692,\n",
       "        -4.05279811, -4.05227933, -4.05176059, -4.05124188, -4.0507232 ,\n",
       "        -4.05020455, -4.04968594, -4.04916736, -4.04864881, -4.0481303 ,\n",
       "        -4.04761182, -4.04709337, -4.04657496, -4.04605658, -4.04553823,\n",
       "        -4.04501992, -4.04450164, -4.04398339, -4.04350618, -4.042988  ]),\n",
       " 'split0_train_score': array([ 0.46227263,  0.46227262,  0.4622726 ,  0.46227259,  0.46227257,\n",
       "         0.46227255,  0.46227253,  0.46227251,  0.46227249,  0.46227246,\n",
       "         0.46227243,  0.4622724 ,  0.46227237,  0.46227233,  0.4622723 ,\n",
       "         0.46227226,  0.46227222,  0.46227218,  0.46227213,  0.46227209,\n",
       "         0.46227204,  0.46227199,  0.46227194,  0.46227188,  0.46227183,\n",
       "         0.46227177,  0.46227171,  0.46227165,  0.46227158,  0.46227152,\n",
       "         0.46227145,  0.46227138,  0.46227131,  0.46227123,  0.46227116,\n",
       "         0.46227108,  0.462271  ,  0.46227092,  0.46227084,  0.46227075,\n",
       "         0.46227066,  0.46227057,  0.46227048,  0.46227038,  0.46227029]),\n",
       " 'split1_test_score': array([ 0.11788256,  0.11790103,  0.11791899,  0.11793695,  0.1179549 ,\n",
       "         0.11797285,  0.11799081,  0.11800875,  0.1180267 ,  0.11804465,\n",
       "         0.11806302,  0.11808096,  0.1180989 ,  0.11811684,  0.11813477,\n",
       "         0.11815271,  0.11817064,  0.11818857,  0.1182065 ,  0.11822443,\n",
       "         0.11824236,  0.11826028,  0.1182782 ,  0.11829612,  0.11831404,\n",
       "         0.11833196,  0.11834987,  0.11836779,  0.1183857 ,  0.11840361,\n",
       "         0.11842151,  0.11843942,  0.11845732,  0.11847522,  0.11849312,\n",
       "         0.11851102,  0.11852892,  0.11854681,  0.11856471,  0.1185826 ,\n",
       "         0.11860049,  0.11861837,  0.11863626,  0.11865414,  0.11867202]),\n",
       " 'split1_train_score': array([ 0.38316651,  0.38316649,  0.38316647,  0.38316645,  0.38316642,\n",
       "         0.38316639,  0.38316635,  0.38316632,  0.38316628,  0.38316623,\n",
       "         0.38316619,  0.38316614,  0.38316609,  0.38316603,  0.38316597,\n",
       "         0.38316591,  0.38316584,  0.38316577,  0.3831657 ,  0.38316562,\n",
       "         0.38316555,  0.38316546,  0.38316538,  0.38316529,  0.3831652 ,\n",
       "         0.3831651 ,  0.38316501,  0.38316491,  0.3831648 ,  0.38316469,\n",
       "         0.38316458,  0.38316447,  0.38316435,  0.38316423,  0.38316411,\n",
       "         0.38316398,  0.38316385,  0.38316372,  0.38316358,  0.38316344,\n",
       "         0.3831633 ,  0.38316315,  0.383163  ,  0.38316285,  0.3831627 ]),\n",
       " 'split2_test_score': array([ 0.50405672,  0.50405518,  0.50405276,  0.50405033,  0.5040479 ,\n",
       "         0.50404547,  0.50404304,  0.50404061,  0.50403818,  0.50403574,\n",
       "         0.50403331,  0.50403087,  0.50402843,  0.50402599,  0.50402355,\n",
       "         0.5040211 ,  0.50402115,  0.5040187 ,  0.50401626,  0.5040138 ,\n",
       "         0.50401135,  0.5040089 ,  0.50400644,  0.50400399,  0.50400153,\n",
       "         0.50399907,  0.50399661,  0.50399414,  0.50399168,  0.50398921,\n",
       "         0.50398675,  0.50398428,  0.50398181,  0.50397933,  0.50397686,\n",
       "         0.50397439,  0.50397191,  0.50396943,  0.50396695,  0.50396447,\n",
       "         0.50396199,  0.5039595 ,  0.50395701,  0.50395453,  0.50395204]),\n",
       " 'split2_train_score': array([ 0.3064861 ,  0.30648609,  0.30648608,  0.30648608,  0.30648607,\n",
       "         0.30648606,  0.30648605,  0.30648604,  0.30648603,  0.30648601,\n",
       "         0.306486  ,  0.30648598,  0.30648597,  0.30648595,  0.30648593,\n",
       "         0.30648591,  0.30648589,  0.30648587,  0.30648585,  0.30648583,\n",
       "         0.3064858 ,  0.30648578,  0.30648575,  0.30648573,  0.3064857 ,\n",
       "         0.30648567,  0.30648564,  0.30648561,  0.30648558,  0.30648554,\n",
       "         0.30648551,  0.30648548,  0.30648544,  0.3064854 ,  0.30648537,\n",
       "         0.30648533,  0.30648529,  0.30648525,  0.30648521,  0.30648516,\n",
       "         0.30648512,  0.30648508,  0.30648503,  0.30648498,  0.30648494]),\n",
       " 'split3_test_score': array([ 0.13816524,  0.13816484,  0.13816515,  0.13816475,  0.13816435,\n",
       "         0.13816394,  0.13816354,  0.13816313,  0.13816272,  0.13816232,\n",
       "         0.13816191,  0.1381615 ,  0.13816109,  0.13816068,  0.13816027,\n",
       "         0.13815986,  0.13816186,  0.13816144,  0.13816103,  0.13816062,\n",
       "         0.1381602 ,  0.13815978,  0.13815937,  0.13815895,  0.13815853,\n",
       "         0.13815811,  0.13815769,  0.13815727,  0.13815685,  0.13815643,\n",
       "         0.13815601,  0.13815558,  0.13815516,  0.13815473,  0.13815431,\n",
       "         0.13815388,  0.13815346,  0.13815303,  0.1381526 ,  0.13815217,\n",
       "         0.13815174,  0.13815131,  0.13815088,  0.13815045,  0.13815001]),\n",
       " 'split3_train_score': array([ 0.39292699,  0.39292698,  0.39292697,  0.39292696,  0.39292695,\n",
       "         0.39292693,  0.39292692,  0.39292691,  0.39292689,  0.39292687,\n",
       "         0.39292685,  0.39292683,  0.39292681,  0.39292679,  0.39292676,\n",
       "         0.39292673,  0.39292671,  0.39292668,  0.39292665,  0.39292662,\n",
       "         0.39292658,  0.39292655,  0.39292651,  0.39292648,  0.39292644,\n",
       "         0.3929264 ,  0.39292636,  0.39292632,  0.39292627,  0.39292623,\n",
       "         0.39292618,  0.39292613,  0.39292609,  0.39292604,  0.39292598,\n",
       "         0.39292593,  0.39292588,  0.39292582,  0.39292577,  0.39292571,\n",
       "         0.39292565,  0.39292559,  0.39292553,  0.39292546,  0.3929254 ]),\n",
       " 'split4_test_score': array([ 0.48338265,  0.48340432,  0.48342609,  0.48344785,  0.48346961,\n",
       "         0.48349137,  0.48351312,  0.48353487,  0.48355662,  0.48357836,\n",
       "         0.4836001 ,  0.48362183,  0.48364356,  0.48366528,  0.48368701,\n",
       "         0.48370872,  0.48372968,  0.48375138,  0.48377309,  0.48379479,\n",
       "         0.48381649,  0.48383818,  0.48385987,  0.48388156,  0.48390324,\n",
       "         0.48392492,  0.48394659,  0.48396826,  0.48398992,  0.48401159,\n",
       "         0.48403324,  0.4840549 ,  0.48407655,  0.48409819,  0.48411983,\n",
       "         0.48414147,  0.4841631 ,  0.48418473,  0.48420636,  0.48422798,\n",
       "         0.4842496 ,  0.48427121,  0.48429282,  0.48431443,  0.48433603]),\n",
       " 'split4_train_score': array([ 0.29206524,  0.29206523,  0.29206523,  0.29206522,  0.29206521,\n",
       "         0.29206519,  0.29206518,  0.29206517,  0.29206515,  0.29206513,\n",
       "         0.29206512,  0.2920651 ,  0.29206508,  0.29206505,  0.29206503,\n",
       "         0.29206501,  0.29206498,  0.29206495,  0.29206492,  0.2920649 ,\n",
       "         0.29206486,  0.29206483,  0.2920648 ,  0.29206477,  0.29206473,\n",
       "         0.29206469,  0.29206465,  0.29206462,  0.29206458,  0.29206453,\n",
       "         0.29206449,  0.29206445,  0.2920644 ,  0.29206435,  0.29206431,\n",
       "         0.29206426,  0.29206421,  0.29206415,  0.2920641 ,  0.29206405,\n",
       "         0.29206399,  0.29206393,  0.29206388,  0.29206382,  0.29206376]),\n",
       " 'std_fit_time': array([  1.74863949e-03,   1.34672135e-04,   2.60564348e-06,\n",
       "          8.82897703e-05,   5.12106236e-06,   4.01393805e-06,\n",
       "          3.81374347e-05,   2.21482519e-05,   2.46417338e-05,\n",
       "          6.79823310e-06,   9.25959075e-05,   5.39353206e-06,\n",
       "          7.34948232e-06,   4.81708440e-05,   4.45255398e-04,\n",
       "          9.23629267e-05,   1.38992920e-05,   8.44629776e-05,\n",
       "          1.85240036e-05,   3.54394923e-05,   3.15297191e-05,\n",
       "          1.23426238e-06,   7.07842236e-06,   5.06150908e-05,\n",
       "          7.81867549e-06,   6.80959524e-06,   7.19226939e-05,\n",
       "          8.37515297e-05,   1.77988691e-05,   1.50679033e-05,\n",
       "          8.20464809e-06,   2.18895784e-05,   1.23891672e-04,\n",
       "          7.33058623e-06,   7.93881028e-05,   9.08421718e-06,\n",
       "          2.96585813e-05,   4.73343448e-06,   5.03153815e-05,\n",
       "          7.29556800e-05,   5.95063352e-05,   1.26702372e-05,\n",
       "          1.97987933e-06,   3.75643585e-06,   7.10471364e-06]),\n",
       " 'std_score_time': array([  1.10421535e-03,   5.41011631e-05,   7.13664510e-07,\n",
       "          4.45536391e-05,   1.05120696e-06,   6.69340788e-06,\n",
       "          3.25307801e-05,   5.51978917e-07,   1.26783101e-05,\n",
       "          9.77225377e-07,   1.24575932e-05,   2.08612851e-06,\n",
       "          1.34358664e-03,   2.54210113e-05,   5.22726196e-05,\n",
       "          1.97193930e-05,   1.66278799e-06,   4.28965315e-05,\n",
       "          6.11319371e-06,   5.08362980e-06,   2.08730530e-05,\n",
       "          2.52138215e-06,   1.22811259e-05,   1.13477226e-05,\n",
       "          3.86973258e-06,   6.97552626e-07,   4.53560627e-05,\n",
       "          4.70818202e-05,   1.47842590e-05,   7.47646603e-06,\n",
       "          2.41262639e-06,   7.60611320e-06,   1.58342967e-05,\n",
       "          2.02866052e-06,   5.79455450e-05,   3.38990642e-06,\n",
       "          2.30615724e-05,   1.60574515e-06,   4.67802284e-05,\n",
       "          4.41947537e-05,   8.16953012e-05,   8.15712157e-06,\n",
       "          1.39347450e-06,   1.24760139e-05,   1.65456310e-06]),\n",
       " 'std_test_score': array([ 1.76422632,  1.76402246,  1.76381852,  1.76361455,  1.76341058,\n",
       "         1.76320663,  1.76300269,  1.76279877,  1.76260379,  1.76239989,\n",
       "         1.76219604,  1.76199216,  1.7617883 ,  1.76158445,  1.76138061,\n",
       "         1.76117678,  1.76097337,  1.76076957,  1.76056579,  1.76036201,\n",
       "         1.76015825,  1.7599545 ,  1.75975076,  1.75954704,  1.75934333,\n",
       "         1.75913963,  1.75893594,  1.75873227,  1.75852861,  1.75832496,\n",
       "         1.75812132,  1.7579177 ,  1.75771409,  1.75751049,  1.75730691,\n",
       "         1.75710333,  1.75689977,  1.75669623,  1.75649269,  1.75628917,\n",
       "         1.75608566,  1.75588216,  1.75567868,  1.7554916 ,  1.75528814]),\n",
       " 'std_train_score': array([ 0.06210773,  0.06210773,  0.06210773,  0.06210773,  0.06210772,\n",
       "         0.06210772,  0.06210772,  0.06210771,  0.06210771,  0.0621077 ,\n",
       "         0.0621077 ,  0.06210769,  0.06210768,  0.06210768,  0.06210767,\n",
       "         0.06210766,  0.06210766,  0.06210765,  0.06210764,  0.06210763,\n",
       "         0.06210762,  0.06210761,  0.0621076 ,  0.06210759,  0.06210758,\n",
       "         0.06210757,  0.06210756,  0.06210755,  0.06210753,  0.06210752,\n",
       "         0.06210751,  0.06210749,  0.06210748,  0.06210747,  0.06210745,\n",
       "         0.06210744,  0.06210742,  0.06210741,  0.06210739,  0.06210737,\n",
       "         0.06210736,  0.06210734,  0.06210732,  0.0621073 ,  0.06210728])}"
      ]
     },
     "execution_count": 33,
     "metadata": {},
     "output_type": "execute_result"
    }
   ],
   "source": [
    "# New object \n",
    "lasso_grid.cv_results_"
   ]
  },
  {
   "cell_type": "markdown",
   "metadata": {},
   "source": [
    "# TODO:  PLOT estimated parameters"
   ]
  },
  {
   "cell_type": "markdown",
   "metadata": {},
   "source": [
    "#### I would recommend $alpha = 0.95$"
   ]
  },
  {
   "cell_type": "markdown",
   "metadata": {},
   "source": [
    "## 2)"
   ]
  },
  {
   "cell_type": "code",
   "execution_count": 34,
   "metadata": {
    "collapsed": false
   },
   "outputs": [
    {
     "data": {
      "text/html": [
       "<div>\n",
       "<table border=\"1\" class=\"dataframe\">\n",
       "  <thead>\n",
       "    <tr style=\"text-align: right;\">\n",
       "      <th></th>\n",
       "      <th>sales</th>\n",
       "      <th>profits</th>\n",
       "    </tr>\n",
       "  </thead>\n",
       "  <tbody>\n",
       "    <tr>\n",
       "      <th>0</th>\n",
       "      <td>161315.0</td>\n",
       "      <td>2956.0</td>\n",
       "    </tr>\n",
       "    <tr>\n",
       "      <th>1</th>\n",
       "      <td>144416.0</td>\n",
       "      <td>22071.0</td>\n",
       "    </tr>\n",
       "    <tr>\n",
       "      <th>2</th>\n",
       "      <td>139208.0</td>\n",
       "      <td>4430.0</td>\n",
       "    </tr>\n",
       "    <tr>\n",
       "      <th>3</th>\n",
       "      <td>100697.0</td>\n",
       "      <td>6370.0</td>\n",
       "    </tr>\n",
       "    <tr>\n",
       "      <th>4</th>\n",
       "      <td>100469.0</td>\n",
       "      <td>9296.0</td>\n",
       "    </tr>\n",
       "  </tbody>\n",
       "</table>\n",
       "</div>"
      ],
      "text/plain": [
       "      sales  profits\n",
       "0  161315.0   2956.0\n",
       "1  144416.0  22071.0\n",
       "2  139208.0   4430.0\n",
       "3  100697.0   6370.0\n",
       "4  100469.0   9296.0"
      ]
     },
     "execution_count": 34,
     "metadata": {},
     "output_type": "execute_result"
    }
   ],
   "source": [
    "df_sales_profits = df[['sales', 'profits']]\n",
    "df_sales_profits.head()"
   ]
  },
  {
   "cell_type": "code",
   "execution_count": 35,
   "metadata": {
    "collapsed": false
   },
   "outputs": [],
   "source": [
    "log_df_sales_profits = df_sales_profits.apply(np.log)\n",
    "log_df_sales_profits = log_df_sales_profits[~pd.isnull(log_df_sales_profits)]\n",
    "log_df_sales_profits = log_df_sales_profits[\n",
    "    (log_df_sales_profits['sales'] > 0) & \n",
    "    (log_df_sales_profits['profits'] > 0)\n",
    "]"
   ]
  },
  {
   "cell_type": "code",
   "execution_count": 36,
   "metadata": {
    "collapsed": false
   },
   "outputs": [
    {
     "data": {
      "text/plain": [
       "Text(0,0.5,'Profits')"
      ]
     },
     "execution_count": 36,
     "metadata": {},
     "output_type": "execute_result"
    },
    {
     "data": {
      "image/png": "[encoded data removed]",
      "text/plain": [
       "<matplotlib.figure.Figure at 0x1102a38d0>"
      ]
     },
     "metadata": {},
     "output_type": "display_data"
    }
   ],
   "source": [
    "plt.plot(log_df_sales_profits['sales'], log_df_sales_profits['profits'], '.')\n",
    "plt.xlabel('Sales')\n",
    "plt.ylabel('Profits')"
   ]
  },
  {
   "cell_type": "markdown",
   "metadata": {},
   "source": [
    "### a."
   ]
  },
  {
   "cell_type": "code",
   "execution_count": 37,
   "metadata": {
    "collapsed": true
   },
   "outputs": [],
   "source": [
    "from sklearn.linear_model import LinearRegression"
   ]
  },
  {
   "cell_type": "code",
   "execution_count": 38,
   "metadata": {
    "collapsed": false
   },
   "outputs": [],
   "source": [
    "linear_regression = LinearRegression()"
   ]
  },
  {
   "cell_type": "code",
   "execution_count": 39,
   "metadata": {
    "collapsed": false
   },
   "outputs": [],
   "source": [
    "X = log_df_sales_profits['sales'].as_matrix().reshape(-1, 1)\n",
    "y = log_df_sales_profits['profits']"
   ]
  },
  {
   "cell_type": "code",
   "execution_count": 40,
   "metadata": {
    "collapsed": false
   },
   "outputs": [],
   "source": [
    "regressor = linear_regression.fit(X, y)"
   ]
  },
  {
   "cell_type": "code",
   "execution_count": 41,
   "metadata": {
    "collapsed": false
   },
   "outputs": [
    {
     "data": {
      "text/plain": [
       "array([ 1.01099621])"
      ]
     },
     "execution_count": 41,
     "metadata": {},
     "output_type": "execute_result"
    }
   ],
   "source": [
    "regressor.coef_"
   ]
  },
  {
   "cell_type": "markdown",
   "metadata": {},
   "source": [
    "<b>PLOT "
   ]
  },
  {
   "cell_type": "code",
   "execution_count": 42,
   "metadata": {
    "collapsed": false
   },
   "outputs": [
    {
     "data": {
      "text/plain": [
       "[<matplotlib.lines.Line2D at 0x1102ac320>,\n",
       " <matplotlib.lines.Line2D at 0x1102ac400>]"
      ]
     },
     "execution_count": 42,
     "metadata": {},
     "output_type": "execute_result"
    },
    {
     "data": {
      "image/png": "[encoded data removed]",
      "text/plain": [
       "<matplotlib.figure.Figure at 0x11022ccf8>"
      ]
     },
     "metadata": {},
     "output_type": "display_data"
    }
   ],
   "source": [
    "plt.plot(\n",
    "    X, y, '.',\n",
    "    X, regressor.predict(X), '-'\n",
    ")"
   ]
  },
  {
   "cell_type": "markdown",
   "metadata": {},
   "source": [
    "### b."
   ]
  },
  {
   "cell_type": "code",
   "execution_count": 43,
   "metadata": {
    "collapsed": true
   },
   "outputs": [],
   "source": [
    "from scipy.optimize import curve_fit"
   ]
  },
  {
   "cell_type": "code",
   "execution_count": 44,
   "metadata": {
    "collapsed": true
   },
   "outputs": [],
   "source": [
    "from scipy import log as log\n",
    "def func(x, a, b, c):\n",
    "    return a * np.log(b * x) + c"
   ]
  },
  {
   "cell_type": "code",
   "execution_count": 45,
   "metadata": {
    "collapsed": false
   },
   "outputs": [
    {
     "name": "stderr",
     "output_type": "stream",
     "text": [
      "/Users/costefan/.pyenv/versions/anaconda3-4.3.0/lib/python3.6/site-packages/ipykernel/__main__.py:3: RuntimeWarning: invalid value encountered in log\n",
      "  app.launch_new_instance()\n"
     ]
    }
   ],
   "source": [
    "popt, pcov = curve_fit(func, X.ravel(), y.ravel())"
   ]
  },
  {
   "cell_type": "code",
   "execution_count": 46,
   "metadata": {
    "collapsed": false
   },
   "outputs": [
    {
     "data": {
      "text/plain": [
       "array([ 9.36610037,  0.33681642, -4.37448585])"
      ]
     },
     "execution_count": 46,
     "metadata": {},
     "output_type": "execute_result"
    }
   ],
   "source": [
    "popt"
   ]
  },
  {
   "cell_type": "code",
   "execution_count": 47,
   "metadata": {
    "collapsed": false
   },
   "outputs": [
    {
     "data": {
      "text/plain": [
       "[<matplotlib.lines.Line2D at 0x1105722b0>,\n",
       " <matplotlib.lines.Line2D at 0x110572390>,\n",
       " <matplotlib.lines.Line2D at 0x110572be0>]"
      ]
     },
     "execution_count": 47,
     "metadata": {},
     "output_type": "execute_result"
    },
    {
     "data": {
      "image/png": "[encoded data removed]",
      "text/plain": [
       "<matplotlib.figure.Figure at 0x1102b6668>"
      ]
     },
     "metadata": {},
     "output_type": "display_data"
    }
   ],
   "source": [
    "plt.figure(figsize=(10, 15))\n",
    "plt.plot(\n",
    "    X, y, '.',\n",
    "    X, regressor.predict(X), '-',\n",
    "    X, func(X, *popt)\n",
    ")\n"
   ]
  },
  {
   "cell_type": "markdown",
   "metadata": {},
   "source": [
    "## c."
   ]
  },
  {
   "cell_type": "markdown",
   "metadata": {},
   "source": [
    "Linear approximation has shifted statistics and we should carefuly interpret non linear statistics."
   ]
  },
  {
   "cell_type": "markdown",
   "metadata": {},
   "source": [
    "## 3)"
   ]
  },
  {
   "cell_type": "markdown",
   "metadata": {},
   "source": [
    "## a."
   ]
  },
  {
   "cell_type": "markdown",
   "metadata": {},
   "source": [
    "If bandwidth too small, our model will overfit, our Kernel function will be decreasing slowly, and model will overfit, cause we will assign smaller (than it would be to bigger bandwidth) weights to objects that has bigger distance, and bigger (than it would be to bigger bandwidth) to closer."
   ]
  },
  {
   "cell_type": "markdown",
   "metadata": {},
   "source": [
    "If bandwidth too big, we will not get needed approximation in our line, cause Kernel function will be decreasing faster, so we will asign weights smaller (than it would be to smaller bandwidth) and closer objects would be not so valuable for the model. "
   ]
  },
  {
   "cell_type": "markdown",
   "metadata": {},
   "source": [
    "## b."
   ]
  },
  {
   "cell_type": "code",
   "execution_count": 48,
   "metadata": {
    "collapsed": true
   },
   "outputs": [],
   "source": [
    "from statsmodels.nonparametric.kernel_regression import KernelReg"
   ]
  },
  {
   "cell_type": "code",
   "execution_count": 49,
   "metadata": {
    "collapsed": false
   },
   "outputs": [],
   "source": [
    "# Cross validation runs by default\n",
    "model = KernelReg(\n",
    "    endog=y, exog=X, var_type='c', reg_type='lc'\n",
    ")"
   ]
  },
  {
   "cell_type": "code",
   "execution_count": 50,
   "metadata": {
    "collapsed": false
   },
   "outputs": [
    {
     "name": "stdout",
     "output_type": "stream",
     "text": [
      "cv_ls\n",
      "{'cv_ls': <bound method KernelReg.cv_loo of KernelReg instance\n",
      "Number of variables: k_vars = 1\n",
      "Number of samples:   N = 388\n",
      "Variable types:      c\n",
      "BW selection method: cv_ls\n",
      "Estimator type: lc\n",
      ">, 'aic': <bound method KernelReg.aic_hurvich of KernelReg instance\n",
      "Number of variables: k_vars = 1\n",
      "Number of samples:   N = 388\n",
      "Variable types:      c\n",
      "BW selection method: cv_ls\n",
      "Estimator type: lc\n",
      ">}\n"
     ]
    }
   ],
   "source": [
    "print(model._bw_method)\n",
    "print(model.bw_func)"
   ]
  },
  {
   "cell_type": "code",
   "execution_count": 51,
   "metadata": {
    "collapsed": false
   },
   "outputs": [
    {
     "data": {
      "text/plain": [
       "array([ 0.23747466])"
      ]
     },
     "execution_count": 51,
     "metadata": {},
     "output_type": "execute_result"
    }
   ],
   "source": [
    "model.bw"
   ]
  },
  {
   "cell_type": "code",
   "execution_count": 52,
   "metadata": {
    "collapsed": false
   },
   "outputs": [],
   "source": [
    "means, mfx = model.fit()"
   ]
  },
  {
   "cell_type": "markdown",
   "metadata": {},
   "source": [
    "### Optimal bandwidth is calculated by least-squares cross-validation"
   ]
  },
  {
   "cell_type": "code",
   "execution_count": 53,
   "metadata": {
    "collapsed": false
   },
   "outputs": [
    {
     "data": {
      "image/png": "[encoded data removed]",
      "text/plain": [
       "<matplotlib.figure.Figure at 0x110ecd2b0>"
      ]
     },
     "metadata": {},
     "output_type": "display_data"
    }
   ],
   "source": [
    "fig = plt.figure()\n",
    "ax = fig.add_subplot(1,1,1)\n",
    "ax.plot(X, y, 'o', alpha=0.5)\n",
    "ax.plot(X, means, lw=2, label='kernel mean')\n",
    "ax.legend()\n",
    "\n",
    "plt.show()"
   ]
  },
  {
   "cell_type": "markdown",
   "metadata": {},
   "source": [
    "## c."
   ]
  },
  {
   "cell_type": "code",
   "execution_count": 54,
   "metadata": {
    "collapsed": false
   },
   "outputs": [
    {
     "data": {
      "image/png": "[encoded data removed]",
      "text/plain": [
       "<matplotlib.figure.Figure at 0x110ee5550>"
      ]
     },
     "metadata": {},
     "output_type": "display_data"
    }
   ],
   "source": [
    "fig = plt.figure()\n",
    "ax = fig.add_subplot(1,1,1)\n",
    "ax.plot(X, y, 'o', alpha=0.5)\n",
    "ax.plot(X, means, lw=2, label='kernel mean')\n",
    "ax.plot(X, func(X, *popt), '-r', lw=2, label='non linear')\n",
    "ax.legend()\n",
    "\n",
    "plt.show()"
   ]
  },
  {
   "cell_type": "markdown",
   "metadata": {
    "collapsed": true
   },
   "source": [
    "## 4."
   ]
  },
  {
   "cell_type": "markdown",
   "metadata": {},
   "source": [
    "### a."
   ]
  },
  {
   "cell_type": "markdown",
   "metadata": {},
   "source": [
    "### Salary binarization"
   ]
  },
  {
   "cell_type": "code",
   "execution_count": 55,
   "metadata": {
    "collapsed": false
   },
   "outputs": [],
   "source": [
    "y_binary = df['salary'].apply(lambda x: 1 if x >= 2000 else 0)"
   ]
  },
  {
   "cell_type": "code",
   "execution_count": 56,
   "metadata": {
    "collapsed": false
   },
   "outputs": [
    {
     "name": "stdout",
     "output_type": "stream",
     "text": [
      "Pretty printing has been turned OFF\n",
      "[(1, 3030),\n",
      " (1, 6050),\n",
      " (1, 3571),\n",
      " (1, 3300),\n",
      " (1, 10000),\n",
      " (1, 9375),\n",
      " (1, 9525),\n",
      " (1, 5000),\n",
      " (0, 999),\n",
      " (1, 3300),\n",
      " (1, 3500),\n",
      " (1, 2493),\n",
      " (0, 1911),\n",
      " (1, 2130),\n",
      " (0, 1185),\n",
      " (1, 5236),\n",
      " (0, 1990),\n",
      " (1, 6000),\n",
      " (1, 6229),\n",
      " (0, 1523)]\n"
     ]
    }
   ],
   "source": [
    "from pprint import pprint\n",
    "%pprint on\n",
    "\n",
    "pprint(list(zip(y_binary, df['salary']))[0:20])"
   ]
  },
  {
   "cell_type": "code",
   "execution_count": 57,
   "metadata": {
    "collapsed": true
   },
   "outputs": [],
   "source": [
    "from sklearn.linear_model import LogisticRegression\n",
    "from sklearn.feature_selection import RFE"
   ]
  },
  {
   "cell_type": "markdown",
   "metadata": {},
   "source": [
    "### Logistic regression"
   ]
  },
  {
   "cell_type": "code",
   "execution_count": 58,
   "metadata": {
    "collapsed": true
   },
   "outputs": [],
   "source": [
    "logistic_regr = LogisticRegression()"
   ]
  },
  {
   "cell_type": "code",
   "execution_count": 59,
   "metadata": {
    "collapsed": true
   },
   "outputs": [],
   "source": [
    "X = df[['totcomp', 'tenure', 'age', 'sales', 'profits', 'assets']]"
   ]
  },
  {
   "cell_type": "code",
   "execution_count": 60,
   "metadata": {
    "collapsed": false
   },
   "outputs": [],
   "source": [
    "X_train, X_test, y_train, y_test = train_test_split(X, y_binary)"
   ]
  },
  {
   "cell_type": "code",
   "execution_count": 61,
   "metadata": {
    "collapsed": false
   },
   "outputs": [
    {
     "data": {
      "text/plain": [
       "LogisticRegression(C=1.0, class_weight=None, dual=False, fit_intercept=True,\n",
       "          intercept_scaling=1, max_iter=100, multi_class='ovr', n_jobs=1,\n",
       "          penalty='l2', random_state=None, solver='liblinear', tol=0.0001,\n",
       "          verbose=0, warm_start=False)"
      ]
     },
     "execution_count": 61,
     "metadata": {},
     "output_type": "execute_result"
    }
   ],
   "source": [
    "logistic_regr.fit(X_train, y_train)"
   ]
  },
  {
   "cell_type": "code",
   "execution_count": 62,
   "metadata": {
    "collapsed": false
   },
   "outputs": [],
   "source": [
    "y_pred = logistic_regr.predict(X_test)"
   ]
  },
  {
   "cell_type": "code",
   "execution_count": 63,
   "metadata": {
    "collapsed": true
   },
   "outputs": [],
   "source": [
    "from sklearn.metrics import precision_recall_fscore_support, classification_report"
   ]
  },
  {
   "cell_type": "code",
   "execution_count": 64,
   "metadata": {
    "collapsed": false
   },
   "outputs": [
    {
     "name": "stdout",
     "output_type": "stream",
     "text": [
      "             precision    recall  f1-score   support\n",
      "\n",
      "          0       0.78      0.91      0.84        81\n",
      "          1       0.59      0.32      0.42        31\n",
      "\n",
      "avg / total       0.73      0.75      0.72       112\n",
      "\n"
     ]
    }
   ],
   "source": [
    "print(classification_report(y_test, y_pred))"
   ]
  },
  {
   "cell_type": "markdown",
   "metadata": {},
   "source": [
    "### Features selection"
   ]
  },
  {
   "cell_type": "code",
   "execution_count": 65,
   "metadata": {
    "collapsed": true
   },
   "outputs": [],
   "source": [
    "rfe = RFE(estimator=logistic_regr)"
   ]
  },
  {
   "cell_type": "code",
   "execution_count": 66,
   "metadata": {
    "collapsed": false
   },
   "outputs": [],
   "source": [
    "fit = rfe.fit(X_train, y_train)"
   ]
  },
  {
   "cell_type": "code",
   "execution_count": 67,
   "metadata": {
    "collapsed": false
   },
   "outputs": [
    {
     "name": "stdout",
     "output_type": "stream",
     "text": [
      "Num Features: 3\n",
      "Selected Features: [False  True  True False  True False]\n",
      "Feature Ranking: [2 1 1 3 1 4]\n"
     ]
    }
   ],
   "source": [
    "print(\"Num Features: {}\".format(fit.n_features_))\n",
    "print(\"Selected Features: {}\".format(fit.support_))\n",
    "print(\"Feature Ranking: {}\".format(fit.ranking_))"
   ]
  },
  {
   "cell_type": "code",
   "execution_count": 68,
   "metadata": {
    "collapsed": false
   },
   "outputs": [],
   "source": [
    "y_pred = fit.predict(X_test)"
   ]
  },
  {
   "cell_type": "code",
   "execution_count": 69,
   "metadata": {
    "collapsed": false
   },
   "outputs": [
    {
     "name": "stdout",
     "output_type": "stream",
     "text": [
      "             precision    recall  f1-score   support\n",
      "\n",
      "          0       0.75      0.96      0.84        81\n",
      "          1       0.62      0.16      0.26        31\n",
      "\n",
      "avg / total       0.72      0.74      0.68       112\n",
      "\n"
     ]
    }
   ],
   "source": [
    "print(classification_report(y_test, y_pred))"
   ]
  },
  {
   "cell_type": "markdown",
   "metadata": {},
   "source": [
    "### b."
   ]
  },
  {
   "cell_type": "markdown",
   "metadata": {},
   "source": [
    "## Add !!!!!!"
   ]
  },
  {
   "cell_type": "markdown",
   "metadata": {},
   "source": [
    "### c."
   ]
  },
  {
   "cell_type": "code",
   "execution_count": 70,
   "metadata": {
    "collapsed": true
   },
   "outputs": [],
   "source": [
    "import random\n",
    "N_CEOS = 5\n",
    "\n",
    "\n",
    "df_cols_numbers = random.sample(range(0, X.shape[0]), N_CEOS)"
   ]
  },
  {
   "cell_type": "code",
   "execution_count": 71,
   "metadata": {
    "collapsed": false
   },
   "outputs": [
    {
     "data": {
      "text/plain": [
       "[210, 378, 407, 111, 432]"
      ]
     },
     "execution_count": 71,
     "metadata": {},
     "output_type": "execute_result"
    }
   ],
   "source": [
    "df_cols_numbers"
   ]
  },
  {
   "cell_type": "code",
   "execution_count": 72,
   "metadata": {
    "collapsed": false
   },
   "outputs": [],
   "source": [
    "df_selected_five = X.iloc[df_cols_numbers]"
   ]
  },
  {
   "cell_type": "code",
   "execution_count": 73,
   "metadata": {
    "collapsed": false
   },
   "outputs": [
    {
     "data": {
      "text/plain": [
       "array([[ 0.46592209,  0.53407791],\n",
       "       [ 0.72209872,  0.27790128],\n",
       "       [ 0.78305288,  0.21694712],\n",
       "       [ 0.56485787,  0.43514213],\n",
       "       [ 0.7822848 ,  0.2177152 ]])"
      ]
     },
     "execution_count": 73,
     "metadata": {},
     "output_type": "execute_result"
    }
   ],
   "source": [
    "a = rfe.predict_proba(df_selected_five)\n",
    "a"
   ]
  },
  {
   "cell_type": "code",
   "execution_count": 74,
   "metadata": {
    "collapsed": false
   },
   "outputs": [],
   "source": [
    "coefs = rfe.estimator_.coef_\n",
    "intercept = rfe.estimator_.intercept_"
   ]
  },
  {
   "cell_type": "markdown",
   "metadata": {},
   "source": [
    "### Probabilities"
   ]
  },
  {
   "cell_type": "code",
   "execution_count": 75,
   "metadata": {
    "collapsed": false
   },
   "outputs": [
    {
     "data": {
      "text/plain": [
       "array([ 0.46592209,  0.72209872,  0.78305288,  0.56485787,  0.7822848 ])"
      ]
     },
     "execution_count": 75,
     "metadata": {},
     "output_type": "execute_result"
    }
   ],
   "source": [
    "a[:, :1].ravel()"
   ]
  },
  {
   "cell_type": "markdown",
   "metadata": {},
   "source": [
    "Probability will be calculated by having multiplied $<w, x>$ (including intercept) and getted sigmoid function from it. <br/> So: we have coefs, intercept, X, and sigmoid function, we can calculate."
   ]
  },
  {
   "cell_type": "markdown",
   "metadata": {},
   "source": [
    "Having probabilities we can assign the threshold, and having it assing label <br/ >\n",
    "There is some ways to choose threshold, one of them assign it to 0.5 another is to choose it by having banance between precision recall of classificator."
   ]
  },
  {
   "cell_type": "markdown",
   "metadata": {},
   "source": [
    "### d."
   ]
  },
  {
   "cell_type": "code",
   "execution_count": 76,
   "metadata": {
    "collapsed": false
   },
   "outputs": [
    {
     "data": {
      "text/plain": [
       "(112,)"
      ]
     },
     "execution_count": 76,
     "metadata": {},
     "output_type": "execute_result"
    }
   ],
   "source": [
    "y_test.shape"
   ]
  },
  {
   "cell_type": "code",
   "execution_count": 77,
   "metadata": {
    "collapsed": false
   },
   "outputs": [
    {
     "data": {
      "text/plain": [
       "(112,)"
      ]
     },
     "execution_count": 77,
     "metadata": {},
     "output_type": "execute_result"
    }
   ],
   "source": [
    "y_pred.shape"
   ]
  },
  {
   "cell_type": "code",
   "execution_count": 78,
   "metadata": {
    "collapsed": false
   },
   "outputs": [
    {
     "name": "stdout",
     "output_type": "stream",
     "text": [
      "             precision    recall  f1-score   support\n",
      "\n",
      "          0       0.75      0.96      0.84        81\n",
      "          1       0.62      0.16      0.26        31\n",
      "\n",
      "avg / total       0.72      0.74      0.68       112\n",
      "\n"
     ]
    }
   ],
   "source": [
    "print(classification_report(y_test, y_pred))"
   ]
  },
  {
   "cell_type": "code",
   "execution_count": 79,
   "metadata": {
    "collapsed": false
   },
   "outputs": [],
   "source": [
    "from sklearn.metrics import confusion_matrix, precision_score, recall_score "
   ]
  },
  {
   "cell_type": "code",
   "execution_count": 80,
   "metadata": {
    "collapsed": false
   },
   "outputs": [
    {
     "name": "stdout",
     "output_type": "stream",
     "text": [
      "0.161290322581\n",
      "0.625\n"
     ]
    }
   ],
   "source": [
    "tp, fp, fn, tn = confusion_matrix(y_test, y_pred).ravel()\n",
    "print(recall_score(y_test, y_pred, pos_label=1))\n",
    "print(precision_score(y_test, y_pred, pos_label=1))"
   ]
  },
  {
   "cell_type": "code",
   "execution_count": 81,
   "metadata": {
    "collapsed": false
   },
   "outputs": [
    {
     "name": "stdout",
     "output_type": "stream",
     "text": [
      "78\n",
      "3\n",
      "26\n",
      "5\n"
     ]
    }
   ],
   "source": [
    "print(tp)\n",
    "print(fp)\n",
    "print(fn)\n",
    "print(tn)\n",
    "# We should transform this matrix, cause order is wrong (for label 0)"
   ]
  },
  {
   "cell_type": "markdown",
   "metadata": {},
   "source": [
    "### Interpretation"
   ]
  },
  {
   "cell_type": "markdown",
   "metadata": {},
   "source": [
    "True positive - is how much of objects with label 1 was interpreted as 1 <br/>\n",
    "False positive - is how much of objects with label -1 was interpreted as 1 <br/ >\n",
    "False negative - is how much of objects with label 1 was interpreted as -1 <br/ >\n",
    "True negative - is how much of objects with label -1 was interpreted as -1 <br/ >"
   ]
  },
  {
   "cell_type": "markdown",
   "metadata": {},
   "source": [
    "Metrics - <br/>\n",
    "precision - is how much of object that was labeled as 1 has label 1 for real <br/>\n",
    "recall - is how much of real object with label 1 was found <br/>\n",
    "sensivity = recall <br/>\n",
    "specifity  = recall for another <br />"
   ]
  },
  {
   "cell_type": "markdown",
   "metadata": {},
   "source": [
    "Sensivity = recall = 14/35 = 0.4 <br/>"
   ]
  },
  {
   "cell_type": "markdown",
   "metadata": {},
   "source": [
    "Specifity = recall for label 0 = 69/77= 0.89"
   ]
  },
  {
   "cell_type": "markdown",
   "metadata": {},
   "source": [
    "## e."
   ]
  },
  {
   "cell_type": "code",
   "execution_count": 82,
   "metadata": {
    "collapsed": true
   },
   "outputs": [],
   "source": [
    "from sklearn import metrics"
   ]
  },
  {
   "cell_type": "code",
   "execution_count": 83,
   "metadata": {
    "collapsed": false
   },
   "outputs": [],
   "source": [
    "y_pred_proba = fit.predict_proba(X_test)\n",
    "y_pred_proba = y_pred_proba[:,1]"
   ]
  },
  {
   "cell_type": "code",
   "execution_count": 84,
   "metadata": {
    "collapsed": false
   },
   "outputs": [],
   "source": [
    "fpr, tpr, tresholds = metrics.roc_curve(y_test, y_pred_proba)"
   ]
  },
  {
   "cell_type": "code",
   "execution_count": 85,
   "metadata": {
    "collapsed": false
   },
   "outputs": [
    {
     "data": {
      "text/plain": [
       "Text(0,0.5,'True positive')"
      ]
     },
     "execution_count": 85,
     "metadata": {},
     "output_type": "execute_result"
    },
    {
     "data": {
      "image/png": "[encoded data removed]",
      "text/plain": [
       "<matplotlib.figure.Figure object at 0x110fcb7b8>"
      ]
     },
     "metadata": {},
     "output_type": "display_data"
    }
   ],
   "source": [
    "plt.plot(fpr, tpr, label='Model')\n",
    "plt.xlabel('False positive')\n",
    "plt.ylabel('True positive')\n"
   ]
  },
  {
   "cell_type": "code",
   "execution_count": 86,
   "metadata": {
    "collapsed": false
   },
   "outputs": [
    {
     "data": {
      "text/plain": [
       "array([ 0.99980404,  0.99364746,  0.97898653,  0.9186956 ,  0.68524087,\n",
       "        0.63971554,  0.52036033,  0.51434484,  0.48792218,  0.48322219,\n",
       "        0.47016465,  0.38540021,  0.31985734,  0.31778531,  0.31184386,\n",
       "        0.30923981,  0.30741997,  0.30113048,  0.29962509,  0.29501763,\n",
       "        0.29076671,  0.28715484,  0.28186796,  0.28049208,  0.2478082 ,\n",
       "        0.24776142,  0.24293916,  0.24228647,  0.23797283,  0.23682746,\n",
       "        0.23598173,  0.2328669 ,  0.22836161,  0.22335524,  0.22225485,\n",
       "        0.22185148,  0.15518206,  0.15246881,  0.11277753,  0.09919343,\n",
       "        0.09522345])"
      ]
     },
     "execution_count": 86,
     "metadata": {},
     "output_type": "execute_result"
    }
   ],
   "source": [
    "tresholds"
   ]
  },
  {
   "cell_type": "markdown",
   "metadata": {},
   "source": [
    "Optimal treshold - it depends on what we want to optimize"
   ]
  },
  {
   "cell_type": "code",
   "execution_count": 87,
   "metadata": {
    "collapsed": true
   },
   "outputs": [],
   "source": [
    "opt_treshold = 0.44"
   ]
  },
  {
   "cell_type": "markdown",
   "metadata": {},
   "source": [
    "## f."
   ]
  },
  {
   "cell_type": "code",
   "execution_count": 88,
   "metadata": {
    "collapsed": true
   },
   "outputs": [],
   "source": [
    "y_pred_adj = [1 if y > opt_treshold else 0 for y in y_pred_proba]"
   ]
  },
  {
   "cell_type": "code",
   "execution_count": 89,
   "metadata": {
    "collapsed": false
   },
   "outputs": [
    {
     "name": "stdout",
     "output_type": "stream",
     "text": [
      "             precision    recall  f1-score   support\n",
      "\n",
      "          0       1.00      0.93      0.97       104\n",
      "          1       0.53      1.00      0.70         8\n",
      "\n",
      "avg / total       0.97      0.94      0.95       112\n",
      "\n"
     ]
    }
   ],
   "source": [
    "print(classification_report(y_pred, y_pred_adj))"
   ]
  },
  {
   "cell_type": "markdown",
   "metadata": {},
   "source": [
    "More strict."
   ]
  },
  {
   "cell_type": "markdown",
   "metadata": {},
   "source": [
    "## 5."
   ]
  },
  {
   "cell_type": "markdown",
   "metadata": {},
   "source": [
    "### a."
   ]
  },
  {
   "cell_type": "code",
   "execution_count": 90,
   "metadata": {
    "collapsed": true
   },
   "outputs": [],
   "source": [
    "from sklearn.tree import DecisionTreeRegressor"
   ]
  },
  {
   "cell_type": "markdown",
   "metadata": {},
   "source": [
    "If the first variable for splitting is assets, we should at first find value of $t$, which can divide our set of objects, so we are minimizing $$ Q = \\dfrac{|X_{left}|}{|X_m|} * H(X_{left}) + \\dfrac{|X_{right}|}{|X_m|} * H(X_{right}) $$, where $H(X)$ is information criteria, which is the varience of labels, calculated as MSE."
   ]
  },
  {
   "cell_type": "markdown",
   "metadata": {},
   "source": [
    "### b."
   ]
  },
  {
   "cell_type": "code",
   "execution_count": 91,
   "metadata": {
    "collapsed": true
   },
   "outputs": [],
   "source": [
    "tree_regr = DecisionTreeRegressor(max_depth=10)"
   ]
  },
  {
   "cell_type": "code",
   "execution_count": 92,
   "metadata": {
    "collapsed": true
   },
   "outputs": [],
   "source": [
    "X, y = df.drop('salary', axis=1).as_matrix(), df['salary'].as_matrix()"
   ]
  },
  {
   "cell_type": "code",
   "execution_count": 93,
   "metadata": {
    "collapsed": false
   },
   "outputs": [
    {
     "data": {
      "text/plain": [
       "DecisionTreeRegressor(criterion='mse', max_depth=10, max_features=None,\n",
       "           max_leaf_nodes=None, min_impurity_split=1e-07,\n",
       "           min_samples_leaf=1, min_samples_split=2,\n",
       "           min_weight_fraction_leaf=0.0, presort=False, random_state=None,\n",
       "           splitter='best')"
      ]
     },
     "execution_count": 93,
     "metadata": {},
     "output_type": "execute_result"
    }
   ],
   "source": [
    "tree_regr.fit(X, y)"
   ]
  },
  {
   "cell_type": "code",
   "execution_count": 95,
   "metadata": {
    "collapsed": false
   },
   "outputs": [],
   "source": [
    "import graphviz \n",
    "from sklearn import tree"
   ]
  },
  {
   "cell_type": "code",
   "execution_count": 96,
   "metadata": {
    "collapsed": true
   },
   "outputs": [],
   "source": [
    "dot_data = tree.export_graphviz(tree_regr, out_file=None) "
   ]
  },
  {
   "cell_type": "code",
   "execution_count": 103,
   "metadata": {
    "collapsed": true
   },
   "outputs": [],
   "source": [
    "graph = graphviz.Source(dot_data)"
   ]
  },
  {
   "cell_type": "code",
   "execution_count": 105,
   "metadata": {
    "collapsed": false
   },
   "outputs": [
    {
     "data": {
      "text/plain": [
       "'data.pdf.pdf'"
      ]
     },
     "execution_count": 105,
     "metadata": {},
     "output_type": "execute_result"
    }
   ],
   "source": [
    "graph.render(view=True)"
   ]
  },
  {
   "cell_type": "code",
   "execution_count": null,
   "metadata": {
    "collapsed": true
   },
   "outputs": [],
   "source": []
  }
 ],
 "metadata": {
  "kernelspec": {
   "display_name": "Python 3",
   "language": "python",
   "name": "python3"
  },
  "language_info": {
   "codemirror_mode": {
    "name": "ipython",
    "version": 3
   },
   "file_extension": ".py",
   "mimetype": "text/x-python",
   "name": "python",
   "nbconvert_exporter": "python",
   "pygments_lexer": "ipython3",
   "version": "3.6.0"
  }
 },
 "nbformat": 4,
 "nbformat_minor": 2
}
