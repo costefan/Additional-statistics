{
 "cells": [
  {
   "cell_type": "code",
   "execution_count": 1,
   "metadata": {
    "collapsed": false
   },
   "outputs": [
    {
     "name": "stderr",
     "output_type": "stream",
     "text": [
      "/Users/costefan/.pyenv/versions/anaconda3-4.3.0/lib/python3.6/site-packages/matplotlib/__init__.py:1120: UserWarning: Bad val \"TkAggX\" on line #1\n",
      "\t\"backend: TkAggX\n",
      "\"\n",
      "\tin file \"/Users/costefan/.matplotlib/matplotlibrc\"\n",
      "\tKey backend: Unrecognized backend string \"tkaggx\": valid strings are ['GTK', 'GTKAgg', 'GTKCairo', 'MacOSX', 'Qt4Agg', 'Qt5Agg', 'TkAgg', 'WX', 'WXAgg', 'GTK3Cairo', 'GTK3Agg', 'WebAgg', 'nbAgg', 'agg', 'cairo', 'gdk', 'pdf', 'pgf', 'ps', 'svg', 'template']\n",
      "  (val, error_details, msg))\n"
     ]
    }
   ],
   "source": [
    "import numpy as np\n",
    "import pandas as pd\n",
    "from matplotlib import pyplot as plt"
   ]
  },
  {
   "cell_type": "code",
   "execution_count": 2,
   "metadata": {
    "collapsed": true
   },
   "outputs": [],
   "source": [
    "%matplotlib inline"
   ]
  },
  {
   "cell_type": "markdown",
   "metadata": {},
   "source": [
    "# 1)"
   ]
  },
  {
   "cell_type": "markdown",
   "metadata": {},
   "source": [
    "## a."
   ]
  },
  {
   "cell_type": "markdown",
   "metadata": {},
   "source": [
    "Lasso is regression with adding regilarizator L1 to linear model, to avoid overfitting of model. <br/>\n",
    "We want to minimize residuals, and coefficients in linear regression(big coeffs - is the signal, that model is overfitted) <br/> \n",
    "So we add to the model norm of vector of coeffs with some multiplier Lambda. <br />\n",
    "Also Lasso regression, unlike Ridge, is not smooth, and can assign coeffs to nulls (select subset)."
   ]
  },
  {
   "cell_type": "markdown",
   "metadata": {},
   "source": [
    "## b."
   ]
  },
  {
   "cell_type": "markdown",
   "metadata": {},
   "source": [
    "Cause by doing Regularization we are trying to fix scales of coeffs, and if our $x$`s is not standartized, it has influence in all model. cause if we'll have different dimensions of x, we would not conclude anything, cause mathematically coefficients of x would not mean anything without scaling x."
   ]
  },
  {
   "cell_type": "markdown",
   "metadata": {},
   "source": [
    "## c."
   ]
  },
  {
   "cell_type": "code",
   "execution_count": 3,
   "metadata": {
    "collapsed": true
   },
   "outputs": [],
   "source": [
    "df = pd.read_excel('ceo.xls')"
   ]
  },
  {
   "cell_type": "code",
   "execution_count": 4,
   "metadata": {
    "collapsed": true
   },
   "outputs": [],
   "source": [
    "cols = ['salary', 'totcomp', 'tenure', 'age', 'sales', 'profits', 'assets']"
   ]
  },
  {
   "cell_type": "code",
   "execution_count": 5,
   "metadata": {
    "collapsed": false
   },
   "outputs": [],
   "source": [
    "df = df[cols]"
   ]
  },
  {
   "cell_type": "code",
   "execution_count": 6,
   "metadata": {
    "collapsed": false
   },
   "outputs": [],
   "source": [
    "X, y = df.drop('salary', axis=1).as_matrix(), df['salary'].as_matrix()"
   ]
  },
  {
   "cell_type": "code",
   "execution_count": 7,
   "metadata": {
    "collapsed": false
   },
   "outputs": [
    {
     "data": {
      "text/html": [
       "<div>\n",
       "<table border=\"1\" class=\"dataframe\">\n",
       "  <thead>\n",
       "    <tr style=\"text-align: right;\">\n",
       "      <th></th>\n",
       "      <th>salary</th>\n",
       "      <th>totcomp</th>\n",
       "      <th>tenure</th>\n",
       "      <th>age</th>\n",
       "      <th>sales</th>\n",
       "      <th>profits</th>\n",
       "      <th>assets</th>\n",
       "    </tr>\n",
       "  </thead>\n",
       "  <tbody>\n",
       "    <tr>\n",
       "      <th>0</th>\n",
       "      <td>3030</td>\n",
       "      <td>8138</td>\n",
       "      <td>7</td>\n",
       "      <td>61</td>\n",
       "      <td>161315.0</td>\n",
       "      <td>2956.0</td>\n",
       "      <td>257389.0</td>\n",
       "    </tr>\n",
       "    <tr>\n",
       "      <th>1</th>\n",
       "      <td>6050</td>\n",
       "      <td>14530</td>\n",
       "      <td>0</td>\n",
       "      <td>51</td>\n",
       "      <td>144416.0</td>\n",
       "      <td>22071.0</td>\n",
       "      <td>237545.0</td>\n",
       "    </tr>\n",
       "    <tr>\n",
       "      <th>2</th>\n",
       "      <td>3571</td>\n",
       "      <td>7433</td>\n",
       "      <td>11</td>\n",
       "      <td>63</td>\n",
       "      <td>139208.0</td>\n",
       "      <td>4430.0</td>\n",
       "      <td>49271.0</td>\n",
       "    </tr>\n",
       "    <tr>\n",
       "      <th>3</th>\n",
       "      <td>3300</td>\n",
       "      <td>13464</td>\n",
       "      <td>6</td>\n",
       "      <td>60</td>\n",
       "      <td>100697.0</td>\n",
       "      <td>6370.0</td>\n",
       "      <td>92630.0</td>\n",
       "    </tr>\n",
       "    <tr>\n",
       "      <th>4</th>\n",
       "      <td>10000</td>\n",
       "      <td>68285</td>\n",
       "      <td>18</td>\n",
       "      <td>63</td>\n",
       "      <td>100469.0</td>\n",
       "      <td>9296.0</td>\n",
       "      <td>355935.0</td>\n",
       "    </tr>\n",
       "  </tbody>\n",
       "</table>\n",
       "</div>"
      ],
      "text/plain": [
       "   salary  totcomp  tenure  age     sales  profits    assets\n",
       "0    3030     8138       7   61  161315.0   2956.0  257389.0\n",
       "1    6050    14530       0   51  144416.0  22071.0  237545.0\n",
       "2    3571     7433      11   63  139208.0   4430.0   49271.0\n",
       "3    3300    13464       6   60  100697.0   6370.0   92630.0\n",
       "4   10000    68285      18   63  100469.0   9296.0  355935.0"
      ]
     },
     "execution_count": 7,
     "metadata": {},
     "output_type": "execute_result"
    }
   ],
   "source": [
    "df.head()"
   ]
  },
  {
   "cell_type": "code",
   "execution_count": 8,
   "metadata": {
    "collapsed": false
   },
   "outputs": [],
   "source": [
    "from sklearn.preprocessing import StandardScaler"
   ]
  },
  {
   "cell_type": "code",
   "execution_count": 9,
   "metadata": {
    "collapsed": true
   },
   "outputs": [],
   "source": [
    "from sklearn.linear_model import Lasso"
   ]
  },
  {
   "cell_type": "code",
   "execution_count": 10,
   "metadata": {
    "collapsed": true
   },
   "outputs": [],
   "source": [
    "from sklearn.pipeline import Pipeline"
   ]
  },
  {
   "cell_type": "markdown",
   "metadata": {},
   "source": [
    "## Split data on train/test"
   ]
  },
  {
   "cell_type": "code",
   "execution_count": 11,
   "metadata": {
    "collapsed": false
   },
   "outputs": [
    {
     "name": "stderr",
     "output_type": "stream",
     "text": [
      "/Users/costefan/.pyenv/versions/anaconda3-4.3.0/lib/python3.6/site-packages/sklearn/cross_validation.py:44: DeprecationWarning: This module was deprecated in version 0.18 in favor of the model_selection module into which all the refactored classes and functions are moved. Also note that the interface of the new CV iterators are different from that of this module. This module will be removed in 0.20.\n",
      "  \"This module will be removed in 0.20.\", DeprecationWarning)\n"
     ]
    }
   ],
   "source": [
    "from sklearn.cross_validation import train_test_split"
   ]
  },
  {
   "cell_type": "code",
   "execution_count": 12,
   "metadata": {
    "collapsed": false
   },
   "outputs": [],
   "source": [
    "X_train, X_test, y_train, y_test = train_test_split(X, y, test_size=0.3)"
   ]
  },
  {
   "cell_type": "code",
   "execution_count": 13,
   "metadata": {
    "collapsed": false
   },
   "outputs": [
    {
     "data": {
      "text/plain": [
       "array([[  5.37200000e+03,   9.00000000e+00,   5.70000000e+01,\n",
       "          1.20215000e+04,   1.06200000e+02,   5.84280000e+03],\n",
       "       [  9.62000000e+02,   1.00000000e+00,   4.90000000e+01,\n",
       "          4.22100000e+03,   4.43000000e+02,   1.20880000e+04],\n",
       "       [  1.63900000e+03,   0.00000000e+00,   4.40000000e+01,\n",
       "          6.59900000e+03,   3.15000000e+02,   1.00850000e+04],\n",
       "       ..., \n",
       "       [  3.51400000e+03,   4.00000000e+00,   4.40000000e+01,\n",
       "          3.26510000e+03,  -2.86600000e+02,   7.06110000e+03],\n",
       "       [  1.67500000e+03,   1.00000000e+01,   5.60000000e+01,\n",
       "          3.43250000e+03,   2.01200000e+02,   2.76079000e+04],\n",
       "       [  7.09000000e+02,   3.00000000e+00,   5.80000000e+01,\n",
       "          3.11210000e+03,  -2.87000000e+01,   1.10570000e+03]])"
      ]
     },
     "execution_count": 13,
     "metadata": {},
     "output_type": "execute_result"
    }
   ],
   "source": [
    "X_train"
   ]
  },
  {
   "cell_type": "code",
   "execution_count": 14,
   "metadata": {
    "collapsed": true
   },
   "outputs": [],
   "source": [
    "scaler = StandardScaler()"
   ]
  },
  {
   "cell_type": "code",
   "execution_count": 15,
   "metadata": {
    "collapsed": true
   },
   "outputs": [],
   "source": [
    "sc = scaler.fit(X_train)"
   ]
  },
  {
   "cell_type": "code",
   "execution_count": 16,
   "metadata": {
    "collapsed": false
   },
   "outputs": [],
   "source": [
    "X_train_scaled = sc.transform(X_train)"
   ]
  },
  {
   "cell_type": "code",
   "execution_count": 17,
   "metadata": {
    "collapsed": false
   },
   "outputs": [
    {
     "data": {
      "text/plain": [
       "array([[-0.11066836,  0.1935676 ,  0.04669302,  0.02528126, -0.47183985,\n",
       "        -0.30980328],\n",
       "       [-0.2289851 , -0.84322367, -1.10722554, -0.47844675, -0.20112712,\n",
       "        -0.21942216],\n",
       "       [-0.21082173, -0.97282258, -1.82842464, -0.32488413, -0.30401082,\n",
       "        -0.24840976],\n",
       "       ..., \n",
       "       [-0.160517  , -0.45442694, -1.82842464, -0.54017531, -0.78756419,\n",
       "        -0.29217193],\n",
       "       [-0.20985588,  0.32316651, -0.0975468 , -0.52936523, -0.39548085,\n",
       "         0.00518331],\n",
       "       [-0.23577288, -0.58402585,  0.19093284, -0.5500555 , -0.58026962,\n",
       "        -0.37835904]])"
      ]
     },
     "execution_count": 17,
     "metadata": {},
     "output_type": "execute_result"
    }
   ],
   "source": [
    "X_train_scaled"
   ]
  },
  {
   "cell_type": "markdown",
   "metadata": {},
   "source": [
    "## Scatter plots"
   ]
  },
  {
   "cell_type": "code",
   "execution_count": 18,
   "metadata": {
    "collapsed": false
   },
   "outputs": [
    {
     "data": {
      "image/png": "[encoded data removed]",
      "text/plain": [
       "<matplotlib.figure.Figure at 0x10fa43da0>"
      ]
     },
     "metadata": {},
     "output_type": "display_data"
    }
   ],
   "source": [
    "colors = \"bgrcmykw\"\n",
    "\n",
    "for index in range(len(cols) - 1):\n",
    "    plt.scatter(list(map(lambda x: x[index], X_train_scaled)), y_train)"
   ]
  },
  {
   "cell_type": "code",
   "execution_count": 19,
   "metadata": {
    "collapsed": true
   },
   "outputs": [],
   "source": [
    "from sklearn.linear_model import LassoCV"
   ]
  },
  {
   "cell_type": "code",
   "execution_count": 20,
   "metadata": {
    "collapsed": true
   },
   "outputs": [],
   "source": [
    "lasso_regression = Lasso()"
   ]
  },
  {
   "cell_type": "code",
   "execution_count": 21,
   "metadata": {
    "collapsed": false
   },
   "outputs": [],
   "source": [
    "lasso_params = {\n",
    "    'alpha': np.arange(0.1, 1, 0.02)\n",
    "}"
   ]
  },
  {
   "cell_type": "code",
   "execution_count": 22,
   "metadata": {
    "collapsed": true
   },
   "outputs": [],
   "source": [
    "from sklearn.model_selection import GridSearchCV"
   ]
  },
  {
   "cell_type": "code",
   "execution_count": 23,
   "metadata": {
    "collapsed": true
   },
   "outputs": [],
   "source": [
    "lasso_grid = GridSearchCV(\n",
    "    lasso_regression,\n",
    "    lasso_params,\n",
    "    cv=5,\n",
    "    n_jobs=-1\n",
    ")"
   ]
  },
  {
   "cell_type": "code",
   "execution_count": 24,
   "metadata": {
    "collapsed": false
   },
   "outputs": [
    {
     "data": {
      "text/plain": [
       "GridSearchCV(cv=5, error_score='raise',\n",
       "       estimator=Lasso(alpha=1.0, copy_X=True, fit_intercept=True, max_iter=1000,\n",
       "   normalize=False, positive=False, precompute=False, random_state=None,\n",
       "   selection='cyclic', tol=0.0001, warm_start=False),\n",
       "       fit_params={}, iid=True, n_jobs=-1,\n",
       "       param_grid={'alpha': array([ 0.1 ,  0.12,  0.14,  0.16,  0.18,  0.2 ,  0.22,  0.24,  0.26,\n",
       "        0.28,  0.3 ,  0.32,  0.34,  0.36,  0.38,  0.4 ,  0.42,  0.44,\n",
       "        0.46,  0.48,  0.5 ,  0.52,  0.54,  0.56,  0.58,  0.6 ,  0.62,\n",
       "        0.64,  0.66,  0.68,  0.7 ,  0.72,  0.74,  0.76,  0.78,  0.8 ,\n",
       "        0.82,  0.84,  0.86,  0.88,  0.9 ,  0.92,  0.94,  0.96,  0.98])},\n",
       "       pre_dispatch='2*n_jobs', refit=True, return_train_score=True,\n",
       "       scoring=None, verbose=0)"
      ]
     },
     "execution_count": 24,
     "metadata": {},
     "output_type": "execute_result"
    }
   ],
   "source": [
    "lasso_grid.fit(X_train_scaled, y_train)"
   ]
  },
  {
   "cell_type": "code",
   "execution_count": 25,
   "metadata": {
    "collapsed": false
   },
   "outputs": [
    {
     "data": {
      "text/plain": [
       "{'alpha': 0.98000000000000009}"
      ]
     },
     "execution_count": 25,
     "metadata": {},
     "output_type": "execute_result"
    }
   ],
   "source": [
    "lasso_grid.best_params_"
   ]
  },
  {
   "cell_type": "code",
   "execution_count": 26,
   "metadata": {
    "collapsed": false
   },
   "outputs": [
    {
     "data": {
      "text/plain": [
       "0.23797547657835166"
      ]
     },
     "execution_count": 26,
     "metadata": {},
     "output_type": "execute_result"
    }
   ],
   "source": [
    "lasso_grid.best_score_"
   ]
  },
  {
   "cell_type": "code",
   "execution_count": 27,
   "metadata": {
    "collapsed": false
   },
   "outputs": [
    {
     "data": {
      "text/plain": [
       "{'mean_fit_time': array([ 0.00361223,  0.00054922,  0.00034428,  0.00049257,  0.00068011,\n",
       "         0.00056343,  0.00034032,  0.00055637,  0.00052428,  0.00064917,\n",
       "         0.00045319,  0.00074768,  0.00051317,  0.00040522,  0.00044613,\n",
       "         0.00034871,  0.0008564 ,  0.00059953,  0.00336809,  0.0003932 ,\n",
       "         0.00040145,  0.00063825,  0.00057921,  0.00076566,  0.00050831,\n",
       "         0.00062885,  0.00048189,  0.00049343,  0.00052519,  0.0005105 ,\n",
       "         0.00047641,  0.00045776,  0.00051174,  0.00047812,  0.00039587,\n",
       "         0.00037017,  0.00049424,  0.0003706 ,  0.00034103,  0.00055361,\n",
       "         0.00030141,  0.0003387 ,  0.00029964,  0.0003408 ,  0.0003221 ]),\n",
       " 'mean_score_time': array([ 0.00241179,  0.00026398,  0.00018663,  0.00029068,  0.00030899,\n",
       "         0.0003058 ,  0.00019078,  0.00053415,  0.0003706 ,  0.000281  ,\n",
       "         0.00024843,  0.00037193,  0.00027237,  0.00023689,  0.00028162,\n",
       "         0.00018964,  0.00029221,  0.00029826,  0.00030651,  0.00024962,\n",
       "         0.00022435,  0.00043035,  0.00029464,  0.00030966,  0.00028987,\n",
       "         0.00027075,  0.00029454,  0.00030751,  0.00029063,  0.00039887,\n",
       "         0.0003006 ,  0.00042605,  0.00029464,  0.00027637,  0.00022964,\n",
       "         0.00019174,  0.00031829,  0.00023484,  0.00019641,  0.0002264 ,\n",
       "         0.00020194,  0.00021739,  0.00017343,  0.00022602,  0.00019178]),\n",
       " 'mean_test_score': array([ 0.2370859 ,  0.23710625,  0.2371266 ,  0.23714702,  0.23716716,\n",
       "         0.23718739,  0.23720762,  0.23722784,  0.23724842,  0.23726864,\n",
       "         0.23728918,  0.23730939,  0.23732959,  0.23734986,  0.23737006,\n",
       "         0.23739026,  0.23741045,  0.23743063,  0.23745055,  0.23747073,\n",
       "         0.23749091,  0.23751108,  0.23753125,  0.23755204,  0.2375722 ,\n",
       "         0.23759236,  0.23761251,  0.23763266,  0.23765281,  0.23767296,\n",
       "         0.2376931 ,  0.23771421,  0.23773434,  0.23775447,  0.2377746 ,\n",
       "         0.23779472,  0.23781484,  0.23783495,  0.23785506,  0.23787517,\n",
       "         0.23789527,  0.23791537,  0.23793569,  0.23795578,  0.23797548]),\n",
       " 'mean_train_score': array([ 0.35589876,  0.35589875,  0.35589875,  0.35589874,  0.35589873,\n",
       "         0.35589871,  0.3558987 ,  0.35589868,  0.35589867,  0.35589865,\n",
       "         0.35589863,  0.35589861,  0.35589859,  0.35589857,  0.35589854,\n",
       "         0.35589852,  0.35589849,  0.35589847,  0.35589844,  0.35589841,\n",
       "         0.35589837,  0.35589834,  0.35589831,  0.35589827,  0.35589823,\n",
       "         0.3558982 ,  0.35589816,  0.35589812,  0.35589808,  0.35589803,\n",
       "         0.35589799,  0.35589794,  0.35589789,  0.35589785,  0.3558978 ,\n",
       "         0.35589775,  0.35589769,  0.35589764,  0.35589759,  0.35589753,\n",
       "         0.35589747,  0.35589741,  0.35589735,  0.35589729,  0.35589723]),\n",
       " 'param_alpha': masked_array(data = [0.10000000000000001 0.12000000000000001 0.14000000000000001\n",
       "  0.16000000000000003 0.18000000000000002 0.20000000000000001\n",
       "  0.22000000000000003 0.24000000000000002 0.26000000000000001\n",
       "  0.28000000000000003 0.30000000000000004 0.32000000000000006\n",
       "  0.34000000000000008 0.3600000000000001 0.38 0.40000000000000002\n",
       "  0.42000000000000004 0.44000000000000006 0.46000000000000008\n",
       "  0.48000000000000009 0.50000000000000011 0.52000000000000013\n",
       "  0.54000000000000004 0.56000000000000005 0.58000000000000007\n",
       "  0.60000000000000009 0.62000000000000011 0.64000000000000012\n",
       "  0.66000000000000003 0.68000000000000005 0.70000000000000007\n",
       "  0.72000000000000008 0.7400000000000001 0.76000000000000012\n",
       "  0.78000000000000014 0.80000000000000016 0.82000000000000017\n",
       "  0.84000000000000008 0.8600000000000001 0.88000000000000012\n",
       "  0.90000000000000013 0.92000000000000015 0.94000000000000017\n",
       "  0.96000000000000019 0.98000000000000009],\n",
       "              mask = [False False False False False False False False False False False False\n",
       "  False False False False False False False False False False False False\n",
       "  False False False False False False False False False False False False\n",
       "  False False False False False False False False False],\n",
       "        fill_value = ?),\n",
       " 'params': ({'alpha': 0.10000000000000001},\n",
       "  {'alpha': 0.12000000000000001},\n",
       "  {'alpha': 0.14000000000000001},\n",
       "  {'alpha': 0.16000000000000003},\n",
       "  {'alpha': 0.18000000000000002},\n",
       "  {'alpha': 0.20000000000000001},\n",
       "  {'alpha': 0.22000000000000003},\n",
       "  {'alpha': 0.24000000000000002},\n",
       "  {'alpha': 0.26000000000000001},\n",
       "  {'alpha': 0.28000000000000003},\n",
       "  {'alpha': 0.30000000000000004},\n",
       "  {'alpha': 0.32000000000000006},\n",
       "  {'alpha': 0.34000000000000008},\n",
       "  {'alpha': 0.3600000000000001},\n",
       "  {'alpha': 0.38},\n",
       "  {'alpha': 0.40000000000000002},\n",
       "  {'alpha': 0.42000000000000004},\n",
       "  {'alpha': 0.44000000000000006},\n",
       "  {'alpha': 0.46000000000000008},\n",
       "  {'alpha': 0.48000000000000009},\n",
       "  {'alpha': 0.50000000000000011},\n",
       "  {'alpha': 0.52000000000000013},\n",
       "  {'alpha': 0.54000000000000004},\n",
       "  {'alpha': 0.56000000000000005},\n",
       "  {'alpha': 0.58000000000000007},\n",
       "  {'alpha': 0.60000000000000009},\n",
       "  {'alpha': 0.62000000000000011},\n",
       "  {'alpha': 0.64000000000000012},\n",
       "  {'alpha': 0.66000000000000003},\n",
       "  {'alpha': 0.68000000000000005},\n",
       "  {'alpha': 0.70000000000000007},\n",
       "  {'alpha': 0.72000000000000008},\n",
       "  {'alpha': 0.7400000000000001},\n",
       "  {'alpha': 0.76000000000000012},\n",
       "  {'alpha': 0.78000000000000014},\n",
       "  {'alpha': 0.80000000000000016},\n",
       "  {'alpha': 0.82000000000000017},\n",
       "  {'alpha': 0.84000000000000008},\n",
       "  {'alpha': 0.8600000000000001},\n",
       "  {'alpha': 0.88000000000000012},\n",
       "  {'alpha': 0.90000000000000013},\n",
       "  {'alpha': 0.92000000000000015},\n",
       "  {'alpha': 0.94000000000000017},\n",
       "  {'alpha': 0.96000000000000019},\n",
       "  {'alpha': 0.98000000000000009}),\n",
       " 'rank_test_score': array([45, 44, 43, 42, 41, 40, 39, 38, 37, 36, 35, 34, 33, 32, 31, 30, 29,\n",
       "        28, 27, 26, 25, 24, 23, 22, 21, 20, 19, 18, 17, 16, 15, 14, 13, 12,\n",
       "        11, 10,  9,  8,  7,  6,  5,  4,  3,  2,  1], dtype=int32),\n",
       " 'split0_test_score': array([ 0.25172855,  0.25173244,  0.25173683,  0.25174072,  0.25174461,\n",
       "         0.2517485 ,  0.25175239,  0.25175627,  0.25176016,  0.25176404,\n",
       "         0.25176792,  0.2517718 ,  0.25177568,  0.25178035,  0.25178423,\n",
       "         0.2517881 ,  0.25179198,  0.25179585,  0.25179973,  0.2518036 ,\n",
       "         0.25180747,  0.25181134,  0.25181521,  0.25181907,  0.25182294,\n",
       "         0.2518268 ,  0.25183067,  0.25183453,  0.25183839,  0.25184225,\n",
       "         0.25184611,  0.25184997,  0.25185382,  0.25185768,  0.25186153,\n",
       "         0.25186539,  0.25186924,  0.25187309,  0.25187694,  0.25188079,\n",
       "         0.25188463,  0.25188848,  0.25189341,  0.25189726,  0.2519011 ]),\n",
       " 'split0_train_score': array([ 0.35753214,  0.35753213,  0.35753213,  0.35753212,  0.35753211,\n",
       "         0.3575321 ,  0.35753208,  0.35753207,  0.35753206,  0.35753204,\n",
       "         0.35753203,  0.35753201,  0.35753199,  0.35753197,  0.35753195,\n",
       "         0.35753192,  0.3575319 ,  0.35753188,  0.35753185,  0.35753182,\n",
       "         0.35753179,  0.35753177,  0.35753174,  0.3575317 ,  0.35753167,\n",
       "         0.35753164,  0.3575316 ,  0.35753157,  0.35753153,  0.35753149,\n",
       "         0.35753145,  0.35753141,  0.35753137,  0.35753133,  0.35753128,\n",
       "         0.35753124,  0.35753119,  0.35753114,  0.35753109,  0.35753104,\n",
       "         0.35753099,  0.35753094,  0.35753088,  0.35753083,  0.35753077]),\n",
       " 'split1_test_score': array([ 0.04645906,  0.04653951,  0.04661994,  0.04670119,  0.0467816 ,\n",
       "         0.04686199,  0.04694237,  0.04702273,  0.04710309,  0.04718343,\n",
       "         0.04726536,  0.04734568,  0.04742598,  0.04750627,  0.04758654,\n",
       "         0.04766681,  0.04774706,  0.04782729,  0.04790752,  0.04798773,\n",
       "         0.04806793,  0.04814811,  0.04822829,  0.04831154,  0.04839169,\n",
       "         0.04847182,  0.04855194,  0.04863205,  0.04871215,  0.04879223,\n",
       "         0.0488723 ,  0.04895235,  0.0490324 ,  0.04911243,  0.04919245,\n",
       "         0.04927245,  0.04935245,  0.04943243,  0.04951239,  0.04959235,\n",
       "         0.04967229,  0.04975222,  0.04983213,  0.04991203,  0.04999192]),\n",
       " 'split1_train_score': array([ 0.36346688,  0.36346687,  0.36346685,  0.36346683,  0.36346682,\n",
       "         0.3634668 ,  0.36346677,  0.36346675,  0.36346672,  0.36346669,\n",
       "         0.36346666,  0.36346662,  0.36346659,  0.36346655,  0.36346651,\n",
       "         0.36346647,  0.36346642,  0.36346637,  0.36346633,  0.36346627,\n",
       "         0.36346622,  0.36346616,  0.36346611,  0.36346604,  0.36346598,\n",
       "         0.36346592,  0.36346585,  0.36346578,  0.36346571,  0.36346564,\n",
       "         0.36346556,  0.36346548,  0.3634654 ,  0.36346532,  0.36346524,\n",
       "         0.36346515,  0.36346506,  0.36346497,  0.36346488,  0.36346478,\n",
       "         0.36346469,  0.36346459,  0.36346449,  0.36346438,  0.36346428]),\n",
       " 'split2_test_score': array([ 0.26591702,  0.26593098,  0.26594493,  0.26595897,  0.26597292,\n",
       "         0.26598687,  0.26600082,  0.26601476,  0.26602871,  0.26604265,\n",
       "         0.2660566 ,  0.26607054,  0.26608447,  0.26609797,  0.26611191,\n",
       "         0.26612584,  0.26613977,  0.2661537 ,  0.26616763,  0.26618156,\n",
       "         0.26619549,  0.26620942,  0.26622334,  0.26623726,  0.26625118,\n",
       "         0.2662651 ,  0.26627902,  0.26629294,  0.26630685,  0.26632077,\n",
       "         0.26633468,  0.26634859,  0.2663625 ,  0.2663764 ,  0.26639031,\n",
       "         0.26640422,  0.26641812,  0.26643202,  0.26644592,  0.26645982,\n",
       "         0.26647372,  0.26648761,  0.26650151,  0.2665154 ,  0.26652729]),\n",
       " 'split2_train_score': array([ 0.34977295,  0.34977294,  0.34977293,  0.34977292,  0.34977291,\n",
       "         0.3497729 ,  0.34977289,  0.34977288,  0.34977286,  0.34977285,\n",
       "         0.34977283,  0.34977281,  0.34977279,  0.34977277,  0.34977275,\n",
       "         0.34977273,  0.3497727 ,  0.34977268,  0.34977265,  0.34977262,\n",
       "         0.34977259,  0.34977257,  0.34977253,  0.3497725 ,  0.34977247,\n",
       "         0.34977243,  0.3497724 ,  0.34977236,  0.34977232,  0.34977228,\n",
       "         0.34977224,  0.3497722 ,  0.34977216,  0.34977212,  0.34977207,\n",
       "         0.34977203,  0.34977198,  0.34977193,  0.34977188,  0.34977183,\n",
       "         0.34977178,  0.34977172,  0.34977167,  0.34977161,  0.34977155]),\n",
       " 'split3_test_score': array([ 0.55723704,  0.55723825,  0.55723893,  0.5572396 ,  0.55724028,\n",
       "         0.55724095,  0.55724162,  0.55724228,  0.55724478,  0.55724544,\n",
       "         0.5572461 ,  0.55724676,  0.55724742,  0.55724807,  0.55724872,\n",
       "         0.55724937,  0.55725002,  0.55725067,  0.55725131,  0.55725195,\n",
       "         0.55725259,  0.55725323,  0.55725386,  0.5572545 ,  0.55725513,\n",
       "         0.55725575,  0.55725638,  0.55725701,  0.55725763,  0.55725825,\n",
       "         0.55725886,  0.55726439,  0.557265  ,  0.55726561,  0.55726622,\n",
       "         0.55726682,  0.55726743,  0.55726803,  0.55726863,  0.55726923,\n",
       "         0.55726982,  0.55727042,  0.55727101,  0.5572716 ,  0.55727219]),\n",
       " 'split3_train_score': array([ 0.30164966,  0.30164965,  0.30164965,  0.30164964,  0.30164963,\n",
       "         0.30164961,  0.3016496 ,  0.30164958,  0.30164957,  0.30164955,\n",
       "         0.30164953,  0.30164951,  0.30164949,  0.30164947,  0.30164945,\n",
       "         0.30164942,  0.30164939,  0.30164937,  0.30164934,  0.30164931,\n",
       "         0.30164928,  0.30164924,  0.30164921,  0.30164917,  0.30164914,\n",
       "         0.3016491 ,  0.30164906,  0.30164902,  0.30164898,  0.30164894,\n",
       "         0.30164889,  0.30164884,  0.3016488 ,  0.30164875,  0.3016487 ,\n",
       "         0.30164865,  0.30164859,  0.30164854,  0.30164849,  0.30164843,\n",
       "         0.30164837,  0.30164832,  0.30164826,  0.3016482 ,  0.30164813]),\n",
       " 'split4_test_score': array([ 0.0669263 ,  0.06692784,  0.06692939,  0.06693093,  0.06693201,\n",
       "         0.06693356,  0.0669351 ,  0.06693664,  0.06693819,  0.06693973,\n",
       "         0.06694127,  0.06694282,  0.06694436,  0.0669459 ,  0.06694744,\n",
       "         0.06694899,  0.06695053,  0.06695207,  0.06695227,  0.06695382,\n",
       "         0.06695536,  0.0669569 ,  0.06695844,  0.06695998,  0.06696152,\n",
       "         0.06696306,  0.0669646 ,  0.06696614,  0.06696768,  0.06696921,\n",
       "         0.06697075,  0.06697229,  0.06697383,  0.06697537,  0.06697691,\n",
       "         0.06697844,  0.06697998,  0.06698152,  0.06698305,  0.06698459,\n",
       "         0.06698613,  0.06698766,  0.0669892 ,  0.06699073,  0.06699227]),\n",
       " 'split4_train_score': array([ 0.40707218,  0.40707218,  0.40707217,  0.40707217,  0.40707216,\n",
       "         0.40707216,  0.40707215,  0.40707214,  0.40707213,  0.40707213,\n",
       "         0.40707212,  0.40707211,  0.4070721 ,  0.40707208,  0.40707207,\n",
       "         0.40707206,  0.40707205,  0.40707203,  0.40707202,  0.407072  ,\n",
       "         0.40707199,  0.40707197,  0.40707195,  0.40707193,  0.40707191,\n",
       "         0.4070719 ,  0.40707188,  0.40707186,  0.40707183,  0.40707181,\n",
       "         0.40707179,  0.40707177,  0.40707174,  0.40707172,  0.40707169,\n",
       "         0.40707167,  0.40707164,  0.40707161,  0.40707159,  0.40707156,\n",
       "         0.40707153,  0.4070715 ,  0.40707147,  0.40707144,  0.40707141]),\n",
       " 'std_fit_time': array([  1.81147656e-03,   1.19806567e-04,   3.29145462e-05,\n",
       "          4.25428544e-06,   2.45929410e-04,   1.85356264e-04,\n",
       "          4.61921092e-05,   7.92615529e-05,   3.01578299e-05,\n",
       "          3.68673747e-04,   1.10573016e-04,   3.93818161e-04,\n",
       "          9.31997225e-05,   8.14823321e-05,   3.82818579e-05,\n",
       "          6.34966644e-05,   6.16433733e-04,   1.47591430e-04,\n",
       "          4.24209919e-03,   8.84815515e-05,   7.28792833e-05,\n",
       "          2.82677296e-04,   1.56944386e-04,   3.56740984e-04,\n",
       "          3.19523595e-05,   3.12446419e-04,   2.44703426e-05,\n",
       "          1.82975037e-05,   4.70180298e-05,   5.39254971e-05,\n",
       "          2.16120360e-05,   1.23573525e-05,   3.51773989e-05,\n",
       "          2.44769389e-05,   8.85603044e-05,   7.21233502e-05,\n",
       "          1.56299263e-04,   4.46994080e-05,   8.11259076e-05,\n",
       "          2.77990256e-04,   1.40164172e-05,   4.09723837e-05,\n",
       "          2.07520057e-06,   6.51516623e-05,   2.91155847e-05]),\n",
       " 'std_score_time': array([  1.03594128e-03,   5.94515551e-05,   5.78409566e-06,\n",
       "          7.15795949e-06,   1.83442917e-05,   3.95770820e-05,\n",
       "          7.60013214e-06,   3.58867487e-04,   1.03359951e-04,\n",
       "          5.39630526e-05,   5.38277136e-05,   1.25369186e-04,\n",
       "          2.01948277e-05,   5.52797217e-05,   4.25245185e-05,\n",
       "          1.02753705e-05,   4.79357733e-06,   3.36334175e-05,\n",
       "          1.27883068e-05,   8.63959981e-05,   4.67964110e-05,\n",
       "          1.47040607e-04,   1.86262140e-05,   4.71416659e-05,\n",
       "          1.40706558e-05,   1.92524147e-05,   7.81722131e-06,\n",
       "          3.21306167e-05,   1.01208617e-05,   1.69278870e-04,\n",
       "          2.54411281e-05,   3.12481289e-04,   1.00072205e-05,\n",
       "          7.72917586e-06,   4.68402167e-05,   7.38158706e-06,\n",
       "          1.16821892e-04,   4.97780082e-05,   3.10839314e-05,\n",
       "          5.17853935e-05,   4.77854121e-05,   7.31986818e-05,\n",
       "          1.49729905e-06,   6.52678426e-05,   2.15452315e-05]),\n",
       " 'std_test_score': array([ 0.18348775,  0.18347151,  0.1834551 ,  0.18343852,  0.1834222 ,\n",
       "         0.1834058 ,  0.1833894 ,  0.18337301,  0.18335726,  0.18334088,\n",
       "         0.18332417,  0.1833078 ,  0.18329144,  0.18327508,  0.18325873,\n",
       "         0.18324238,  0.18322604,  0.18320971,  0.18319363,  0.1831773 ,\n",
       "         0.18316098,  0.18314467,  0.18312837,  0.18311142,  0.18309512,\n",
       "         0.18307883,  0.18306255,  0.18304627,  0.18303   ,  0.18301373,\n",
       "         0.18299747,  0.18298291,  0.18296666,  0.18295042,  0.18293418,\n",
       "         0.18291794,  0.18290171,  0.18288549,  0.18286927,  0.18285306,\n",
       "         0.18283685,  0.18282065,  0.18280447,  0.18278828,  0.18277203]),\n",
       " 'std_train_score': array([ 0.03364269,  0.03364269,  0.03364269,  0.0336427 ,  0.0336427 ,\n",
       "         0.0336427 ,  0.0336427 ,  0.0336427 ,  0.0336427 ,  0.03364271,\n",
       "         0.03364271,  0.03364271,  0.03364271,  0.03364271,  0.03364272,\n",
       "         0.03364272,  0.03364272,  0.03364273,  0.03364273,  0.03364273,\n",
       "         0.03364274,  0.03364274,  0.03364274,  0.03364275,  0.03364275,\n",
       "         0.03364276,  0.03364276,  0.03364277,  0.03364277,  0.03364278,\n",
       "         0.03364278,  0.03364279,  0.03364279,  0.0336428 ,  0.0336428 ,\n",
       "         0.03364281,  0.03364282,  0.03364282,  0.03364283,  0.03364284,\n",
       "         0.03364284,  0.03364285,  0.03364286,  0.03364286,  0.03364287])}"
      ]
     },
     "execution_count": 27,
     "metadata": {},
     "output_type": "execute_result"
    }
   ],
   "source": [
    "lasso_grid.cv_results_\n"
   ]
  },
  {
   "cell_type": "code",
   "execution_count": 28,
   "metadata": {
    "collapsed": true
   },
   "outputs": [],
   "source": [
    "from sklearn import metrics"
   ]
  },
  {
   "cell_type": "code",
   "execution_count": 29,
   "metadata": {
    "collapsed": true
   },
   "outputs": [],
   "source": [
    "X_test_scaled = sc.transform(X_test)"
   ]
  },
  {
   "cell_type": "code",
   "execution_count": 30,
   "metadata": {
    "collapsed": false
   },
   "outputs": [],
   "source": [
    "y_predict = lasso_grid.best_estimator_.predict(X_test_scaled)"
   ]
  },
  {
   "cell_type": "code",
   "execution_count": 31,
   "metadata": {
    "collapsed": false
   },
   "outputs": [
    {
     "name": "stderr",
     "output_type": "stream",
     "text": [
      "/Users/costefan/.pyenv/versions/anaconda3-4.3.0/lib/python3.6/site-packages/sklearn/model_selection/_search.py:667: DeprecationWarning: The grid_scores_ attribute was deprecated in version 0.18 in favor of the more elaborate cv_results_ attribute. The grid_scores_ attribute will not be available from 0.20\n",
      "  DeprecationWarning)\n"
     ]
    },
    {
     "data": {
      "text/plain": [
       "[mean: 0.23709, std: 0.18376, params: {'alpha': 0.10000000000000001},\n",
       " mean: 0.23711, std: 0.18374, params: {'alpha': 0.12000000000000001},\n",
       " mean: 0.23713, std: 0.18372, params: {'alpha': 0.14000000000000001},\n",
       " mean: 0.23715, std: 0.18371, params: {'alpha': 0.16000000000000003},\n",
       " mean: 0.23717, std: 0.18369, params: {'alpha': 0.18000000000000002},\n",
       " mean: 0.23719, std: 0.18368, params: {'alpha': 0.20000000000000001},\n",
       " mean: 0.23721, std: 0.18366, params: {'alpha': 0.22000000000000003},\n",
       " mean: 0.23723, std: 0.18364, params: {'alpha': 0.24000000000000002},\n",
       " mean: 0.23725, std: 0.18363, params: {'alpha': 0.26000000000000001},\n",
       " mean: 0.23727, std: 0.18361, params: {'alpha': 0.28000000000000003},\n",
       " mean: 0.23729, std: 0.18359, params: {'alpha': 0.30000000000000004},\n",
       " mean: 0.23731, std: 0.18358, params: {'alpha': 0.32000000000000006},\n",
       " mean: 0.23733, std: 0.18356, params: {'alpha': 0.34000000000000008},\n",
       " mean: 0.23735, std: 0.18355, params: {'alpha': 0.3600000000000001},\n",
       " mean: 0.23737, std: 0.18353, params: {'alpha': 0.38},\n",
       " mean: 0.23739, std: 0.18351, params: {'alpha': 0.40000000000000002},\n",
       " mean: 0.23741, std: 0.18350, params: {'alpha': 0.42000000000000004},\n",
       " mean: 0.23743, std: 0.18348, params: {'alpha': 0.44000000000000006},\n",
       " mean: 0.23745, std: 0.18347, params: {'alpha': 0.46000000000000008},\n",
       " mean: 0.23747, std: 0.18345, params: {'alpha': 0.48000000000000009},\n",
       " mean: 0.23749, std: 0.18343, params: {'alpha': 0.50000000000000011},\n",
       " mean: 0.23751, std: 0.18342, params: {'alpha': 0.52000000000000013},\n",
       " mean: 0.23753, std: 0.18340, params: {'alpha': 0.54000000000000004},\n",
       " mean: 0.23755, std: 0.18338, params: {'alpha': 0.56000000000000005},\n",
       " mean: 0.23757, std: 0.18337, params: {'alpha': 0.58000000000000007},\n",
       " mean: 0.23759, std: 0.18335, params: {'alpha': 0.60000000000000009},\n",
       " mean: 0.23761, std: 0.18334, params: {'alpha': 0.62000000000000011},\n",
       " mean: 0.23763, std: 0.18332, params: {'alpha': 0.64000000000000012},\n",
       " mean: 0.23765, std: 0.18330, params: {'alpha': 0.66000000000000003},\n",
       " mean: 0.23767, std: 0.18329, params: {'alpha': 0.68000000000000005},\n",
       " mean: 0.23769, std: 0.18327, params: {'alpha': 0.70000000000000007},\n",
       " mean: 0.23771, std: 0.18326, params: {'alpha': 0.72000000000000008},\n",
       " mean: 0.23773, std: 0.18324, params: {'alpha': 0.7400000000000001},\n",
       " mean: 0.23775, std: 0.18322, params: {'alpha': 0.76000000000000012},\n",
       " mean: 0.23777, std: 0.18321, params: {'alpha': 0.78000000000000014},\n",
       " mean: 0.23779, std: 0.18319, params: {'alpha': 0.80000000000000016},\n",
       " mean: 0.23781, std: 0.18318, params: {'alpha': 0.82000000000000017},\n",
       " mean: 0.23783, std: 0.18316, params: {'alpha': 0.84000000000000008},\n",
       " mean: 0.23786, std: 0.18314, params: {'alpha': 0.8600000000000001},\n",
       " mean: 0.23788, std: 0.18313, params: {'alpha': 0.88000000000000012},\n",
       " mean: 0.23790, std: 0.18311, params: {'alpha': 0.90000000000000013},\n",
       " mean: 0.23792, std: 0.18310, params: {'alpha': 0.92000000000000015},\n",
       " mean: 0.23794, std: 0.18308, params: {'alpha': 0.94000000000000017},\n",
       " mean: 0.23796, std: 0.18306, params: {'alpha': 0.96000000000000019},\n",
       " mean: 0.23798, std: 0.18305, params: {'alpha': 0.98000000000000009}]"
      ]
     },
     "execution_count": 31,
     "metadata": {},
     "output_type": "execute_result"
    }
   ],
   "source": [
    "lasso_grid.grid_scores_"
   ]
  },
  {
   "cell_type": "code",
   "execution_count": 32,
   "metadata": {
    "collapsed": false
   },
   "outputs": [
    {
     "name": "stderr",
     "output_type": "stream",
     "text": [
      "/Users/costefan/.pyenv/versions/anaconda3-4.3.0/lib/python3.6/site-packages/sklearn/model_selection/_search.py:667: DeprecationWarning: The grid_scores_ attribute was deprecated in version 0.18 in favor of the more elaborate cv_results_ attribute. The grid_scores_ attribute will not be available from 0.20\n",
      "  DeprecationWarning)\n"
     ]
    },
    {
     "data": {
      "text/plain": [
       "{0.10000000000000001: 0.23708590266028126,\n",
       " 0.12000000000000001: 0.23710625283486186,\n",
       " 0.14000000000000001: 0.23712659503964714,\n",
       " 0.16000000000000003: 0.23714701893666662,\n",
       " 0.18000000000000002: 0.23716716051673656,\n",
       " 0.20000000000000001: 0.23718739088354349,\n",
       " 0.22000000000000003: 0.23720761765208265,\n",
       " 0.24000000000000002: 0.23722784082235407,\n",
       " 0.26000000000000001: 0.23724842365875448,\n",
       " 0.28000000000000003: 0.2372686396067718,\n",
       " 0.30000000000000004: 0.23728917707158209,\n",
       " 0.32000000000000006: 0.23730938574882032,\n",
       " 0.34000000000000008: 0.23732959082779922,\n",
       " 0.3600000000000001: 0.23734986358120799,\n",
       " 0.38: 0.23737006144271236,\n",
       " 0.40000000000000002: 0.23739025570595759,\n",
       " 0.42000000000000004: 0.23741044637094338,\n",
       " 0.44000000000000006: 0.23743063343767004,\n",
       " 0.46000000000000008: 0.23745055127473608,\n",
       " 0.48000000000000009: 0.23747073114718631,\n",
       " 0.50000000000000011: 0.23749090742137724,\n",
       " 0.52000000000000013: 0.2375110800973092,\n",
       " 0.54000000000000004: 0.2375312491749817,\n",
       " 0.56000000000000005: 0.23755203941304159,\n",
       " 0.58000000000000007: 0.23757220115077354,\n",
       " 0.60000000000000009: 0.23759235929026173,\n",
       " 0.62000000000000011: 0.237612513831506,\n",
       " 0.64000000000000012: 0.23763266477450651,\n",
       " 0.66000000000000003: 0.23765281211926309,\n",
       " 0.68000000000000005: 0.2376729558657758,\n",
       " 0.70000000000000007: 0.23769309601404456,\n",
       " 0.72000000000000008: 0.23771420734171472,\n",
       " 0.7400000000000001: 0.23773434024033188,\n",
       " 0.76000000000000012: 0.23775446954070581,\n",
       " 0.78000000000000014: 0.23777459524283664,\n",
       " 0.80000000000000016: 0.23779471734672414,\n",
       " 0.82000000000000017: 0.23781483585236843,\n",
       " 0.84000000000000008: 0.23783495075976938,\n",
       " 0.8600000000000001: 0.2378550620689274,\n",
       " 0.88000000000000012: 0.23787516977984202,\n",
       " 0.90000000000000013: 0.23789527389251355,\n",
       " 0.92000000000000015: 0.23791537440694199,\n",
       " 0.94000000000000017: 0.23793569116034136,\n",
       " 0.96000000000000019: 0.2379557844657593,\n",
       " 0.98000000000000009: 0.23797547657835166}"
      ]
     },
     "execution_count": 32,
     "metadata": {},
     "output_type": "execute_result"
    }
   ],
   "source": [
    "alpha_per_mean_score = {item[0]['alpha']: item[1] for item in lasso_grid.grid_scores_ }\n",
    "alpha_per_mean_score"
   ]
  },
  {
   "cell_type": "code",
   "execution_count": 33,
   "metadata": {
    "collapsed": false
   },
   "outputs": [
    {
     "data": {
      "text/plain": [
       "{'mean_fit_time': array([ 0.00361223,  0.00054922,  0.00034428,  0.00049257,  0.00068011,\n",
       "         0.00056343,  0.00034032,  0.00055637,  0.00052428,  0.00064917,\n",
       "         0.00045319,  0.00074768,  0.00051317,  0.00040522,  0.00044613,\n",
       "         0.00034871,  0.0008564 ,  0.00059953,  0.00336809,  0.0003932 ,\n",
       "         0.00040145,  0.00063825,  0.00057921,  0.00076566,  0.00050831,\n",
       "         0.00062885,  0.00048189,  0.00049343,  0.00052519,  0.0005105 ,\n",
       "         0.00047641,  0.00045776,  0.00051174,  0.00047812,  0.00039587,\n",
       "         0.00037017,  0.00049424,  0.0003706 ,  0.00034103,  0.00055361,\n",
       "         0.00030141,  0.0003387 ,  0.00029964,  0.0003408 ,  0.0003221 ]),\n",
       " 'mean_score_time': array([ 0.00241179,  0.00026398,  0.00018663,  0.00029068,  0.00030899,\n",
       "         0.0003058 ,  0.00019078,  0.00053415,  0.0003706 ,  0.000281  ,\n",
       "         0.00024843,  0.00037193,  0.00027237,  0.00023689,  0.00028162,\n",
       "         0.00018964,  0.00029221,  0.00029826,  0.00030651,  0.00024962,\n",
       "         0.00022435,  0.00043035,  0.00029464,  0.00030966,  0.00028987,\n",
       "         0.00027075,  0.00029454,  0.00030751,  0.00029063,  0.00039887,\n",
       "         0.0003006 ,  0.00042605,  0.00029464,  0.00027637,  0.00022964,\n",
       "         0.00019174,  0.00031829,  0.00023484,  0.00019641,  0.0002264 ,\n",
       "         0.00020194,  0.00021739,  0.00017343,  0.00022602,  0.00019178]),\n",
       " 'mean_test_score': array([ 0.2370859 ,  0.23710625,  0.2371266 ,  0.23714702,  0.23716716,\n",
       "         0.23718739,  0.23720762,  0.23722784,  0.23724842,  0.23726864,\n",
       "         0.23728918,  0.23730939,  0.23732959,  0.23734986,  0.23737006,\n",
       "         0.23739026,  0.23741045,  0.23743063,  0.23745055,  0.23747073,\n",
       "         0.23749091,  0.23751108,  0.23753125,  0.23755204,  0.2375722 ,\n",
       "         0.23759236,  0.23761251,  0.23763266,  0.23765281,  0.23767296,\n",
       "         0.2376931 ,  0.23771421,  0.23773434,  0.23775447,  0.2377746 ,\n",
       "         0.23779472,  0.23781484,  0.23783495,  0.23785506,  0.23787517,\n",
       "         0.23789527,  0.23791537,  0.23793569,  0.23795578,  0.23797548]),\n",
       " 'mean_train_score': array([ 0.35589876,  0.35589875,  0.35589875,  0.35589874,  0.35589873,\n",
       "         0.35589871,  0.3558987 ,  0.35589868,  0.35589867,  0.35589865,\n",
       "         0.35589863,  0.35589861,  0.35589859,  0.35589857,  0.35589854,\n",
       "         0.35589852,  0.35589849,  0.35589847,  0.35589844,  0.35589841,\n",
       "         0.35589837,  0.35589834,  0.35589831,  0.35589827,  0.35589823,\n",
       "         0.3558982 ,  0.35589816,  0.35589812,  0.35589808,  0.35589803,\n",
       "         0.35589799,  0.35589794,  0.35589789,  0.35589785,  0.3558978 ,\n",
       "         0.35589775,  0.35589769,  0.35589764,  0.35589759,  0.35589753,\n",
       "         0.35589747,  0.35589741,  0.35589735,  0.35589729,  0.35589723]),\n",
       " 'param_alpha': masked_array(data = [0.10000000000000001 0.12000000000000001 0.14000000000000001\n",
       "  0.16000000000000003 0.18000000000000002 0.20000000000000001\n",
       "  0.22000000000000003 0.24000000000000002 0.26000000000000001\n",
       "  0.28000000000000003 0.30000000000000004 0.32000000000000006\n",
       "  0.34000000000000008 0.3600000000000001 0.38 0.40000000000000002\n",
       "  0.42000000000000004 0.44000000000000006 0.46000000000000008\n",
       "  0.48000000000000009 0.50000000000000011 0.52000000000000013\n",
       "  0.54000000000000004 0.56000000000000005 0.58000000000000007\n",
       "  0.60000000000000009 0.62000000000000011 0.64000000000000012\n",
       "  0.66000000000000003 0.68000000000000005 0.70000000000000007\n",
       "  0.72000000000000008 0.7400000000000001 0.76000000000000012\n",
       "  0.78000000000000014 0.80000000000000016 0.82000000000000017\n",
       "  0.84000000000000008 0.8600000000000001 0.88000000000000012\n",
       "  0.90000000000000013 0.92000000000000015 0.94000000000000017\n",
       "  0.96000000000000019 0.98000000000000009],\n",
       "              mask = [False False False False False False False False False False False False\n",
       "  False False False False False False False False False False False False\n",
       "  False False False False False False False False False False False False\n",
       "  False False False False False False False False False],\n",
       "        fill_value = ?),\n",
       " 'params': ({'alpha': 0.10000000000000001},\n",
       "  {'alpha': 0.12000000000000001},\n",
       "  {'alpha': 0.14000000000000001},\n",
       "  {'alpha': 0.16000000000000003},\n",
       "  {'alpha': 0.18000000000000002},\n",
       "  {'alpha': 0.20000000000000001},\n",
       "  {'alpha': 0.22000000000000003},\n",
       "  {'alpha': 0.24000000000000002},\n",
       "  {'alpha': 0.26000000000000001},\n",
       "  {'alpha': 0.28000000000000003},\n",
       "  {'alpha': 0.30000000000000004},\n",
       "  {'alpha': 0.32000000000000006},\n",
       "  {'alpha': 0.34000000000000008},\n",
       "  {'alpha': 0.3600000000000001},\n",
       "  {'alpha': 0.38},\n",
       "  {'alpha': 0.40000000000000002},\n",
       "  {'alpha': 0.42000000000000004},\n",
       "  {'alpha': 0.44000000000000006},\n",
       "  {'alpha': 0.46000000000000008},\n",
       "  {'alpha': 0.48000000000000009},\n",
       "  {'alpha': 0.50000000000000011},\n",
       "  {'alpha': 0.52000000000000013},\n",
       "  {'alpha': 0.54000000000000004},\n",
       "  {'alpha': 0.56000000000000005},\n",
       "  {'alpha': 0.58000000000000007},\n",
       "  {'alpha': 0.60000000000000009},\n",
       "  {'alpha': 0.62000000000000011},\n",
       "  {'alpha': 0.64000000000000012},\n",
       "  {'alpha': 0.66000000000000003},\n",
       "  {'alpha': 0.68000000000000005},\n",
       "  {'alpha': 0.70000000000000007},\n",
       "  {'alpha': 0.72000000000000008},\n",
       "  {'alpha': 0.7400000000000001},\n",
       "  {'alpha': 0.76000000000000012},\n",
       "  {'alpha': 0.78000000000000014},\n",
       "  {'alpha': 0.80000000000000016},\n",
       "  {'alpha': 0.82000000000000017},\n",
       "  {'alpha': 0.84000000000000008},\n",
       "  {'alpha': 0.8600000000000001},\n",
       "  {'alpha': 0.88000000000000012},\n",
       "  {'alpha': 0.90000000000000013},\n",
       "  {'alpha': 0.92000000000000015},\n",
       "  {'alpha': 0.94000000000000017},\n",
       "  {'alpha': 0.96000000000000019},\n",
       "  {'alpha': 0.98000000000000009}),\n",
       " 'rank_test_score': array([45, 44, 43, 42, 41, 40, 39, 38, 37, 36, 35, 34, 33, 32, 31, 30, 29,\n",
       "        28, 27, 26, 25, 24, 23, 22, 21, 20, 19, 18, 17, 16, 15, 14, 13, 12,\n",
       "        11, 10,  9,  8,  7,  6,  5,  4,  3,  2,  1], dtype=int32),\n",
       " 'split0_test_score': array([ 0.25172855,  0.25173244,  0.25173683,  0.25174072,  0.25174461,\n",
       "         0.2517485 ,  0.25175239,  0.25175627,  0.25176016,  0.25176404,\n",
       "         0.25176792,  0.2517718 ,  0.25177568,  0.25178035,  0.25178423,\n",
       "         0.2517881 ,  0.25179198,  0.25179585,  0.25179973,  0.2518036 ,\n",
       "         0.25180747,  0.25181134,  0.25181521,  0.25181907,  0.25182294,\n",
       "         0.2518268 ,  0.25183067,  0.25183453,  0.25183839,  0.25184225,\n",
       "         0.25184611,  0.25184997,  0.25185382,  0.25185768,  0.25186153,\n",
       "         0.25186539,  0.25186924,  0.25187309,  0.25187694,  0.25188079,\n",
       "         0.25188463,  0.25188848,  0.25189341,  0.25189726,  0.2519011 ]),\n",
       " 'split0_train_score': array([ 0.35753214,  0.35753213,  0.35753213,  0.35753212,  0.35753211,\n",
       "         0.3575321 ,  0.35753208,  0.35753207,  0.35753206,  0.35753204,\n",
       "         0.35753203,  0.35753201,  0.35753199,  0.35753197,  0.35753195,\n",
       "         0.35753192,  0.3575319 ,  0.35753188,  0.35753185,  0.35753182,\n",
       "         0.35753179,  0.35753177,  0.35753174,  0.3575317 ,  0.35753167,\n",
       "         0.35753164,  0.3575316 ,  0.35753157,  0.35753153,  0.35753149,\n",
       "         0.35753145,  0.35753141,  0.35753137,  0.35753133,  0.35753128,\n",
       "         0.35753124,  0.35753119,  0.35753114,  0.35753109,  0.35753104,\n",
       "         0.35753099,  0.35753094,  0.35753088,  0.35753083,  0.35753077]),\n",
       " 'split1_test_score': array([ 0.04645906,  0.04653951,  0.04661994,  0.04670119,  0.0467816 ,\n",
       "         0.04686199,  0.04694237,  0.04702273,  0.04710309,  0.04718343,\n",
       "         0.04726536,  0.04734568,  0.04742598,  0.04750627,  0.04758654,\n",
       "         0.04766681,  0.04774706,  0.04782729,  0.04790752,  0.04798773,\n",
       "         0.04806793,  0.04814811,  0.04822829,  0.04831154,  0.04839169,\n",
       "         0.04847182,  0.04855194,  0.04863205,  0.04871215,  0.04879223,\n",
       "         0.0488723 ,  0.04895235,  0.0490324 ,  0.04911243,  0.04919245,\n",
       "         0.04927245,  0.04935245,  0.04943243,  0.04951239,  0.04959235,\n",
       "         0.04967229,  0.04975222,  0.04983213,  0.04991203,  0.04999192]),\n",
       " 'split1_train_score': array([ 0.36346688,  0.36346687,  0.36346685,  0.36346683,  0.36346682,\n",
       "         0.3634668 ,  0.36346677,  0.36346675,  0.36346672,  0.36346669,\n",
       "         0.36346666,  0.36346662,  0.36346659,  0.36346655,  0.36346651,\n",
       "         0.36346647,  0.36346642,  0.36346637,  0.36346633,  0.36346627,\n",
       "         0.36346622,  0.36346616,  0.36346611,  0.36346604,  0.36346598,\n",
       "         0.36346592,  0.36346585,  0.36346578,  0.36346571,  0.36346564,\n",
       "         0.36346556,  0.36346548,  0.3634654 ,  0.36346532,  0.36346524,\n",
       "         0.36346515,  0.36346506,  0.36346497,  0.36346488,  0.36346478,\n",
       "         0.36346469,  0.36346459,  0.36346449,  0.36346438,  0.36346428]),\n",
       " 'split2_test_score': array([ 0.26591702,  0.26593098,  0.26594493,  0.26595897,  0.26597292,\n",
       "         0.26598687,  0.26600082,  0.26601476,  0.26602871,  0.26604265,\n",
       "         0.2660566 ,  0.26607054,  0.26608447,  0.26609797,  0.26611191,\n",
       "         0.26612584,  0.26613977,  0.2661537 ,  0.26616763,  0.26618156,\n",
       "         0.26619549,  0.26620942,  0.26622334,  0.26623726,  0.26625118,\n",
       "         0.2662651 ,  0.26627902,  0.26629294,  0.26630685,  0.26632077,\n",
       "         0.26633468,  0.26634859,  0.2663625 ,  0.2663764 ,  0.26639031,\n",
       "         0.26640422,  0.26641812,  0.26643202,  0.26644592,  0.26645982,\n",
       "         0.26647372,  0.26648761,  0.26650151,  0.2665154 ,  0.26652729]),\n",
       " 'split2_train_score': array([ 0.34977295,  0.34977294,  0.34977293,  0.34977292,  0.34977291,\n",
       "         0.3497729 ,  0.34977289,  0.34977288,  0.34977286,  0.34977285,\n",
       "         0.34977283,  0.34977281,  0.34977279,  0.34977277,  0.34977275,\n",
       "         0.34977273,  0.3497727 ,  0.34977268,  0.34977265,  0.34977262,\n",
       "         0.34977259,  0.34977257,  0.34977253,  0.3497725 ,  0.34977247,\n",
       "         0.34977243,  0.3497724 ,  0.34977236,  0.34977232,  0.34977228,\n",
       "         0.34977224,  0.3497722 ,  0.34977216,  0.34977212,  0.34977207,\n",
       "         0.34977203,  0.34977198,  0.34977193,  0.34977188,  0.34977183,\n",
       "         0.34977178,  0.34977172,  0.34977167,  0.34977161,  0.34977155]),\n",
       " 'split3_test_score': array([ 0.55723704,  0.55723825,  0.55723893,  0.5572396 ,  0.55724028,\n",
       "         0.55724095,  0.55724162,  0.55724228,  0.55724478,  0.55724544,\n",
       "         0.5572461 ,  0.55724676,  0.55724742,  0.55724807,  0.55724872,\n",
       "         0.55724937,  0.55725002,  0.55725067,  0.55725131,  0.55725195,\n",
       "         0.55725259,  0.55725323,  0.55725386,  0.5572545 ,  0.55725513,\n",
       "         0.55725575,  0.55725638,  0.55725701,  0.55725763,  0.55725825,\n",
       "         0.55725886,  0.55726439,  0.557265  ,  0.55726561,  0.55726622,\n",
       "         0.55726682,  0.55726743,  0.55726803,  0.55726863,  0.55726923,\n",
       "         0.55726982,  0.55727042,  0.55727101,  0.5572716 ,  0.55727219]),\n",
       " 'split3_train_score': array([ 0.30164966,  0.30164965,  0.30164965,  0.30164964,  0.30164963,\n",
       "         0.30164961,  0.3016496 ,  0.30164958,  0.30164957,  0.30164955,\n",
       "         0.30164953,  0.30164951,  0.30164949,  0.30164947,  0.30164945,\n",
       "         0.30164942,  0.30164939,  0.30164937,  0.30164934,  0.30164931,\n",
       "         0.30164928,  0.30164924,  0.30164921,  0.30164917,  0.30164914,\n",
       "         0.3016491 ,  0.30164906,  0.30164902,  0.30164898,  0.30164894,\n",
       "         0.30164889,  0.30164884,  0.3016488 ,  0.30164875,  0.3016487 ,\n",
       "         0.30164865,  0.30164859,  0.30164854,  0.30164849,  0.30164843,\n",
       "         0.30164837,  0.30164832,  0.30164826,  0.3016482 ,  0.30164813]),\n",
       " 'split4_test_score': array([ 0.0669263 ,  0.06692784,  0.06692939,  0.06693093,  0.06693201,\n",
       "         0.06693356,  0.0669351 ,  0.06693664,  0.06693819,  0.06693973,\n",
       "         0.06694127,  0.06694282,  0.06694436,  0.0669459 ,  0.06694744,\n",
       "         0.06694899,  0.06695053,  0.06695207,  0.06695227,  0.06695382,\n",
       "         0.06695536,  0.0669569 ,  0.06695844,  0.06695998,  0.06696152,\n",
       "         0.06696306,  0.0669646 ,  0.06696614,  0.06696768,  0.06696921,\n",
       "         0.06697075,  0.06697229,  0.06697383,  0.06697537,  0.06697691,\n",
       "         0.06697844,  0.06697998,  0.06698152,  0.06698305,  0.06698459,\n",
       "         0.06698613,  0.06698766,  0.0669892 ,  0.06699073,  0.06699227]),\n",
       " 'split4_train_score': array([ 0.40707218,  0.40707218,  0.40707217,  0.40707217,  0.40707216,\n",
       "         0.40707216,  0.40707215,  0.40707214,  0.40707213,  0.40707213,\n",
       "         0.40707212,  0.40707211,  0.4070721 ,  0.40707208,  0.40707207,\n",
       "         0.40707206,  0.40707205,  0.40707203,  0.40707202,  0.407072  ,\n",
       "         0.40707199,  0.40707197,  0.40707195,  0.40707193,  0.40707191,\n",
       "         0.4070719 ,  0.40707188,  0.40707186,  0.40707183,  0.40707181,\n",
       "         0.40707179,  0.40707177,  0.40707174,  0.40707172,  0.40707169,\n",
       "         0.40707167,  0.40707164,  0.40707161,  0.40707159,  0.40707156,\n",
       "         0.40707153,  0.4070715 ,  0.40707147,  0.40707144,  0.40707141]),\n",
       " 'std_fit_time': array([  1.81147656e-03,   1.19806567e-04,   3.29145462e-05,\n",
       "          4.25428544e-06,   2.45929410e-04,   1.85356264e-04,\n",
       "          4.61921092e-05,   7.92615529e-05,   3.01578299e-05,\n",
       "          3.68673747e-04,   1.10573016e-04,   3.93818161e-04,\n",
       "          9.31997225e-05,   8.14823321e-05,   3.82818579e-05,\n",
       "          6.34966644e-05,   6.16433733e-04,   1.47591430e-04,\n",
       "          4.24209919e-03,   8.84815515e-05,   7.28792833e-05,\n",
       "          2.82677296e-04,   1.56944386e-04,   3.56740984e-04,\n",
       "          3.19523595e-05,   3.12446419e-04,   2.44703426e-05,\n",
       "          1.82975037e-05,   4.70180298e-05,   5.39254971e-05,\n",
       "          2.16120360e-05,   1.23573525e-05,   3.51773989e-05,\n",
       "          2.44769389e-05,   8.85603044e-05,   7.21233502e-05,\n",
       "          1.56299263e-04,   4.46994080e-05,   8.11259076e-05,\n",
       "          2.77990256e-04,   1.40164172e-05,   4.09723837e-05,\n",
       "          2.07520057e-06,   6.51516623e-05,   2.91155847e-05]),\n",
       " 'std_score_time': array([  1.03594128e-03,   5.94515551e-05,   5.78409566e-06,\n",
       "          7.15795949e-06,   1.83442917e-05,   3.95770820e-05,\n",
       "          7.60013214e-06,   3.58867487e-04,   1.03359951e-04,\n",
       "          5.39630526e-05,   5.38277136e-05,   1.25369186e-04,\n",
       "          2.01948277e-05,   5.52797217e-05,   4.25245185e-05,\n",
       "          1.02753705e-05,   4.79357733e-06,   3.36334175e-05,\n",
       "          1.27883068e-05,   8.63959981e-05,   4.67964110e-05,\n",
       "          1.47040607e-04,   1.86262140e-05,   4.71416659e-05,\n",
       "          1.40706558e-05,   1.92524147e-05,   7.81722131e-06,\n",
       "          3.21306167e-05,   1.01208617e-05,   1.69278870e-04,\n",
       "          2.54411281e-05,   3.12481289e-04,   1.00072205e-05,\n",
       "          7.72917586e-06,   4.68402167e-05,   7.38158706e-06,\n",
       "          1.16821892e-04,   4.97780082e-05,   3.10839314e-05,\n",
       "          5.17853935e-05,   4.77854121e-05,   7.31986818e-05,\n",
       "          1.49729905e-06,   6.52678426e-05,   2.15452315e-05]),\n",
       " 'std_test_score': array([ 0.18348775,  0.18347151,  0.1834551 ,  0.18343852,  0.1834222 ,\n",
       "         0.1834058 ,  0.1833894 ,  0.18337301,  0.18335726,  0.18334088,\n",
       "         0.18332417,  0.1833078 ,  0.18329144,  0.18327508,  0.18325873,\n",
       "         0.18324238,  0.18322604,  0.18320971,  0.18319363,  0.1831773 ,\n",
       "         0.18316098,  0.18314467,  0.18312837,  0.18311142,  0.18309512,\n",
       "         0.18307883,  0.18306255,  0.18304627,  0.18303   ,  0.18301373,\n",
       "         0.18299747,  0.18298291,  0.18296666,  0.18295042,  0.18293418,\n",
       "         0.18291794,  0.18290171,  0.18288549,  0.18286927,  0.18285306,\n",
       "         0.18283685,  0.18282065,  0.18280447,  0.18278828,  0.18277203]),\n",
       " 'std_train_score': array([ 0.03364269,  0.03364269,  0.03364269,  0.0336427 ,  0.0336427 ,\n",
       "         0.0336427 ,  0.0336427 ,  0.0336427 ,  0.0336427 ,  0.03364271,\n",
       "         0.03364271,  0.03364271,  0.03364271,  0.03364271,  0.03364272,\n",
       "         0.03364272,  0.03364272,  0.03364273,  0.03364273,  0.03364273,\n",
       "         0.03364274,  0.03364274,  0.03364274,  0.03364275,  0.03364275,\n",
       "         0.03364276,  0.03364276,  0.03364277,  0.03364277,  0.03364278,\n",
       "         0.03364278,  0.03364279,  0.03364279,  0.0336428 ,  0.0336428 ,\n",
       "         0.03364281,  0.03364282,  0.03364282,  0.03364283,  0.03364284,\n",
       "         0.03364284,  0.03364285,  0.03364286,  0.03364286,  0.03364287])}"
      ]
     },
     "execution_count": 33,
     "metadata": {},
     "output_type": "execute_result"
    }
   ],
   "source": [
    "# New object \n",
    "lasso_grid.cv_results_"
   ]
  },
  {
   "cell_type": "markdown",
   "metadata": {},
   "source": [
    "# TODO:  PLOT estimated parameters"
   ]
  },
  {
   "cell_type": "markdown",
   "metadata": {},
   "source": [
    "#### I would recommend $alpha = 0.95$"
   ]
  },
  {
   "cell_type": "markdown",
   "metadata": {},
   "source": [
    "## 2)"
   ]
  },
  {
   "cell_type": "code",
   "execution_count": 34,
   "metadata": {
    "collapsed": false
   },
   "outputs": [
    {
     "data": {
      "text/html": [
       "<div>\n",
       "<table border=\"1\" class=\"dataframe\">\n",
       "  <thead>\n",
       "    <tr style=\"text-align: right;\">\n",
       "      <th></th>\n",
       "      <th>sales</th>\n",
       "      <th>profits</th>\n",
       "    </tr>\n",
       "  </thead>\n",
       "  <tbody>\n",
       "    <tr>\n",
       "      <th>0</th>\n",
       "      <td>161315.0</td>\n",
       "      <td>2956.0</td>\n",
       "    </tr>\n",
       "    <tr>\n",
       "      <th>1</th>\n",
       "      <td>144416.0</td>\n",
       "      <td>22071.0</td>\n",
       "    </tr>\n",
       "    <tr>\n",
       "      <th>2</th>\n",
       "      <td>139208.0</td>\n",
       "      <td>4430.0</td>\n",
       "    </tr>\n",
       "    <tr>\n",
       "      <th>3</th>\n",
       "      <td>100697.0</td>\n",
       "      <td>6370.0</td>\n",
       "    </tr>\n",
       "    <tr>\n",
       "      <th>4</th>\n",
       "      <td>100469.0</td>\n",
       "      <td>9296.0</td>\n",
       "    </tr>\n",
       "  </tbody>\n",
       "</table>\n",
       "</div>"
      ],
      "text/plain": [
       "      sales  profits\n",
       "0  161315.0   2956.0\n",
       "1  144416.0  22071.0\n",
       "2  139208.0   4430.0\n",
       "3  100697.0   6370.0\n",
       "4  100469.0   9296.0"
      ]
     },
     "execution_count": 34,
     "metadata": {},
     "output_type": "execute_result"
    }
   ],
   "source": [
    "df_sales_profits = df[['sales', 'profits']]\n",
    "df_sales_profits.head()"
   ]
  },
  {
   "cell_type": "code",
   "execution_count": 35,
   "metadata": {
    "collapsed": false
   },
   "outputs": [],
   "source": [
    "log_df_sales_profits = df_sales_profits.apply(np.log)\n",
    "log_df_sales_profits = log_df_sales_profits[~pd.isnull(log_df_sales_profits)]\n",
    "log_df_sales_profits = log_df_sales_profits[\n",
    "    (log_df_sales_profits['sales'] > 0) & \n",
    "    (log_df_sales_profits['profits'] > 0)\n",
    "]"
   ]
  },
  {
   "cell_type": "code",
   "execution_count": 36,
   "metadata": {
    "collapsed": false
   },
   "outputs": [
    {
     "data": {
      "text/plain": [
       "<matplotlib.text.Text at 0x10fd4f080>"
      ]
     },
     "execution_count": 36,
     "metadata": {},
     "output_type": "execute_result"
    },
    {
     "data": {
      "image/png": "[encoded data removed]",
      "text/plain": [
       "<matplotlib.figure.Figure at 0x10fd1c780>"
      ]
     },
     "metadata": {},
     "output_type": "display_data"
    }
   ],
   "source": [
    "plt.plot(log_df_sales_profits['sales'], log_df_sales_profits['profits'], '.')\n",
    "plt.xlabel('Sales')\n",
    "plt.ylabel('Profits')"
   ]
  },
  {
   "cell_type": "markdown",
   "metadata": {},
   "source": [
    "### a."
   ]
  },
  {
   "cell_type": "code",
   "execution_count": 37,
   "metadata": {
    "collapsed": true
   },
   "outputs": [],
   "source": [
    "from sklearn.linear_model import LinearRegression"
   ]
  },
  {
   "cell_type": "code",
   "execution_count": 38,
   "metadata": {
    "collapsed": false
   },
   "outputs": [],
   "source": [
    "linear_regression = LinearRegression()"
   ]
  },
  {
   "cell_type": "code",
   "execution_count": 39,
   "metadata": {
    "collapsed": false
   },
   "outputs": [],
   "source": [
    "X = log_df_sales_profits['sales'].as_matrix().reshape(-1, 1)\n",
    "y = log_df_sales_profits['profits']"
   ]
  },
  {
   "cell_type": "code",
   "execution_count": 40,
   "metadata": {
    "collapsed": false
   },
   "outputs": [],
   "source": [
    "regressor = linear_regression.fit(X, y)"
   ]
  },
  {
   "cell_type": "code",
   "execution_count": 41,
   "metadata": {
    "collapsed": false
   },
   "outputs": [
    {
     "data": {
      "text/plain": [
       "array([ 1.01099621])"
      ]
     },
     "execution_count": 41,
     "metadata": {},
     "output_type": "execute_result"
    }
   ],
   "source": [
    "regressor.coef_"
   ]
  },
  {
   "cell_type": "markdown",
   "metadata": {},
   "source": [
    "<b>PLOT "
   ]
  },
  {
   "cell_type": "code",
   "execution_count": 42,
   "metadata": {
    "collapsed": false
   },
   "outputs": [
    {
     "data": {
      "text/plain": [
       "[<matplotlib.lines.Line2D at 0x10fe95240>,\n",
       " <matplotlib.lines.Line2D at 0x10fe95358>]"
      ]
     },
     "execution_count": 42,
     "metadata": {},
     "output_type": "execute_result"
    },
    {
     "data": {
      "image/png": "[encoded data removed]",
      "text/plain": [
       "<matplotlib.figure.Figure at 0x10fcdfeb8>"
      ]
     },
     "metadata": {},
     "output_type": "display_data"
    }
   ],
   "source": [
    "plt.plot(\n",
    "    X, y, '.',\n",
    "    X, regressor.predict(X), '-'\n",
    ")"
   ]
  },
  {
   "cell_type": "markdown",
   "metadata": {},
   "source": [
    "### b."
   ]
  },
  {
   "cell_type": "code",
   "execution_count": 43,
   "metadata": {
    "collapsed": true
   },
   "outputs": [],
   "source": [
    "from scipy.optimize import curve_fit"
   ]
  },
  {
   "cell_type": "code",
   "execution_count": 44,
   "metadata": {
    "collapsed": true
   },
   "outputs": [],
   "source": [
    "from scipy import log as log\n",
    "def func(x, a, b, c):\n",
    "    return a * np.log(b * x) + c"
   ]
  },
  {
   "cell_type": "code",
   "execution_count": 45,
   "metadata": {
    "collapsed": false
   },
   "outputs": [
    {
     "name": "stderr",
     "output_type": "stream",
     "text": [
      "/Users/costefan/.pyenv/versions/anaconda3-4.3.0/lib/python3.6/site-packages/ipykernel/__main__.py:3: RuntimeWarning: invalid value encountered in log\n",
      "  app.launch_new_instance()\n"
     ]
    }
   ],
   "source": [
    "popt, pcov = curve_fit(func, X.ravel(), y.ravel())"
   ]
  },
  {
   "cell_type": "code",
   "execution_count": 46,
   "metadata": {
    "collapsed": false
   },
   "outputs": [
    {
     "data": {
      "text/plain": [
       "array([ 9.36610037,  0.33681642, -4.37448585])"
      ]
     },
     "execution_count": 46,
     "metadata": {},
     "output_type": "execute_result"
    }
   ],
   "source": [
    "popt"
   ]
  },
  {
   "cell_type": "code",
   "execution_count": 47,
   "metadata": {
    "collapsed": false
   },
   "outputs": [
    {
     "data": {
      "text/plain": [
       "[<matplotlib.lines.Line2D at 0x10ff7a320>,\n",
       " <matplotlib.lines.Line2D at 0x10ff7a438>,\n",
       " <matplotlib.lines.Line2D at 0x10ff7ada0>]"
      ]
     },
     "execution_count": 47,
     "metadata": {},
     "output_type": "execute_result"
    },
    {
     "data": {
      "image/png": "[encoded data removed]",
      "text/plain": [
       "<matplotlib.figure.Figure at 0x10fd8c0b8>"
      ]
     },
     "metadata": {},
     "output_type": "display_data"
    }
   ],
   "source": [
    "plt.figure(figsize=(10, 15))\n",
    "plt.plot(\n",
    "    X, y, '.',\n",
    "    X, regressor.predict(X), '-',\n",
    "    X, func(X, *popt)\n",
    ")\n"
   ]
  },
  {
   "cell_type": "markdown",
   "metadata": {},
   "source": [
    "## c."
   ]
  },
  {
   "cell_type": "markdown",
   "metadata": {},
   "source": [
    "Linear approximation has shifted statistics and we should carefuly interpret non linear statistics."
   ]
  },
  {
   "cell_type": "markdown",
   "metadata": {},
   "source": [
    "## 3)"
   ]
  },
  {
   "cell_type": "markdown",
   "metadata": {},
   "source": [
    "## a."
   ]
  },
  {
   "cell_type": "markdown",
   "metadata": {},
   "source": [
    "If bandwidth too small, our model will overfit, our Kernel function will be decreasing slowly, and model will overfit, cause we will assign smaller (than it would be to bigger bandwidth) weights to objects that has bigger distance, and bigger (than it would be to bigger bandwidth) to closer."
   ]
  },
  {
   "cell_type": "markdown",
   "metadata": {},
   "source": [
    "If bandwidth too big, we will not get needed approximation in our line, cause Kernel function will be decreasing faster, so we will asign weights smaller (than it would be to smaller bandwidth) and closer objects would be not so valuable for the model. "
   ]
  },
  {
   "cell_type": "markdown",
   "metadata": {},
   "source": [
    "## b."
   ]
  },
  {
   "cell_type": "code",
   "execution_count": 48,
   "metadata": {
    "collapsed": true
   },
   "outputs": [],
   "source": [
    "from statsmodels.nonparametric.kernel_regression import KernelReg"
   ]
  },
  {
   "cell_type": "code",
   "execution_count": 49,
   "metadata": {
    "collapsed": false
   },
   "outputs": [],
   "source": [
    "# Cross validation runs by default\n",
    "model = KernelReg(\n",
    "    endog=y, exog=X, var_type='c', reg_type='lc'\n",
    ")"
   ]
  },
  {
   "cell_type": "code",
   "execution_count": 50,
   "metadata": {
    "collapsed": false
   },
   "outputs": [
    {
     "name": "stdout",
     "output_type": "stream",
     "text": [
      "cv_ls\n",
      "{'cv_ls': <bound method KernelReg.cv_loo of KernelReg instance\n",
      "Number of variables: k_vars = 1\n",
      "Number of samples:   N = 388\n",
      "Variable types:      c\n",
      "BW selection method: cv_ls\n",
      "Estimator type: lc\n",
      ">, 'aic': <bound method KernelReg.aic_hurvich of KernelReg instance\n",
      "Number of variables: k_vars = 1\n",
      "Number of samples:   N = 388\n",
      "Variable types:      c\n",
      "BW selection method: cv_ls\n",
      "Estimator type: lc\n",
      ">}\n"
     ]
    }
   ],
   "source": [
    "print(model._bw_method)\n",
    "print(model.bw_func)"
   ]
  },
  {
   "cell_type": "code",
   "execution_count": 51,
   "metadata": {
    "collapsed": false
   },
   "outputs": [
    {
     "data": {
      "text/plain": [
       "array([ 0.23747466])"
      ]
     },
     "execution_count": 51,
     "metadata": {},
     "output_type": "execute_result"
    }
   ],
   "source": [
    "model.bw"
   ]
  },
  {
   "cell_type": "code",
   "execution_count": 52,
   "metadata": {
    "collapsed": false
   },
   "outputs": [],
   "source": [
    "means, mfx = model.fit()"
   ]
  },
  {
   "cell_type": "markdown",
   "metadata": {},
   "source": [
    "### Optimal bandwidth is calculated by least-squares cross-validation"
   ]
  },
  {
   "cell_type": "code",
   "execution_count": 53,
   "metadata": {
    "collapsed": false
   },
   "outputs": [
    {
     "data": {
      "image/png": "[encoded data removed]",
      "text/plain": [
       "<matplotlib.figure.Figure at 0x110100cf8>"
      ]
     },
     "metadata": {},
     "output_type": "display_data"
    }
   ],
   "source": [
    "fig = plt.figure()\n",
    "ax = fig.add_subplot(1,1,1)\n",
    "ax.plot(X, y, 'o', alpha=0.5)\n",
    "ax.plot(X, means, lw=2, label='kernel mean')\n",
    "ax.legend()\n",
    "\n",
    "plt.show()"
   ]
  },
  {
   "cell_type": "markdown",
   "metadata": {},
   "source": [
    "## c."
   ]
  },
  {
   "cell_type": "code",
   "execution_count": 54,
   "metadata": {
    "collapsed": false
   },
   "outputs": [
    {
     "data": {
      "image/png": "[encoded data removed]",
      "text/plain": [
       "<matplotlib.figure.Figure at 0x10fe44e80>"
      ]
     },
     "metadata": {},
     "output_type": "display_data"
    }
   ],
   "source": [
    "fig = plt.figure()\n",
    "ax = fig.add_subplot(1,1,1)\n",
    "ax.plot(X, y, 'o', alpha=0.5)\n",
    "ax.plot(X, means, lw=2, label='kernel mean')\n",
    "ax.plot(X, func(X, *popt), '-r', lw=2, label='non linear')\n",
    "ax.legend()\n",
    "\n",
    "plt.show()"
   ]
  },
  {
   "cell_type": "markdown",
   "metadata": {
    "collapsed": true
   },
   "source": [
    "## 4."
   ]
  },
  {
   "cell_type": "markdown",
   "metadata": {},
   "source": [
    "### a."
   ]
  },
  {
   "cell_type": "markdown",
   "metadata": {},
   "source": [
    "### Salary binarization"
   ]
  },
  {
   "cell_type": "code",
   "execution_count": 55,
   "metadata": {
    "collapsed": false
   },
   "outputs": [],
   "source": [
    "y_binary = df['salary'].apply(lambda x: 1 if x >= 2000 else 0)"
   ]
  },
  {
   "cell_type": "code",
   "execution_count": 56,
   "metadata": {
    "collapsed": false
   },
   "outputs": [
    {
     "name": "stdout",
     "output_type": "stream",
     "text": [
      "Pretty printing has been turned OFF\n",
      "[(1, 3030),\n",
      " (1, 6050),\n",
      " (1, 3571),\n",
      " (1, 3300),\n",
      " (1, 10000),\n",
      " (1, 9375),\n",
      " (1, 9525),\n",
      " (1, 5000),\n",
      " (0, 999),\n",
      " (1, 3300),\n",
      " (1, 3500),\n",
      " (1, 2493),\n",
      " (0, 1911),\n",
      " (1, 2130),\n",
      " (0, 1185),\n",
      " (1, 5236),\n",
      " (0, 1990),\n",
      " (1, 6000),\n",
      " (1, 6229),\n",
      " (0, 1523)]\n"
     ]
    }
   ],
   "source": [
    "from pprint import pprint\n",
    "%pprint on\n",
    "\n",
    "pprint(list(zip(y_binary, df['salary']))[0:20])"
   ]
  },
  {
   "cell_type": "code",
   "execution_count": 57,
   "metadata": {
    "collapsed": true
   },
   "outputs": [],
   "source": [
    "from sklearn.linear_model import LogisticRegression\n",
    "from sklearn.feature_selection import RFE"
   ]
  },
  {
   "cell_type": "markdown",
   "metadata": {},
   "source": [
    "### Logistic regression"
   ]
  },
  {
   "cell_type": "code",
   "execution_count": 58,
   "metadata": {
    "collapsed": true
   },
   "outputs": [],
   "source": [
    "logistic_regr = LogisticRegression()"
   ]
  },
  {
   "cell_type": "code",
   "execution_count": 59,
   "metadata": {
    "collapsed": true
   },
   "outputs": [],
   "source": [
    "X = df[['totcomp', 'tenure', 'age', 'sales', 'profits', 'assets']]"
   ]
  },
  {
   "cell_type": "code",
   "execution_count": 60,
   "metadata": {
    "collapsed": false
   },
   "outputs": [],
   "source": [
    "X_train, X_test, y_train, y_test = train_test_split(X, y_binary)"
   ]
  },
  {
   "cell_type": "code",
   "execution_count": 61,
   "metadata": {
    "collapsed": false
   },
   "outputs": [
    {
     "data": {
      "text/plain": [
       "LogisticRegression(C=1.0, class_weight=None, dual=False, fit_intercept=True,\n",
       "          intercept_scaling=1, max_iter=100, multi_class='ovr', n_jobs=1,\n",
       "          penalty='l2', random_state=None, solver='liblinear', tol=0.0001,\n",
       "          verbose=0, warm_start=False)"
      ]
     },
     "execution_count": 61,
     "metadata": {},
     "output_type": "execute_result"
    }
   ],
   "source": [
    "logistic_regr.fit(X_train, y_train)"
   ]
  },
  {
   "cell_type": "code",
   "execution_count": 62,
   "metadata": {
    "collapsed": false
   },
   "outputs": [],
   "source": [
    "y_pred = logistic_regr.predict(X_test)"
   ]
  },
  {
   "cell_type": "code",
   "execution_count": 63,
   "metadata": {
    "collapsed": true
   },
   "outputs": [],
   "source": [
    "from sklearn.metrics import precision_recall_fscore_support, classification_report"
   ]
  },
  {
   "cell_type": "code",
   "execution_count": 64,
   "metadata": {
    "collapsed": false
   },
   "outputs": [
    {
     "name": "stdout",
     "output_type": "stream",
     "text": [
      "             precision    recall  f1-score   support\n",
      "\n",
      "          0       0.83      0.88      0.86        77\n",
      "          1       0.70      0.60      0.65        35\n",
      "\n",
      "avg / total       0.79      0.79      0.79       112\n",
      "\n"
     ]
    }
   ],
   "source": [
    "print(classification_report(y_test, y_pred))"
   ]
  },
  {
   "cell_type": "markdown",
   "metadata": {},
   "source": [
    "### Features selection"
   ]
  },
  {
   "cell_type": "code",
   "execution_count": 65,
   "metadata": {
    "collapsed": true
   },
   "outputs": [],
   "source": [
    "rfe = RFE(estimator=logistic_regr)"
   ]
  },
  {
   "cell_type": "code",
   "execution_count": 66,
   "metadata": {
    "collapsed": false
   },
   "outputs": [],
   "source": [
    "fit = rfe.fit(X_train, y_train)"
   ]
  },
  {
   "cell_type": "code",
   "execution_count": 67,
   "metadata": {
    "collapsed": false
   },
   "outputs": [
    {
     "name": "stdout",
     "output_type": "stream",
     "text": [
      "Num Features: 3\n",
      "Selected Features: [False  True  True False  True False]\n",
      "Feature Ranking: [2 1 1 3 1 4]\n"
     ]
    }
   ],
   "source": [
    "print(\"Num Features: {}\".format(fit.n_features_))\n",
    "print(\"Selected Features: {}\".format(fit.support_))\n",
    "print(\"Feature Ranking: {}\".format(fit.ranking_))"
   ]
  },
  {
   "cell_type": "code",
   "execution_count": 115,
   "metadata": {
    "collapsed": false
   },
   "outputs": [],
   "source": [
    "y_pred = fit.predict(X_test)"
   ]
  },
  {
   "cell_type": "code",
   "execution_count": 116,
   "metadata": {
    "collapsed": false
   },
   "outputs": [
    {
     "name": "stdout",
     "output_type": "stream",
     "text": [
      "             precision    recall  f1-score   support\n",
      "\n",
      "          0       0.77      0.90      0.83        77\n",
      "          1       0.64      0.40      0.49        35\n",
      "\n",
      "avg / total       0.73      0.74      0.72       112\n",
      "\n"
     ]
    }
   ],
   "source": [
    "print(classification_report(y_test, y_pred))"
   ]
  },
  {
   "cell_type": "markdown",
   "metadata": {},
   "source": [
    "### b."
   ]
  },
  {
   "cell_type": "markdown",
   "metadata": {},
   "source": [
    "## Add !!!!!!"
   ]
  },
  {
   "cell_type": "markdown",
   "metadata": {},
   "source": [
    "### c."
   ]
  },
  {
   "cell_type": "code",
   "execution_count": 117,
   "metadata": {
    "collapsed": true
   },
   "outputs": [],
   "source": [
    "import random\n",
    "N_CEOS = 5\n",
    "\n",
    "\n",
    "df_cols_numbers = random.sample(range(0, X.shape[0]), N_CEOS)"
   ]
  },
  {
   "cell_type": "code",
   "execution_count": 118,
   "metadata": {
    "collapsed": false
   },
   "outputs": [
    {
     "data": {
      "text/plain": [
       "[120, 195, 132, 431, 210]"
      ]
     },
     "execution_count": 118,
     "metadata": {},
     "output_type": "execute_result"
    }
   ],
   "source": [
    "df_cols_numbers"
   ]
  },
  {
   "cell_type": "code",
   "execution_count": 119,
   "metadata": {
    "collapsed": false
   },
   "outputs": [],
   "source": [
    "df_selected_five = X.iloc[df_cols_numbers]"
   ]
  },
  {
   "cell_type": "code",
   "execution_count": 120,
   "metadata": {
    "collapsed": false
   },
   "outputs": [
    {
     "data": {
      "text/plain": [
       "array([[ 0.55398995,  0.44601005],\n",
       "       [ 0.67663167,  0.32336833],\n",
       "       [ 0.64516717,  0.35483283],\n",
       "       [ 0.79711798,  0.20288202],\n",
       "       [ 0.42670165,  0.57329835]])"
      ]
     },
     "execution_count": 120,
     "metadata": {},
     "output_type": "execute_result"
    }
   ],
   "source": [
    "a = rfe.predict_proba(df_selected_five)\n",
    "a"
   ]
  },
  {
   "cell_type": "code",
   "execution_count": 121,
   "metadata": {
    "collapsed": false
   },
   "outputs": [],
   "source": [
    "coefs = rfe.estimator_.coef_\n",
    "intercept = rfe.estimator_.intercept_"
   ]
  },
  {
   "cell_type": "markdown",
   "metadata": {},
   "source": [
    "### Probabilities"
   ]
  },
  {
   "cell_type": "code",
   "execution_count": 122,
   "metadata": {
    "collapsed": false
   },
   "outputs": [
    {
     "data": {
      "text/plain": [
       "array([ 0.55398995,  0.67663167,  0.64516717,  0.79711798,  0.42670165])"
      ]
     },
     "execution_count": 122,
     "metadata": {},
     "output_type": "execute_result"
    }
   ],
   "source": [
    "a[:, :1].ravel()"
   ]
  },
  {
   "cell_type": "markdown",
   "metadata": {},
   "source": [
    "Probability will be calculated by having multiplied $<w, x>$ (including intercept) and getted sigmoid function from it. <br/> So: we have coefs, intercept, X, and sigmoid function, we can calculate."
   ]
  },
  {
   "cell_type": "markdown",
   "metadata": {},
   "source": [
    "Having probabilities we can assign the threshold, and having it assing label <br/ >\n",
    "There is some ways to choose threshold, one of them assign it to 0.5 another is to choose it by having banance between precision recall of classificator."
   ]
  },
  {
   "cell_type": "markdown",
   "metadata": {},
   "source": [
    "### d."
   ]
  },
  {
   "cell_type": "code",
   "execution_count": 123,
   "metadata": {
    "collapsed": false
   },
   "outputs": [
    {
     "data": {
      "text/plain": [
       "(112,)"
      ]
     },
     "execution_count": 123,
     "metadata": {},
     "output_type": "execute_result"
    }
   ],
   "source": [
    "y_test.shape"
   ]
  },
  {
   "cell_type": "code",
   "execution_count": 124,
   "metadata": {
    "collapsed": false
   },
   "outputs": [
    {
     "data": {
      "text/plain": [
       "(112,)"
      ]
     },
     "execution_count": 124,
     "metadata": {},
     "output_type": "execute_result"
    }
   ],
   "source": [
    "y_pred.shape"
   ]
  },
  {
   "cell_type": "code",
   "execution_count": 125,
   "metadata": {
    "collapsed": false
   },
   "outputs": [
    {
     "name": "stdout",
     "output_type": "stream",
     "text": [
      "             precision    recall  f1-score   support\n",
      "\n",
      "          0       0.77      0.90      0.83        77\n",
      "          1       0.64      0.40      0.49        35\n",
      "\n",
      "avg / total       0.73      0.74      0.72       112\n",
      "\n"
     ]
    }
   ],
   "source": [
    "print(classification_report(y_test, y_pred))"
   ]
  },
  {
   "cell_type": "code",
   "execution_count": 128,
   "metadata": {
    "collapsed": true
   },
   "outputs": [],
   "source": [
    "from sklearn.metrics import confusion_matrix, precision_score, recall_score, "
   ]
  },
  {
   "cell_type": "code",
   "execution_count": 140,
   "metadata": {
    "collapsed": false
   },
   "outputs": [
    {
     "name": "stdout",
     "output_type": "stream",
     "text": [
      "0.4\n",
      "0.636363636364\n"
     ]
    }
   ],
   "source": [
    "tp, fp, fn, tn = confusion_matrix(y_test, y_pred).ravel()\n",
    "print(recall_score(y_test, y_pred, pos_label=1))\n",
    "print(precision_score(y_test, y_pred, pos_label=1))"
   ]
  },
  {
   "cell_type": "code",
   "execution_count": 142,
   "metadata": {
    "collapsed": false
   },
   "outputs": [
    {
     "name": "stdout",
     "output_type": "stream",
     "text": [
      "69\n",
      "8\n",
      "21\n",
      "14\n"
     ]
    }
   ],
   "source": [
    "print(tp)\n",
    "print(fp)\n",
    "print(fn)\n",
    "print(tn)\n",
    "# We should transform this matrix, cause order is wrong (for label 0)"
   ]
  },
  {
   "cell_type": "markdown",
   "metadata": {},
   "source": [
    "### Interpretation"
   ]
  },
  {
   "cell_type": "markdown",
   "metadata": {},
   "source": [
    "True positive - is how much of objects with label 1 was interpreted as 1 <br/>\n",
    "False positive - is how much of objects with label -1 was interpreted as 1 <br/ >\n",
    "False negative - is how much of objects with label 1 was interpreted as -1 <br/ >\n",
    "True negative - is how much of objects with label -1 was interpreted as -1 <br/ >"
   ]
  },
  {
   "cell_type": "markdown",
   "metadata": {},
   "source": [
    "Metrics - <br/>\n",
    "precision - is how much of object that was labeled as 1 has label 1 for real <br/>\n",
    "recall - is how much of real object with label 1 was found <br/>\n",
    "sensivity = recall <br/>\n",
    "specifity  = recall for another <br />"
   ]
  },
  {
   "cell_type": "markdown",
   "metadata": {},
   "source": [
    "Sensivity = recall = 14/35 = 0.4 <br/>"
   ]
  },
  {
   "cell_type": "markdown",
   "metadata": {},
   "source": [
    "Specifity = recall for label 0 = 69/77= 0.89"
   ]
  },
  {
   "cell_type": "markdown",
   "metadata": {},
   "source": [
    "## e."
   ]
  },
  {
   "cell_type": "code",
   "execution_count": 143,
   "metadata": {
    "collapsed": true
   },
   "outputs": [],
   "source": [
    "from sklearn import metrics"
   ]
  },
  {
   "cell_type": "code",
   "execution_count": 155,
   "metadata": {
    "collapsed": false
   },
   "outputs": [],
   "source": [
    "y_pred_proba = fit.predict_proba(X_test)\n",
    "y_pred_proba = y_pred_proba[:,1]"
   ]
  },
  {
   "cell_type": "code",
   "execution_count": 161,
   "metadata": {
    "collapsed": false
   },
   "outputs": [],
   "source": [
    "fpr, tpr, tresholds = metrics.roc_curve(y_test, y_pred_proba)"
   ]
  },
  {
   "cell_type": "code",
   "execution_count": 163,
   "metadata": {
    "collapsed": false
   },
   "outputs": [
    {
     "data": {
      "text/plain": [
       "<matplotlib.text.Text object at 0x1141b6048>"
      ]
     },
     "execution_count": 163,
     "metadata": {},
     "output_type": "execute_result"
    },
    {
     "data": {
      "image/png": "[encoded data removed]",
      "text/plain": [
       "<matplotlib.figure.Figure object at 0x1140fb4e0>"
      ]
     },
     "metadata": {},
     "output_type": "display_data"
    }
   ],
   "source": [
    "plt.plot(fpr, tpr, label='Model')\n",
    "plt.xlabel('False positive')\n",
    "plt.ylabel('True positive')\n"
   ]
  },
  {
   "cell_type": "code",
   "execution_count": 164,
   "metadata": {
    "collapsed": false
   },
   "outputs": [
    {
     "data": {
      "text/plain": [
       "array([ 0.99951495,  0.97877773,  0.9721053 ,  0.84374283,  0.79589084,\n",
       "        0.65353028,  0.63161873,  0.63140076,  0.62980409,  0.58898153,\n",
       "        0.56137502,  0.44601005,  0.41983331,  0.41729875,  0.41491241,\n",
       "        0.38242092,  0.3723778 ,  0.36491609,  0.34998777,  0.32216131,\n",
       "        0.3204824 ,  0.31705987,  0.3008933 ,  0.30038724,  0.29823782,\n",
       "        0.29763711,  0.29721473,  0.29546313,  0.28910374,  0.2865041 ,\n",
       "        0.28162815,  0.28142706,  0.25156945,  0.2505433 ,  0.22360272,\n",
       "        0.22295047,  0.21591513,  0.21588042,  0.21444983,  0.21003133,\n",
       "        0.18934307,  0.18621885,  0.120092  ])"
      ]
     },
     "execution_count": 164,
     "metadata": {},
     "output_type": "execute_result"
    }
   ],
   "source": [
    "tresholds"
   ]
  },
  {
   "cell_type": "markdown",
   "metadata": {},
   "source": [
    "Optimal treshold - it depends on what we want to optimize"
   ]
  },
  {
   "cell_type": "code",
   "execution_count": 171,
   "metadata": {
    "collapsed": true
   },
   "outputs": [],
   "source": [
    "opt_treshold = 0.44"
   ]
  },
  {
   "cell_type": "markdown",
   "metadata": {},
   "source": [
    "## f."
   ]
  },
  {
   "cell_type": "code",
   "execution_count": 172,
   "metadata": {
    "collapsed": true
   },
   "outputs": [],
   "source": [
    "y_pred_adj = [1 if y > opt_treshold else 0 for y in y_pred_proba]"
   ]
  },
  {
   "cell_type": "code",
   "execution_count": 173,
   "metadata": {
    "collapsed": false
   },
   "outputs": [
    {
     "name": "stdout",
     "output_type": "stream",
     "text": [
      "             precision    recall  f1-score   support\n",
      "\n",
      "          0       1.00      0.98      0.99        90\n",
      "          1       0.92      1.00      0.96        22\n",
      "\n",
      "avg / total       0.98      0.98      0.98       112\n",
      "\n"
     ]
    }
   ],
   "source": [
    "print(classification_report(y_pred, y_pred_adj))"
   ]
  },
  {
   "cell_type": "markdown",
   "metadata": {},
   "source": [
    "More strict."
   ]
  },
  {
   "cell_type": "markdown",
   "metadata": {},
   "source": [
    "## 5."
   ]
  },
  {
   "cell_type": "markdown",
   "metadata": {},
   "source": [
    "### a."
   ]
  },
  {
   "cell_type": "code",
   "execution_count": 174,
   "metadata": {
    "collapsed": true
   },
   "outputs": [],
   "source": [
    "from sklearn.tree import DecisionTreeRegressor"
   ]
  },
  {
   "cell_type": "markdown",
   "metadata": {},
   "source": [
    "If the first variable for splitting is assets, we should at first find value of $t$, which can divide our set of objects, so we are minimizing $$ Q = \\dfrac{|X_{left}|}{|X_m|} * H(X_{left}) + \\dfrac{|X_{right}|}{|X_m|} * H(X_{right}) $$, where $H(X)$ is information criteria, which is the varience of labels, calculated as MSE."
   ]
  },
  {
   "cell_type": "markdown",
   "metadata": {},
   "source": [
    "### b."
   ]
  },
  {
   "cell_type": "code",
   "execution_count": 179,
   "metadata": {
    "collapsed": true
   },
   "outputs": [],
   "source": [
    "tree_regr = DecisionTreeRegressor(max_depth=10)"
   ]
  },
  {
   "cell_type": "code",
   "execution_count": 180,
   "metadata": {
    "collapsed": true
   },
   "outputs": [],
   "source": [
    "X, y = df.drop('salary', axis=1).as_matrix(), df['salary'].as_matrix()"
   ]
  },
  {
   "cell_type": "code",
   "execution_count": 181,
   "metadata": {
    "collapsed": false
   },
   "outputs": [
    {
     "data": {
      "text/plain": [
       "DecisionTreeRegressor(criterion='mse', max_depth=10, max_features=None,\n",
       "           max_leaf_nodes=None, min_impurity_split=1e-07,\n",
       "           min_samples_leaf=1, min_samples_split=2,\n",
       "           min_weight_fraction_leaf=0.0, presort=False, random_state=None,\n",
       "           splitter='best')"
      ]
     },
     "execution_count": 181,
     "metadata": {},
     "output_type": "execute_result"
    }
   ],
   "source": [
    "tree_regr.fit(X, y)"
   ]
  },
  {
   "cell_type": "code",
   "execution_count": null,
   "metadata": {
    "collapsed": true
   },
   "outputs": [],
   "source": [
    "import graphvi"
   ]
  }
 ],
 "metadata": {
  "kernelspec": {
   "display_name": "Python 3",
   "language": "python",
   "name": "python3"
  },
  "language_info": {
   "codemirror_mode": {
    "name": "ipython",
    "version": 3
   },
   "file_extension": ".py",
   "mimetype": "text/x-python",
   "name": "python",
   "nbconvert_exporter": "python",
   "pygments_lexer": "ipython3",
   "version": "3.6.0"
  }
 },
 "nbformat": 4,
 "nbformat_minor": 2
}
